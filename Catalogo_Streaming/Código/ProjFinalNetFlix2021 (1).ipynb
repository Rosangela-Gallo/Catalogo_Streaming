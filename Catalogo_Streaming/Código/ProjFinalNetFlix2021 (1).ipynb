{
  "nbformat": 4,
  "nbformat_minor": 0,
  "metadata": {
    "colab": {
      "name": "ProjFinalNetFlix2021.ipynb",
      "provenance": [],
      "collapsed_sections": []
    },
    "kernelspec": {
      "name": "python3",
      "display_name": "Python 3"
    },
    "language_info": {
      "name": "python"
    }
  },
  "cells": [
    {
      "cell_type": "markdown",
      "metadata": {
        "id": "dhmabGLQBmlX"
      },
      "source": [
        "#Parte 1 - Operações com Pandas e Python - OBS: Pequenos detalhes a serem corrigidos como a tradução das colunas e alguns insights!\n",
        "Usamos programas de TV e filmes listados no conjunto de dados Netflix do Kaggle . O conjunto de dados consiste em programas de TV e filmes disponíveis no Netflix a partir de 2008 até 2021."
      ]
    },
    {
      "cell_type": "markdown",
      "metadata": {
        "id": "ooiHApoJkkam"
      },
      "source": [
        "**Filmes e programas de TV da Netflix - Análise de dados e visualização usando Pandas e Python**"
      ]
    },
    {
      "cell_type": "code",
      "metadata": {
        "id": "quD-o8fFkcpS"
      },
      "source": [
        "#Bibliotecas de importação\n",
        "#Importando as bibliotecas de que precisamos.\n",
        "\n",
        "import numpy as np \n",
        "import pandas as pd \n",
        "import matplotlib.pyplot as plt\n",
        "import seaborn as sns\n",
        "import matplotlib.pyplot as plt"
      ],
      "execution_count": 1,
      "outputs": []
    },
    {
      "cell_type": "markdown",
      "metadata": {
        "id": "IMjpzLj-l_0K"
      },
      "source": [
        "**Carregando o conjunto de dados em CSV utilizando a biblioteca Pandas e nomenado o DataSet, como: netflix_df**\n"
      ]
    },
    {
      "cell_type": "code",
      "metadata": {
        "id": "a5-sLiN9lh_m"
      },
      "source": [
        "netflix_df = pd.read_csv(\"/content/netflix_titles.csv\")"
      ],
      "execution_count": 2,
      "outputs": []
    },
    {
      "cell_type": "markdown",
      "metadata": {
        "id": "af_bgDYKmuJV"
      },
      "source": [
        "**Verificando os primeiros 5 dados.**"
      ]
    },
    {
      "cell_type": "code",
      "metadata": {
        "colab": {
          "base_uri": "https://localhost:8080/",
          "height": 357
        },
        "id": "wqvnlN24m2Pr",
        "outputId": "26fe87bd-57f1-4d87-da76-aba9db7e0bd1"
      },
      "source": [
        "netflix_df.head()"
      ],
      "execution_count": 3,
      "outputs": [
        {
          "output_type": "execute_result",
          "data": {
            "text/html": [
              "<div>\n",
              "<style scoped>\n",
              "    .dataframe tbody tr th:only-of-type {\n",
              "        vertical-align: middle;\n",
              "    }\n",
              "\n",
              "    .dataframe tbody tr th {\n",
              "        vertical-align: top;\n",
              "    }\n",
              "\n",
              "    .dataframe thead th {\n",
              "        text-align: right;\n",
              "    }\n",
              "</style>\n",
              "<table border=\"1\" class=\"dataframe\">\n",
              "  <thead>\n",
              "    <tr style=\"text-align: right;\">\n",
              "      <th></th>\n",
              "      <th>show_id</th>\n",
              "      <th>type</th>\n",
              "      <th>title</th>\n",
              "      <th>director</th>\n",
              "      <th>cast</th>\n",
              "      <th>country</th>\n",
              "      <th>date_added</th>\n",
              "      <th>release_year</th>\n",
              "      <th>rating</th>\n",
              "      <th>duration</th>\n",
              "      <th>listed_in</th>\n",
              "      <th>description</th>\n",
              "    </tr>\n",
              "  </thead>\n",
              "  <tbody>\n",
              "    <tr>\n",
              "      <th>0</th>\n",
              "      <td>s1</td>\n",
              "      <td>Movie</td>\n",
              "      <td>Dick Johnson Is Dead</td>\n",
              "      <td>Kirsten Johnson</td>\n",
              "      <td>NaN</td>\n",
              "      <td>United States</td>\n",
              "      <td>September 25, 2021</td>\n",
              "      <td>2020</td>\n",
              "      <td>PG-13</td>\n",
              "      <td>90 min</td>\n",
              "      <td>Documentaries</td>\n",
              "      <td>As her father nears the end of his life, filmm...</td>\n",
              "    </tr>\n",
              "    <tr>\n",
              "      <th>1</th>\n",
              "      <td>s2</td>\n",
              "      <td>TV Show</td>\n",
              "      <td>Blood &amp; Water</td>\n",
              "      <td>NaN</td>\n",
              "      <td>Ama Qamata, Khosi Ngema, Gail Mabalane, Thaban...</td>\n",
              "      <td>South Africa</td>\n",
              "      <td>September 24, 2021</td>\n",
              "      <td>2021</td>\n",
              "      <td>TV-MA</td>\n",
              "      <td>2 Seasons</td>\n",
              "      <td>International TV Shows, TV Dramas, TV Mysteries</td>\n",
              "      <td>After crossing paths at a party, a Cape Town t...</td>\n",
              "    </tr>\n",
              "    <tr>\n",
              "      <th>2</th>\n",
              "      <td>s3</td>\n",
              "      <td>TV Show</td>\n",
              "      <td>Ganglands</td>\n",
              "      <td>Julien Leclercq</td>\n",
              "      <td>Sami Bouajila, Tracy Gotoas, Samuel Jouy, Nabi...</td>\n",
              "      <td>NaN</td>\n",
              "      <td>September 24, 2021</td>\n",
              "      <td>2021</td>\n",
              "      <td>TV-MA</td>\n",
              "      <td>1 Season</td>\n",
              "      <td>Crime TV Shows, International TV Shows, TV Act...</td>\n",
              "      <td>To protect his family from a powerful drug lor...</td>\n",
              "    </tr>\n",
              "    <tr>\n",
              "      <th>3</th>\n",
              "      <td>s4</td>\n",
              "      <td>TV Show</td>\n",
              "      <td>Jailbirds New Orleans</td>\n",
              "      <td>NaN</td>\n",
              "      <td>NaN</td>\n",
              "      <td>NaN</td>\n",
              "      <td>September 24, 2021</td>\n",
              "      <td>2021</td>\n",
              "      <td>TV-MA</td>\n",
              "      <td>1 Season</td>\n",
              "      <td>Docuseries, Reality TV</td>\n",
              "      <td>Feuds, flirtations and toilet talk go down amo...</td>\n",
              "    </tr>\n",
              "    <tr>\n",
              "      <th>4</th>\n",
              "      <td>s5</td>\n",
              "      <td>TV Show</td>\n",
              "      <td>Kota Factory</td>\n",
              "      <td>NaN</td>\n",
              "      <td>Mayur More, Jitendra Kumar, Ranjan Raj, Alam K...</td>\n",
              "      <td>India</td>\n",
              "      <td>September 24, 2021</td>\n",
              "      <td>2021</td>\n",
              "      <td>TV-MA</td>\n",
              "      <td>2 Seasons</td>\n",
              "      <td>International TV Shows, Romantic TV Shows, TV ...</td>\n",
              "      <td>In a city of coaching centers known to train I...</td>\n",
              "    </tr>\n",
              "  </tbody>\n",
              "</table>\n",
              "</div>"
            ],
            "text/plain": [
              "  show_id  ...                                        description\n",
              "0      s1  ...  As her father nears the end of his life, filmm...\n",
              "1      s2  ...  After crossing paths at a party, a Cape Town t...\n",
              "2      s3  ...  To protect his family from a powerful drug lor...\n",
              "3      s4  ...  Feuds, flirtations and toilet talk go down amo...\n",
              "4      s5  ...  In a city of coaching centers known to train I...\n",
              "\n",
              "[5 rows x 12 columns]"
            ]
          },
          "metadata": {},
          "execution_count": 3
        }
      ]
    },
    {
      "cell_type": "markdown",
      "metadata": {
        "id": "FVW-cNf5tf03"
      },
      "source": [
        "**Verificando os ultimos 5 dados.**"
      ]
    },
    {
      "cell_type": "code",
      "metadata": {
        "colab": {
          "base_uri": "https://localhost:8080/",
          "height": 374
        },
        "id": "EeA7YU_btBsb",
        "outputId": "f21e91ca-9972-48c0-ba6e-37bb0a9a6101"
      },
      "source": [
        "netflix_df.tail()"
      ],
      "execution_count": 4,
      "outputs": [
        {
          "output_type": "execute_result",
          "data": {
            "text/html": [
              "<div>\n",
              "<style scoped>\n",
              "    .dataframe tbody tr th:only-of-type {\n",
              "        vertical-align: middle;\n",
              "    }\n",
              "\n",
              "    .dataframe tbody tr th {\n",
              "        vertical-align: top;\n",
              "    }\n",
              "\n",
              "    .dataframe thead th {\n",
              "        text-align: right;\n",
              "    }\n",
              "</style>\n",
              "<table border=\"1\" class=\"dataframe\">\n",
              "  <thead>\n",
              "    <tr style=\"text-align: right;\">\n",
              "      <th></th>\n",
              "      <th>show_id</th>\n",
              "      <th>type</th>\n",
              "      <th>title</th>\n",
              "      <th>director</th>\n",
              "      <th>cast</th>\n",
              "      <th>country</th>\n",
              "      <th>date_added</th>\n",
              "      <th>release_year</th>\n",
              "      <th>rating</th>\n",
              "      <th>duration</th>\n",
              "      <th>listed_in</th>\n",
              "      <th>description</th>\n",
              "    </tr>\n",
              "  </thead>\n",
              "  <tbody>\n",
              "    <tr>\n",
              "      <th>8802</th>\n",
              "      <td>s8803</td>\n",
              "      <td>Movie</td>\n",
              "      <td>Zodiac</td>\n",
              "      <td>David Fincher</td>\n",
              "      <td>Mark Ruffalo, Jake Gyllenhaal, Robert Downey J...</td>\n",
              "      <td>United States</td>\n",
              "      <td>November 20, 2019</td>\n",
              "      <td>2007</td>\n",
              "      <td>R</td>\n",
              "      <td>158 min</td>\n",
              "      <td>Cult Movies, Dramas, Thrillers</td>\n",
              "      <td>A political cartoonist, a crime reporter and a...</td>\n",
              "    </tr>\n",
              "    <tr>\n",
              "      <th>8803</th>\n",
              "      <td>s8804</td>\n",
              "      <td>TV Show</td>\n",
              "      <td>Zombie Dumb</td>\n",
              "      <td>NaN</td>\n",
              "      <td>NaN</td>\n",
              "      <td>NaN</td>\n",
              "      <td>July 1, 2019</td>\n",
              "      <td>2018</td>\n",
              "      <td>TV-Y7</td>\n",
              "      <td>2 Seasons</td>\n",
              "      <td>Kids' TV, Korean TV Shows, TV Comedies</td>\n",
              "      <td>While living alone in a spooky town, a young g...</td>\n",
              "    </tr>\n",
              "    <tr>\n",
              "      <th>8804</th>\n",
              "      <td>s8805</td>\n",
              "      <td>Movie</td>\n",
              "      <td>Zombieland</td>\n",
              "      <td>Ruben Fleischer</td>\n",
              "      <td>Jesse Eisenberg, Woody Harrelson, Emma Stone, ...</td>\n",
              "      <td>United States</td>\n",
              "      <td>November 1, 2019</td>\n",
              "      <td>2009</td>\n",
              "      <td>R</td>\n",
              "      <td>88 min</td>\n",
              "      <td>Comedies, Horror Movies</td>\n",
              "      <td>Looking to survive in a world taken over by zo...</td>\n",
              "    </tr>\n",
              "    <tr>\n",
              "      <th>8805</th>\n",
              "      <td>s8806</td>\n",
              "      <td>Movie</td>\n",
              "      <td>Zoom</td>\n",
              "      <td>Peter Hewitt</td>\n",
              "      <td>Tim Allen, Courteney Cox, Chevy Chase, Kate Ma...</td>\n",
              "      <td>United States</td>\n",
              "      <td>January 11, 2020</td>\n",
              "      <td>2006</td>\n",
              "      <td>PG</td>\n",
              "      <td>88 min</td>\n",
              "      <td>Children &amp; Family Movies, Comedies</td>\n",
              "      <td>Dragged from civilian life, a former superhero...</td>\n",
              "    </tr>\n",
              "    <tr>\n",
              "      <th>8806</th>\n",
              "      <td>s8807</td>\n",
              "      <td>Movie</td>\n",
              "      <td>Zubaan</td>\n",
              "      <td>Mozez Singh</td>\n",
              "      <td>Vicky Kaushal, Sarah-Jane Dias, Raaghav Chanan...</td>\n",
              "      <td>India</td>\n",
              "      <td>March 2, 2019</td>\n",
              "      <td>2015</td>\n",
              "      <td>TV-14</td>\n",
              "      <td>111 min</td>\n",
              "      <td>Dramas, International Movies, Music &amp; Musicals</td>\n",
              "      <td>A scrappy but poor boy worms his way into a ty...</td>\n",
              "    </tr>\n",
              "  </tbody>\n",
              "</table>\n",
              "</div>"
            ],
            "text/plain": [
              "     show_id  ...                                        description\n",
              "8802   s8803  ...  A political cartoonist, a crime reporter and a...\n",
              "8803   s8804  ...  While living alone in a spooky town, a young g...\n",
              "8804   s8805  ...  Looking to survive in a world taken over by zo...\n",
              "8805   s8806  ...  Dragged from civilian life, a former superhero...\n",
              "8806   s8807  ...  A scrappy but poor boy worms his way into a ty...\n",
              "\n",
              "[5 rows x 12 columns]"
            ]
          },
          "metadata": {},
          "execution_count": 4
        }
      ]
    },
    {
      "cell_type": "markdown",
      "metadata": {
        "id": "dOrJlIIn23a2"
      },
      "source": [
        "# Verificação de todo DataFrame"
      ]
    },
    {
      "cell_type": "code",
      "metadata": {
        "colab": {
          "base_uri": "https://localhost:8080/",
          "height": 759
        },
        "id": "L-NjQjSIHBTQ",
        "outputId": "e0f92b68-22c6-474d-d93c-95064ea8d395"
      },
      "source": [
        "netflix_df"
      ],
      "execution_count": 5,
      "outputs": [
        {
          "output_type": "execute_result",
          "data": {
            "text/html": [
              "<div>\n",
              "<style scoped>\n",
              "    .dataframe tbody tr th:only-of-type {\n",
              "        vertical-align: middle;\n",
              "    }\n",
              "\n",
              "    .dataframe tbody tr th {\n",
              "        vertical-align: top;\n",
              "    }\n",
              "\n",
              "    .dataframe thead th {\n",
              "        text-align: right;\n",
              "    }\n",
              "</style>\n",
              "<table border=\"1\" class=\"dataframe\">\n",
              "  <thead>\n",
              "    <tr style=\"text-align: right;\">\n",
              "      <th></th>\n",
              "      <th>show_id</th>\n",
              "      <th>type</th>\n",
              "      <th>title</th>\n",
              "      <th>director</th>\n",
              "      <th>cast</th>\n",
              "      <th>country</th>\n",
              "      <th>date_added</th>\n",
              "      <th>release_year</th>\n",
              "      <th>rating</th>\n",
              "      <th>duration</th>\n",
              "      <th>listed_in</th>\n",
              "      <th>description</th>\n",
              "    </tr>\n",
              "  </thead>\n",
              "  <tbody>\n",
              "    <tr>\n",
              "      <th>0</th>\n",
              "      <td>s1</td>\n",
              "      <td>Movie</td>\n",
              "      <td>Dick Johnson Is Dead</td>\n",
              "      <td>Kirsten Johnson</td>\n",
              "      <td>NaN</td>\n",
              "      <td>United States</td>\n",
              "      <td>September 25, 2021</td>\n",
              "      <td>2020</td>\n",
              "      <td>PG-13</td>\n",
              "      <td>90 min</td>\n",
              "      <td>Documentaries</td>\n",
              "      <td>As her father nears the end of his life, filmm...</td>\n",
              "    </tr>\n",
              "    <tr>\n",
              "      <th>1</th>\n",
              "      <td>s2</td>\n",
              "      <td>TV Show</td>\n",
              "      <td>Blood &amp; Water</td>\n",
              "      <td>NaN</td>\n",
              "      <td>Ama Qamata, Khosi Ngema, Gail Mabalane, Thaban...</td>\n",
              "      <td>South Africa</td>\n",
              "      <td>September 24, 2021</td>\n",
              "      <td>2021</td>\n",
              "      <td>TV-MA</td>\n",
              "      <td>2 Seasons</td>\n",
              "      <td>International TV Shows, TV Dramas, TV Mysteries</td>\n",
              "      <td>After crossing paths at a party, a Cape Town t...</td>\n",
              "    </tr>\n",
              "    <tr>\n",
              "      <th>2</th>\n",
              "      <td>s3</td>\n",
              "      <td>TV Show</td>\n",
              "      <td>Ganglands</td>\n",
              "      <td>Julien Leclercq</td>\n",
              "      <td>Sami Bouajila, Tracy Gotoas, Samuel Jouy, Nabi...</td>\n",
              "      <td>NaN</td>\n",
              "      <td>September 24, 2021</td>\n",
              "      <td>2021</td>\n",
              "      <td>TV-MA</td>\n",
              "      <td>1 Season</td>\n",
              "      <td>Crime TV Shows, International TV Shows, TV Act...</td>\n",
              "      <td>To protect his family from a powerful drug lor...</td>\n",
              "    </tr>\n",
              "    <tr>\n",
              "      <th>3</th>\n",
              "      <td>s4</td>\n",
              "      <td>TV Show</td>\n",
              "      <td>Jailbirds New Orleans</td>\n",
              "      <td>NaN</td>\n",
              "      <td>NaN</td>\n",
              "      <td>NaN</td>\n",
              "      <td>September 24, 2021</td>\n",
              "      <td>2021</td>\n",
              "      <td>TV-MA</td>\n",
              "      <td>1 Season</td>\n",
              "      <td>Docuseries, Reality TV</td>\n",
              "      <td>Feuds, flirtations and toilet talk go down amo...</td>\n",
              "    </tr>\n",
              "    <tr>\n",
              "      <th>4</th>\n",
              "      <td>s5</td>\n",
              "      <td>TV Show</td>\n",
              "      <td>Kota Factory</td>\n",
              "      <td>NaN</td>\n",
              "      <td>Mayur More, Jitendra Kumar, Ranjan Raj, Alam K...</td>\n",
              "      <td>India</td>\n",
              "      <td>September 24, 2021</td>\n",
              "      <td>2021</td>\n",
              "      <td>TV-MA</td>\n",
              "      <td>2 Seasons</td>\n",
              "      <td>International TV Shows, Romantic TV Shows, TV ...</td>\n",
              "      <td>In a city of coaching centers known to train I...</td>\n",
              "    </tr>\n",
              "    <tr>\n",
              "      <th>...</th>\n",
              "      <td>...</td>\n",
              "      <td>...</td>\n",
              "      <td>...</td>\n",
              "      <td>...</td>\n",
              "      <td>...</td>\n",
              "      <td>...</td>\n",
              "      <td>...</td>\n",
              "      <td>...</td>\n",
              "      <td>...</td>\n",
              "      <td>...</td>\n",
              "      <td>...</td>\n",
              "      <td>...</td>\n",
              "    </tr>\n",
              "    <tr>\n",
              "      <th>8802</th>\n",
              "      <td>s8803</td>\n",
              "      <td>Movie</td>\n",
              "      <td>Zodiac</td>\n",
              "      <td>David Fincher</td>\n",
              "      <td>Mark Ruffalo, Jake Gyllenhaal, Robert Downey J...</td>\n",
              "      <td>United States</td>\n",
              "      <td>November 20, 2019</td>\n",
              "      <td>2007</td>\n",
              "      <td>R</td>\n",
              "      <td>158 min</td>\n",
              "      <td>Cult Movies, Dramas, Thrillers</td>\n",
              "      <td>A political cartoonist, a crime reporter and a...</td>\n",
              "    </tr>\n",
              "    <tr>\n",
              "      <th>8803</th>\n",
              "      <td>s8804</td>\n",
              "      <td>TV Show</td>\n",
              "      <td>Zombie Dumb</td>\n",
              "      <td>NaN</td>\n",
              "      <td>NaN</td>\n",
              "      <td>NaN</td>\n",
              "      <td>July 1, 2019</td>\n",
              "      <td>2018</td>\n",
              "      <td>TV-Y7</td>\n",
              "      <td>2 Seasons</td>\n",
              "      <td>Kids' TV, Korean TV Shows, TV Comedies</td>\n",
              "      <td>While living alone in a spooky town, a young g...</td>\n",
              "    </tr>\n",
              "    <tr>\n",
              "      <th>8804</th>\n",
              "      <td>s8805</td>\n",
              "      <td>Movie</td>\n",
              "      <td>Zombieland</td>\n",
              "      <td>Ruben Fleischer</td>\n",
              "      <td>Jesse Eisenberg, Woody Harrelson, Emma Stone, ...</td>\n",
              "      <td>United States</td>\n",
              "      <td>November 1, 2019</td>\n",
              "      <td>2009</td>\n",
              "      <td>R</td>\n",
              "      <td>88 min</td>\n",
              "      <td>Comedies, Horror Movies</td>\n",
              "      <td>Looking to survive in a world taken over by zo...</td>\n",
              "    </tr>\n",
              "    <tr>\n",
              "      <th>8805</th>\n",
              "      <td>s8806</td>\n",
              "      <td>Movie</td>\n",
              "      <td>Zoom</td>\n",
              "      <td>Peter Hewitt</td>\n",
              "      <td>Tim Allen, Courteney Cox, Chevy Chase, Kate Ma...</td>\n",
              "      <td>United States</td>\n",
              "      <td>January 11, 2020</td>\n",
              "      <td>2006</td>\n",
              "      <td>PG</td>\n",
              "      <td>88 min</td>\n",
              "      <td>Children &amp; Family Movies, Comedies</td>\n",
              "      <td>Dragged from civilian life, a former superhero...</td>\n",
              "    </tr>\n",
              "    <tr>\n",
              "      <th>8806</th>\n",
              "      <td>s8807</td>\n",
              "      <td>Movie</td>\n",
              "      <td>Zubaan</td>\n",
              "      <td>Mozez Singh</td>\n",
              "      <td>Vicky Kaushal, Sarah-Jane Dias, Raaghav Chanan...</td>\n",
              "      <td>India</td>\n",
              "      <td>March 2, 2019</td>\n",
              "      <td>2015</td>\n",
              "      <td>TV-14</td>\n",
              "      <td>111 min</td>\n",
              "      <td>Dramas, International Movies, Music &amp; Musicals</td>\n",
              "      <td>A scrappy but poor boy worms his way into a ty...</td>\n",
              "    </tr>\n",
              "  </tbody>\n",
              "</table>\n",
              "<p>8807 rows × 12 columns</p>\n",
              "</div>"
            ],
            "text/plain": [
              "     show_id  ...                                        description\n",
              "0         s1  ...  As her father nears the end of his life, filmm...\n",
              "1         s2  ...  After crossing paths at a party, a Cape Town t...\n",
              "2         s3  ...  To protect his family from a powerful drug lor...\n",
              "3         s4  ...  Feuds, flirtations and toilet talk go down amo...\n",
              "4         s5  ...  In a city of coaching centers known to train I...\n",
              "...      ...  ...                                                ...\n",
              "8802   s8803  ...  A political cartoonist, a crime reporter and a...\n",
              "8803   s8804  ...  While living alone in a spooky town, a young g...\n",
              "8804   s8805  ...  Looking to survive in a world taken over by zo...\n",
              "8805   s8806  ...  Dragged from civilian life, a former superhero...\n",
              "8806   s8807  ...  A scrappy but poor boy worms his way into a ty...\n",
              "\n",
              "[8807 rows x 12 columns]"
            ]
          },
          "metadata": {},
          "execution_count": 5
        }
      ]
    },
    {
      "cell_type": "code",
      "metadata": {
        "colab": {
          "base_uri": "https://localhost:8080/"
        },
        "id": "kP4P6cxjtT8d",
        "outputId": "7891bfdb-bc2a-4672-a28d-9edbcdcda03a"
      },
      "source": [
        "netflix_df.shape"
      ],
      "execution_count": 6,
      "outputs": [
        {
          "output_type": "execute_result",
          "data": {
            "text/plain": [
              "(8807, 12)"
            ]
          },
          "metadata": {},
          "execution_count": 6
        }
      ]
    },
    {
      "cell_type": "markdown",
      "metadata": {
        "id": "DoJCwL57uykl"
      },
      "source": [
        "**Descrição em números, percentual e medianas pelo ano de lançamento**"
      ]
    },
    {
      "cell_type": "code",
      "metadata": {
        "colab": {
          "base_uri": "https://localhost:8080/",
          "height": 297
        },
        "id": "krNGKQ_-ugTl",
        "outputId": "d468e9fc-bcfb-4baf-a0f4-686e767b7888"
      },
      "source": [
        "netflix_df.describe()"
      ],
      "execution_count": 7,
      "outputs": [
        {
          "output_type": "execute_result",
          "data": {
            "text/html": [
              "<div>\n",
              "<style scoped>\n",
              "    .dataframe tbody tr th:only-of-type {\n",
              "        vertical-align: middle;\n",
              "    }\n",
              "\n",
              "    .dataframe tbody tr th {\n",
              "        vertical-align: top;\n",
              "    }\n",
              "\n",
              "    .dataframe thead th {\n",
              "        text-align: right;\n",
              "    }\n",
              "</style>\n",
              "<table border=\"1\" class=\"dataframe\">\n",
              "  <thead>\n",
              "    <tr style=\"text-align: right;\">\n",
              "      <th></th>\n",
              "      <th>release_year</th>\n",
              "    </tr>\n",
              "  </thead>\n",
              "  <tbody>\n",
              "    <tr>\n",
              "      <th>count</th>\n",
              "      <td>8807.000000</td>\n",
              "    </tr>\n",
              "    <tr>\n",
              "      <th>mean</th>\n",
              "      <td>2014.180198</td>\n",
              "    </tr>\n",
              "    <tr>\n",
              "      <th>std</th>\n",
              "      <td>8.819312</td>\n",
              "    </tr>\n",
              "    <tr>\n",
              "      <th>min</th>\n",
              "      <td>1925.000000</td>\n",
              "    </tr>\n",
              "    <tr>\n",
              "      <th>25%</th>\n",
              "      <td>2013.000000</td>\n",
              "    </tr>\n",
              "    <tr>\n",
              "      <th>50%</th>\n",
              "      <td>2017.000000</td>\n",
              "    </tr>\n",
              "    <tr>\n",
              "      <th>75%</th>\n",
              "      <td>2019.000000</td>\n",
              "    </tr>\n",
              "    <tr>\n",
              "      <th>max</th>\n",
              "      <td>2021.000000</td>\n",
              "    </tr>\n",
              "  </tbody>\n",
              "</table>\n",
              "</div>"
            ],
            "text/plain": [
              "       release_year\n",
              "count   8807.000000\n",
              "mean    2014.180198\n",
              "std        8.819312\n",
              "min     1925.000000\n",
              "25%     2013.000000\n",
              "50%     2017.000000\n",
              "75%     2019.000000\n",
              "max     2021.000000"
            ]
          },
          "metadata": {},
          "execution_count": 7
        }
      ]
    },
    {
      "cell_type": "markdown",
      "metadata": {
        "id": "jUicZXvpvgI_"
      },
      "source": [
        "**Verificando existencia de arquivos duplicados e somando caso exista**"
      ]
    },
    {
      "cell_type": "code",
      "metadata": {
        "colab": {
          "base_uri": "https://localhost:8080/"
        },
        "id": "m4sRy3Niva64",
        "outputId": "5ac5a6b6-654b-4cbd-bba4-e3be8ae691d4"
      },
      "source": [
        "netflix_df.duplicated().sum()"
      ],
      "execution_count": 8,
      "outputs": [
        {
          "output_type": "execute_result",
          "data": {
            "text/plain": [
              "0"
            ]
          },
          "metadata": {},
          "execution_count": 8
        }
      ]
    },
    {
      "cell_type": "markdown",
      "metadata": {
        "id": "ETa3Z48Xqe3D"
      },
      "source": [
        "**O conjunto de dados contém mais de 8807 linhas e 12 colunas. Após uma rápida visualização dos dados, encontramos dados de filme / TV sem classificações. Também podemos ver que existem valores NaN em algumas colunas na visualização logo abaixo.**"
      ]
    },
    {
      "cell_type": "code",
      "metadata": {
        "colab": {
          "base_uri": "https://localhost:8080/"
        },
        "id": "1R7T5Jpuqh1Q",
        "outputId": "b8b6f78d-8a7c-4992-fcee-6ea0ff7ff1d9"
      },
      "source": [
        "#Verificação Das Colunas\n",
        "netflix_df.columns"
      ],
      "execution_count": 9,
      "outputs": [
        {
          "output_type": "execute_result",
          "data": {
            "text/plain": [
              "Index(['show_id', 'type', 'title', 'director', 'cast', 'country', 'date_added',\n",
              "       'release_year', 'rating', 'duration', 'listed_in', 'description'],\n",
              "      dtype='object')"
            ]
          },
          "metadata": {},
          "execution_count": 9
        }
      ]
    },
    {
      "cell_type": "markdown",
      "metadata": {
        "id": "x7PEmLSArekr"
      },
      "source": [
        "**Preparação e limpeza de dados**\n",
        "\n",
        "**Limpeza de dados significa o processo de identificar dados incorretos, incompletos, imprecisos, irrelevantes ou ausentes e, em seguida, modificá-los, substituí-los ou excluí-los conforme necessário. A limpeza de dados é considerada um dos elementos básicos da engenharia de dados.**"
      ]
    },
    {
      "cell_type": "code",
      "metadata": {
        "colab": {
          "base_uri": "https://localhost:8080/"
        },
        "id": "eicbq-BVrf8Q",
        "outputId": "9ed7e87b-1993-4d08-b1a0-02cef539cdaa"
      },
      "source": [
        "netflix_df.info()"
      ],
      "execution_count": 10,
      "outputs": [
        {
          "output_type": "stream",
          "name": "stdout",
          "text": [
            "<class 'pandas.core.frame.DataFrame'>\n",
            "RangeIndex: 8807 entries, 0 to 8806\n",
            "Data columns (total 12 columns):\n",
            " #   Column        Non-Null Count  Dtype \n",
            "---  ------        --------------  ----- \n",
            " 0   show_id       8807 non-null   object\n",
            " 1   type          8807 non-null   object\n",
            " 2   title         8807 non-null   object\n",
            " 3   director      6173 non-null   object\n",
            " 4   cast          7982 non-null   object\n",
            " 5   country       7976 non-null   object\n",
            " 6   date_added    8797 non-null   object\n",
            " 7   release_year  8807 non-null   int64 \n",
            " 8   rating        8803 non-null   object\n",
            " 9   duration      8804 non-null   object\n",
            " 10  listed_in     8807 non-null   object\n",
            " 11  description   8807 non-null   object\n",
            "dtypes: int64(1), object(11)\n",
            "memory usage: 825.8+ KB\n"
          ]
        }
      ]
    },
    {
      "cell_type": "markdown",
      "metadata": {
        "id": "lL5euVqvr2or"
      },
      "source": [
        "**Pelas informações, sabemos que existem 8807 linhas e 12 colunas para trabalhar neste DataFrame. Existem algumas colunas que contêm valores nulos,  \"Diretor\", \"Elenco\", \"Pais\", \"Data_Adicao\", \"Avaliacao\".**\n",
        "\n",
        "**Colunas que possuem valor ausente**"
      ]
    },
    {
      "cell_type": "code",
      "metadata": {
        "colab": {
          "base_uri": "https://localhost:8080/"
        },
        "id": "DluB0J8csIol",
        "outputId": "05b1f2c2-dcc8-43c1-e530-bc84ee9385f0"
      },
      "source": [
        "print('\\nColumns with missing value:') \n",
        "print(netflix_df.isnull().any())"
      ],
      "execution_count": 11,
      "outputs": [
        {
          "output_type": "stream",
          "name": "stdout",
          "text": [
            "\n",
            "Columns with missing value:\n",
            "show_id         False\n",
            "type            False\n",
            "title           False\n",
            "director         True\n",
            "cast             True\n",
            "country          True\n",
            "date_added       True\n",
            "release_year    False\n",
            "rating           True\n",
            "duration         True\n",
            "listed_in       False\n",
            "description     False\n",
            "dtype: bool\n"
          ]
        }
      ]
    },
    {
      "cell_type": "markdown",
      "metadata": {
        "id": "rfaIR2Jlxhif"
      },
      "source": [
        "**Utilização laço de repetição FOR IN para verificação em percentual dos valores ausentes com utilização da formtação, f'STRING**"
      ]
    },
    {
      "cell_type": "code",
      "metadata": {
        "colab": {
          "base_uri": "https://localhost:8080/"
        },
        "id": "-8sg1Ov6w-HB",
        "outputId": "a206ffca-b8a6-4def-f788-1bcabae40e27"
      },
      "source": [
        "for i in netflix_df.columns:\n",
        "    null_rate = netflix_df[i].isna().sum()/len(netflix_df) * 100\n",
        "    if null_rate > 0 :\n",
        "        print(\"{} null rate: {}%\".format(i,round(null_rate,2)))"
      ],
      "execution_count": 12,
      "outputs": [
        {
          "output_type": "stream",
          "name": "stdout",
          "text": [
            "director null rate: 29.91%\n",
            "cast null rate: 9.37%\n",
            "country null rate: 9.44%\n",
            "date_added null rate: 0.11%\n",
            "rating null rate: 0.05%\n",
            "duration null rate: 0.03%\n"
          ]
        }
      ]
    },
    {
      "cell_type": "code",
      "metadata": {
        "colab": {
          "base_uri": "https://localhost:8080/"
        },
        "id": "8uemzHZctGI_",
        "outputId": "d51b6d66-f0cf-408c-a297-ad2f27f3fad5"
      },
      "source": [
        "netflix_df.T.apply(lambda x: x.isnull().sum(), axis = 1)"
      ],
      "execution_count": 13,
      "outputs": [
        {
          "output_type": "execute_result",
          "data": {
            "text/plain": [
              "show_id            0\n",
              "type               0\n",
              "title              0\n",
              "director        2634\n",
              "cast             825\n",
              "country          831\n",
              "date_added        10\n",
              "release_year       0\n",
              "rating             4\n",
              "duration           3\n",
              "listed_in          0\n",
              "description        0\n",
              "dtype: int64"
            ]
          },
          "metadata": {},
          "execution_count": 13
        }
      ]
    },
    {
      "cell_type": "code",
      "metadata": {
        "colab": {
          "base_uri": "https://localhost:8080/"
        },
        "id": "ke1MLGqbtWKe",
        "outputId": "9e3e4465-1f3e-4152-930e-76d22c682c4f"
      },
      "source": [
        "netflix_df.isnull().sum().sum()"
      ],
      "execution_count": 14,
      "outputs": [
        {
          "output_type": "execute_result",
          "data": {
            "text/plain": [
              "4307"
            ]
          },
          "metadata": {},
          "execution_count": 14
        }
      ]
    },
    {
      "cell_type": "markdown",
      "metadata": {
        "id": "CKmu2CPBtb-u"
      },
      "source": [
        "**Há um total de 4.307 valores nulos em todo o conjunto de dados com 2.634 pontos ausentes em \"Diretor\", 825 em \"Elenco\", 831 em \"Pais\", 10 em \"Data_Adicao\", 4 em \"Avaliacao\" e 3 em \"Duracao. Teremos que lidar com todos os pontos de dados nulos antes de mergulharmos na modelagem.**\n",
        "\n",
        "**A imputação é um método de tratamento para valores ausentes, preenchendo-os com o uso de certas técnicas. Pode-se usar a média(mean), modo ou modelagem preditiva. Neste módulo, discutiremos o uso da função fillna do Pandas para esta imputação. Tratando as linhas que contêm valores ausentes. Podemos também usar a função dropna do Pandas.**"
      ]
    },
    {
      "cell_type": "code",
      "metadata": {
        "id": "KKzHbrkPudUe"
      },
      "source": [
        "netflix_df['country'] = netflix_df['country'].fillna(netflix_df['country'].mode()[0])\n",
        "netflix_df['cast'].replace(np.nan,'No data',inplace=True)\n",
        "netflix_df['director'].replace(np.nan,'No data',inplace=True)\n",
        "netflix_df.dropna(inplace=True)\n",
        "netflix_df.drop_duplicates(inplace=True)"
      ],
      "execution_count": 15,
      "outputs": []
    },
    {
      "cell_type": "markdown",
      "metadata": {
        "id": "DBOQFQaquvET"
      },
      "source": [
        "**A maneira mais fácil de se livrar deles seria excluir as linhas com os dados ausentes para os valores ausentes. No entanto, isso não seria benéfico para nosso DataFrame, pois é uma perda de informações. Como “Diretor”, “Elenco” e “Pais” contêm a maioria dos valores nulos, optamos por tratar cada valor ausente que está indisponível. Os outros dois rótulos “Data_Adicao” e “Avaliacao” contêm uma parte insignificante dos dados, portanto, eles são excluídos do conjunto de dados. Finalmente, podemos ver que não há mais valores ausentes no quadro de dados.**"
      ]
    },
    {
      "cell_type": "code",
      "metadata": {
        "colab": {
          "base_uri": "https://localhost:8080/"
        },
        "id": "myJPcnGBuwXy",
        "outputId": "9bf6dc2f-69a1-426c-e555-8b1f4342c85d"
      },
      "source": [
        "netflix_df.isnull().any()"
      ],
      "execution_count": 16,
      "outputs": [
        {
          "output_type": "execute_result",
          "data": {
            "text/plain": [
              "show_id         False\n",
              "type            False\n",
              "title           False\n",
              "director        False\n",
              "cast            False\n",
              "country         False\n",
              "date_added      False\n",
              "release_year    False\n",
              "rating          False\n",
              "duration        False\n",
              "listed_in       False\n",
              "description     False\n",
              "dtype: bool"
            ]
          },
          "metadata": {},
          "execution_count": 16
        }
      ]
    },
    {
      "cell_type": "markdown",
      "metadata": {
        "id": "3o_oNt1Av6FW"
      },
      "source": [
        "**Análise e Visualização --**\n",
        "**Análise do conjunto de dados Netflix composto por filmes e programas**"
      ]
    },
    {
      "cell_type": "code",
      "metadata": {
        "colab": {
          "base_uri": "https://localhost:8080/",
          "height": 767
        },
        "id": "NN2MZHlgwC5j",
        "outputId": "615c3945-4b0c-4eba-844f-b2b0170b104e"
      },
      "source": [
        "netflix_df.head(10)"
      ],
      "execution_count": 17,
      "outputs": [
        {
          "output_type": "execute_result",
          "data": {
            "text/html": [
              "<div>\n",
              "<style scoped>\n",
              "    .dataframe tbody tr th:only-of-type {\n",
              "        vertical-align: middle;\n",
              "    }\n",
              "\n",
              "    .dataframe tbody tr th {\n",
              "        vertical-align: top;\n",
              "    }\n",
              "\n",
              "    .dataframe thead th {\n",
              "        text-align: right;\n",
              "    }\n",
              "</style>\n",
              "<table border=\"1\" class=\"dataframe\">\n",
              "  <thead>\n",
              "    <tr style=\"text-align: right;\">\n",
              "      <th></th>\n",
              "      <th>show_id</th>\n",
              "      <th>type</th>\n",
              "      <th>title</th>\n",
              "      <th>director</th>\n",
              "      <th>cast</th>\n",
              "      <th>country</th>\n",
              "      <th>date_added</th>\n",
              "      <th>release_year</th>\n",
              "      <th>rating</th>\n",
              "      <th>duration</th>\n",
              "      <th>listed_in</th>\n",
              "      <th>description</th>\n",
              "    </tr>\n",
              "  </thead>\n",
              "  <tbody>\n",
              "    <tr>\n",
              "      <th>0</th>\n",
              "      <td>s1</td>\n",
              "      <td>Movie</td>\n",
              "      <td>Dick Johnson Is Dead</td>\n",
              "      <td>Kirsten Johnson</td>\n",
              "      <td>No data</td>\n",
              "      <td>United States</td>\n",
              "      <td>September 25, 2021</td>\n",
              "      <td>2020</td>\n",
              "      <td>PG-13</td>\n",
              "      <td>90 min</td>\n",
              "      <td>Documentaries</td>\n",
              "      <td>As her father nears the end of his life, filmm...</td>\n",
              "    </tr>\n",
              "    <tr>\n",
              "      <th>1</th>\n",
              "      <td>s2</td>\n",
              "      <td>TV Show</td>\n",
              "      <td>Blood &amp; Water</td>\n",
              "      <td>No data</td>\n",
              "      <td>Ama Qamata, Khosi Ngema, Gail Mabalane, Thaban...</td>\n",
              "      <td>South Africa</td>\n",
              "      <td>September 24, 2021</td>\n",
              "      <td>2021</td>\n",
              "      <td>TV-MA</td>\n",
              "      <td>2 Seasons</td>\n",
              "      <td>International TV Shows, TV Dramas, TV Mysteries</td>\n",
              "      <td>After crossing paths at a party, a Cape Town t...</td>\n",
              "    </tr>\n",
              "    <tr>\n",
              "      <th>2</th>\n",
              "      <td>s3</td>\n",
              "      <td>TV Show</td>\n",
              "      <td>Ganglands</td>\n",
              "      <td>Julien Leclercq</td>\n",
              "      <td>Sami Bouajila, Tracy Gotoas, Samuel Jouy, Nabi...</td>\n",
              "      <td>United States</td>\n",
              "      <td>September 24, 2021</td>\n",
              "      <td>2021</td>\n",
              "      <td>TV-MA</td>\n",
              "      <td>1 Season</td>\n",
              "      <td>Crime TV Shows, International TV Shows, TV Act...</td>\n",
              "      <td>To protect his family from a powerful drug lor...</td>\n",
              "    </tr>\n",
              "    <tr>\n",
              "      <th>3</th>\n",
              "      <td>s4</td>\n",
              "      <td>TV Show</td>\n",
              "      <td>Jailbirds New Orleans</td>\n",
              "      <td>No data</td>\n",
              "      <td>No data</td>\n",
              "      <td>United States</td>\n",
              "      <td>September 24, 2021</td>\n",
              "      <td>2021</td>\n",
              "      <td>TV-MA</td>\n",
              "      <td>1 Season</td>\n",
              "      <td>Docuseries, Reality TV</td>\n",
              "      <td>Feuds, flirtations and toilet talk go down amo...</td>\n",
              "    </tr>\n",
              "    <tr>\n",
              "      <th>4</th>\n",
              "      <td>s5</td>\n",
              "      <td>TV Show</td>\n",
              "      <td>Kota Factory</td>\n",
              "      <td>No data</td>\n",
              "      <td>Mayur More, Jitendra Kumar, Ranjan Raj, Alam K...</td>\n",
              "      <td>India</td>\n",
              "      <td>September 24, 2021</td>\n",
              "      <td>2021</td>\n",
              "      <td>TV-MA</td>\n",
              "      <td>2 Seasons</td>\n",
              "      <td>International TV Shows, Romantic TV Shows, TV ...</td>\n",
              "      <td>In a city of coaching centers known to train I...</td>\n",
              "    </tr>\n",
              "    <tr>\n",
              "      <th>5</th>\n",
              "      <td>s6</td>\n",
              "      <td>TV Show</td>\n",
              "      <td>Midnight Mass</td>\n",
              "      <td>Mike Flanagan</td>\n",
              "      <td>Kate Siegel, Zach Gilford, Hamish Linklater, H...</td>\n",
              "      <td>United States</td>\n",
              "      <td>September 24, 2021</td>\n",
              "      <td>2021</td>\n",
              "      <td>TV-MA</td>\n",
              "      <td>1 Season</td>\n",
              "      <td>TV Dramas, TV Horror, TV Mysteries</td>\n",
              "      <td>The arrival of a charismatic young priest brin...</td>\n",
              "    </tr>\n",
              "    <tr>\n",
              "      <th>6</th>\n",
              "      <td>s7</td>\n",
              "      <td>Movie</td>\n",
              "      <td>My Little Pony: A New Generation</td>\n",
              "      <td>Robert Cullen, José Luis Ucha</td>\n",
              "      <td>Vanessa Hudgens, Kimiko Glenn, James Marsden, ...</td>\n",
              "      <td>United States</td>\n",
              "      <td>September 24, 2021</td>\n",
              "      <td>2021</td>\n",
              "      <td>PG</td>\n",
              "      <td>91 min</td>\n",
              "      <td>Children &amp; Family Movies</td>\n",
              "      <td>Equestria's divided. But a bright-eyed hero be...</td>\n",
              "    </tr>\n",
              "    <tr>\n",
              "      <th>7</th>\n",
              "      <td>s8</td>\n",
              "      <td>Movie</td>\n",
              "      <td>Sankofa</td>\n",
              "      <td>Haile Gerima</td>\n",
              "      <td>Kofi Ghanaba, Oyafunmike Ogunlano, Alexandra D...</td>\n",
              "      <td>United States, Ghana, Burkina Faso, United Kin...</td>\n",
              "      <td>September 24, 2021</td>\n",
              "      <td>1993</td>\n",
              "      <td>TV-MA</td>\n",
              "      <td>125 min</td>\n",
              "      <td>Dramas, Independent Movies, International Movies</td>\n",
              "      <td>On a photo shoot in Ghana, an American model s...</td>\n",
              "    </tr>\n",
              "    <tr>\n",
              "      <th>8</th>\n",
              "      <td>s9</td>\n",
              "      <td>TV Show</td>\n",
              "      <td>The Great British Baking Show</td>\n",
              "      <td>Andy Devonshire</td>\n",
              "      <td>Mel Giedroyc, Sue Perkins, Mary Berry, Paul Ho...</td>\n",
              "      <td>United Kingdom</td>\n",
              "      <td>September 24, 2021</td>\n",
              "      <td>2021</td>\n",
              "      <td>TV-14</td>\n",
              "      <td>9 Seasons</td>\n",
              "      <td>British TV Shows, Reality TV</td>\n",
              "      <td>A talented batch of amateur bakers face off in...</td>\n",
              "    </tr>\n",
              "    <tr>\n",
              "      <th>9</th>\n",
              "      <td>s10</td>\n",
              "      <td>Movie</td>\n",
              "      <td>The Starling</td>\n",
              "      <td>Theodore Melfi</td>\n",
              "      <td>Melissa McCarthy, Chris O'Dowd, Kevin Kline, T...</td>\n",
              "      <td>United States</td>\n",
              "      <td>September 24, 2021</td>\n",
              "      <td>2021</td>\n",
              "      <td>PG-13</td>\n",
              "      <td>104 min</td>\n",
              "      <td>Comedies, Dramas</td>\n",
              "      <td>A woman adjusting to life after a loss contend...</td>\n",
              "    </tr>\n",
              "  </tbody>\n",
              "</table>\n",
              "</div>"
            ],
            "text/plain": [
              "  show_id  ...                                        description\n",
              "0      s1  ...  As her father nears the end of his life, filmm...\n",
              "1      s2  ...  After crossing paths at a party, a Cape Town t...\n",
              "2      s3  ...  To protect his family from a powerful drug lor...\n",
              "3      s4  ...  Feuds, flirtations and toilet talk go down amo...\n",
              "4      s5  ...  In a city of coaching centers known to train I...\n",
              "5      s6  ...  The arrival of a charismatic young priest brin...\n",
              "6      s7  ...  Equestria's divided. But a bright-eyed hero be...\n",
              "7      s8  ...  On a photo shoot in Ghana, an American model s...\n",
              "8      s9  ...  A talented batch of amateur bakers face off in...\n",
              "9     s10  ...  A woman adjusting to life after a loss contend...\n",
              "\n",
              "[10 rows x 12 columns]"
            ]
          },
          "metadata": {},
          "execution_count": 17
        }
      ]
    },
    {
      "cell_type": "markdown",
      "metadata": {
        "id": "mfnRtU65wMfW"
      },
      "source": [
        "**1. Conteúdo Netflix por tipo**\n",
        "**Vamos comparar o número total de filmes e programas neste conjunto de dados para saber qual deles é a maioria.**"
      ]
    },
    {
      "cell_type": "code",
      "metadata": {
        "colab": {
          "base_uri": "https://localhost:8080/",
          "height": 373
        },
        "id": "1fAn9jGdxFZY",
        "outputId": "52b7d476-f28a-4162-87ae-6c3d034cadc0"
      },
      "source": [
        "plt.figure(figsize=(12,6))\n",
        "plt.title(\"“Porcentagem de títulos da Netflix que são filmes ou programas de TV”\")\n",
        "g = plt.pie(netflix_df.type.value_counts(),explode=(0.025,0.025), labels=netflix_df.type.value_counts().index, colors=['blue','yellow'],autopct='%1.1f%%', startangle=180)\n",
        "plt.show()"
      ],
      "execution_count": 18,
      "outputs": [
        {
          "output_type": "display_data",
          "data": {
            "image/png": "[encoded data removed]",
            "text/plain": [
              "<Figure size 864x432 with 1 Axes>"
            ]
          },
          "metadata": {}
        }
      ]
    },
    {
      "cell_type": "markdown",
      "metadata": {
        "id": "65h-zIDwx8s3"
      },
      "source": [
        "**Portanto, existem cerca de 4.000 filmes e quase 2.000 programas de TV, sendo os filmes a maioria. Em termos de título, há muito mais títulos de filmes (69,7%) do que títulos de programas de TV (30,3%).**\n",
        "\n",
        "**A seguir, exploraremos a quantidade de conteúdo que a Netflix adicionou nos anos anteriores. Como estamos interessados ​​em quando o Netflix adicionou o título em sua plataforma, adicionaremos uma coluna \"year_added\" para mostrar o ano da data das colunas \"date_added\".**"
      ]
    },
    {
      "cell_type": "code",
      "metadata": {
        "id": "szBGLpdfyH4X"
      },
      "source": [
        "netflix_movies_df = netflix_df[netflix_df.type.str.contains(\"Movie\")]"
      ],
      "execution_count": 19,
      "outputs": []
    },
    {
      "cell_type": "code",
      "metadata": {
        "id": "zLX_VpXgyZvG"
      },
      "source": [
        "netflix_shows_df = netflix_df[netflix_df.type.str.contains(\"TV Show\")]"
      ],
      "execution_count": 20,
      "outputs": []
    },
    {
      "cell_type": "code",
      "metadata": {
        "colab": {
          "base_uri": "https://localhost:8080/"
        },
        "id": "Aakr9yI5yjrp",
        "outputId": "63ebc8d2-04c5-41a4-e2fe-cd9b4a72d1ff"
      },
      "source": [
        "netflix_df.year_added = pd.DatetimeIndex(netflix_df.date_added).year\n",
        "netflix_movies_df.year_added = pd.DatetimeIndex(netflix_movies_df.date_added).year\n",
        "netflix_shows_df.year_added = pd.DatetimeIndex(netflix_shows_df.date_added).year"
      ],
      "execution_count": 21,
      "outputs": [
        {
          "output_type": "stream",
          "name": "stderr",
          "text": [
            "/usr/local/lib/python3.7/dist-packages/ipykernel_launcher.py:1: UserWarning: Pandas doesn't allow columns to be created via a new attribute name - see https://pandas.pydata.org/pandas-docs/stable/indexing.html#attribute-access\n",
            "  \"\"\"Entry point for launching an IPython kernel.\n",
            "/usr/local/lib/python3.7/dist-packages/ipykernel_launcher.py:2: UserWarning: Pandas doesn't allow columns to be created via a new attribute name - see https://pandas.pydata.org/pandas-docs/stable/indexing.html#attribute-access\n",
            "  \n",
            "/usr/local/lib/python3.7/dist-packages/ipykernel_launcher.py:3: UserWarning: Pandas doesn't allow columns to be created via a new attribute name - see https://pandas.pydata.org/pandas-docs/stable/indexing.html#attribute-access\n",
            "  This is separate from the ipykernel package so we can avoid doing imports until\n"
          ]
        }
      ]
    },
    {
      "cell_type": "code",
      "metadata": {
        "id": "HghMv0VZyvYB"
      },
      "source": [
        "netflix_year_df = netflix_df.year_added.value_counts().to_frame().reset_index().rename(columns={\"index\": \"year\", \"year_added\":\"count\"})\n",
        "netflix_year_df = netflix_year_df[netflix_year_df.year != 2022]"
      ],
      "execution_count": 22,
      "outputs": []
    },
    {
      "cell_type": "code",
      "metadata": {
        "colab": {
          "base_uri": "https://localhost:8080/",
          "height": 483
        },
        "id": "ypOCAwIRy2Xl",
        "outputId": "fca55fcc-83fb-45b5-bdf2-eabf625efa88"
      },
      "source": [
        "netflix_year_df"
      ],
      "execution_count": 23,
      "outputs": [
        {
          "output_type": "execute_result",
          "data": {
            "text/html": [
              "<div>\n",
              "<style scoped>\n",
              "    .dataframe tbody tr th:only-of-type {\n",
              "        vertical-align: middle;\n",
              "    }\n",
              "\n",
              "    .dataframe tbody tr th {\n",
              "        vertical-align: top;\n",
              "    }\n",
              "\n",
              "    .dataframe thead th {\n",
              "        text-align: right;\n",
              "    }\n",
              "</style>\n",
              "<table border=\"1\" class=\"dataframe\">\n",
              "  <thead>\n",
              "    <tr style=\"text-align: right;\">\n",
              "      <th></th>\n",
              "      <th>year</th>\n",
              "      <th>date_added</th>\n",
              "    </tr>\n",
              "  </thead>\n",
              "  <tbody>\n",
              "    <tr>\n",
              "      <th>0</th>\n",
              "      <td>2019</td>\n",
              "      <td>2016</td>\n",
              "    </tr>\n",
              "    <tr>\n",
              "      <th>1</th>\n",
              "      <td>2020</td>\n",
              "      <td>1879</td>\n",
              "    </tr>\n",
              "    <tr>\n",
              "      <th>2</th>\n",
              "      <td>2018</td>\n",
              "      <td>1648</td>\n",
              "    </tr>\n",
              "    <tr>\n",
              "      <th>3</th>\n",
              "      <td>2021</td>\n",
              "      <td>1498</td>\n",
              "    </tr>\n",
              "    <tr>\n",
              "      <th>4</th>\n",
              "      <td>2017</td>\n",
              "      <td>1185</td>\n",
              "    </tr>\n",
              "    <tr>\n",
              "      <th>5</th>\n",
              "      <td>2016</td>\n",
              "      <td>426</td>\n",
              "    </tr>\n",
              "    <tr>\n",
              "      <th>6</th>\n",
              "      <td>2015</td>\n",
              "      <td>82</td>\n",
              "    </tr>\n",
              "    <tr>\n",
              "      <th>7</th>\n",
              "      <td>2014</td>\n",
              "      <td>24</td>\n",
              "    </tr>\n",
              "    <tr>\n",
              "      <th>8</th>\n",
              "      <td>2011</td>\n",
              "      <td>13</td>\n",
              "    </tr>\n",
              "    <tr>\n",
              "      <th>9</th>\n",
              "      <td>2013</td>\n",
              "      <td>11</td>\n",
              "    </tr>\n",
              "    <tr>\n",
              "      <th>10</th>\n",
              "      <td>2012</td>\n",
              "      <td>3</td>\n",
              "    </tr>\n",
              "    <tr>\n",
              "      <th>11</th>\n",
              "      <td>2009</td>\n",
              "      <td>2</td>\n",
              "    </tr>\n",
              "    <tr>\n",
              "      <th>12</th>\n",
              "      <td>2008</td>\n",
              "      <td>2</td>\n",
              "    </tr>\n",
              "    <tr>\n",
              "      <th>13</th>\n",
              "      <td>2010</td>\n",
              "      <td>1</td>\n",
              "    </tr>\n",
              "  </tbody>\n",
              "</table>\n",
              "</div>"
            ],
            "text/plain": [
              "    year  date_added\n",
              "0   2019        2016\n",
              "1   2020        1879\n",
              "2   2018        1648\n",
              "3   2021        1498\n",
              "4   2017        1185\n",
              "5   2016         426\n",
              "6   2015          82\n",
              "7   2014          24\n",
              "8   2011          13\n",
              "9   2013          11\n",
              "10  2012           3\n",
              "11  2009           2\n",
              "12  2008           2\n",
              "13  2010           1"
            ]
          },
          "metadata": {},
          "execution_count": 23
        }
      ]
    },
    {
      "cell_type": "code",
      "metadata": {
        "id": "E5iR-qh7zNrv"
      },
      "source": [
        "movies_year_df = netflix_movies_df.year_added.value_counts().to_frame().reset_index().rename(columns={\"index\": \"year\", \"year_added\":\"count\"})\n",
        "movies_year_df = movies_year_df[movies_year_df != 2022]"
      ],
      "execution_count": 24,
      "outputs": []
    },
    {
      "cell_type": "code",
      "metadata": {
        "colab": {
          "base_uri": "https://localhost:8080/",
          "height": 483
        },
        "id": "GhbZ_-pTzQ87",
        "outputId": "b385be65-e403-4bf3-d736-721eda55bed4"
      },
      "source": [
        "movies_year_df"
      ],
      "execution_count": 25,
      "outputs": [
        {
          "output_type": "execute_result",
          "data": {
            "text/html": [
              "<div>\n",
              "<style scoped>\n",
              "    .dataframe tbody tr th:only-of-type {\n",
              "        vertical-align: middle;\n",
              "    }\n",
              "\n",
              "    .dataframe tbody tr th {\n",
              "        vertical-align: top;\n",
              "    }\n",
              "\n",
              "    .dataframe thead th {\n",
              "        text-align: right;\n",
              "    }\n",
              "</style>\n",
              "<table border=\"1\" class=\"dataframe\">\n",
              "  <thead>\n",
              "    <tr style=\"text-align: right;\">\n",
              "      <th></th>\n",
              "      <th>year</th>\n",
              "      <th>date_added</th>\n",
              "    </tr>\n",
              "  </thead>\n",
              "  <tbody>\n",
              "    <tr>\n",
              "      <th>0</th>\n",
              "      <td>2019</td>\n",
              "      <td>1424</td>\n",
              "    </tr>\n",
              "    <tr>\n",
              "      <th>1</th>\n",
              "      <td>2020</td>\n",
              "      <td>1284</td>\n",
              "    </tr>\n",
              "    <tr>\n",
              "      <th>2</th>\n",
              "      <td>2018</td>\n",
              "      <td>1237</td>\n",
              "    </tr>\n",
              "    <tr>\n",
              "      <th>3</th>\n",
              "      <td>2021</td>\n",
              "      <td>993</td>\n",
              "    </tr>\n",
              "    <tr>\n",
              "      <th>4</th>\n",
              "      <td>2017</td>\n",
              "      <td>836</td>\n",
              "    </tr>\n",
              "    <tr>\n",
              "      <th>5</th>\n",
              "      <td>2016</td>\n",
              "      <td>251</td>\n",
              "    </tr>\n",
              "    <tr>\n",
              "      <th>6</th>\n",
              "      <td>2015</td>\n",
              "      <td>56</td>\n",
              "    </tr>\n",
              "    <tr>\n",
              "      <th>7</th>\n",
              "      <td>2014</td>\n",
              "      <td>19</td>\n",
              "    </tr>\n",
              "    <tr>\n",
              "      <th>8</th>\n",
              "      <td>2011</td>\n",
              "      <td>13</td>\n",
              "    </tr>\n",
              "    <tr>\n",
              "      <th>9</th>\n",
              "      <td>2013</td>\n",
              "      <td>6</td>\n",
              "    </tr>\n",
              "    <tr>\n",
              "      <th>10</th>\n",
              "      <td>2012</td>\n",
              "      <td>3</td>\n",
              "    </tr>\n",
              "    <tr>\n",
              "      <th>11</th>\n",
              "      <td>2009</td>\n",
              "      <td>2</td>\n",
              "    </tr>\n",
              "    <tr>\n",
              "      <th>12</th>\n",
              "      <td>2010</td>\n",
              "      <td>1</td>\n",
              "    </tr>\n",
              "    <tr>\n",
              "      <th>13</th>\n",
              "      <td>2008</td>\n",
              "      <td>1</td>\n",
              "    </tr>\n",
              "  </tbody>\n",
              "</table>\n",
              "</div>"
            ],
            "text/plain": [
              "    year  date_added\n",
              "0   2019        1424\n",
              "1   2020        1284\n",
              "2   2018        1237\n",
              "3   2021         993\n",
              "4   2017         836\n",
              "5   2016         251\n",
              "6   2015          56\n",
              "7   2014          19\n",
              "8   2011          13\n",
              "9   2013           6\n",
              "10  2012           3\n",
              "11  2009           2\n",
              "12  2010           1\n",
              "13  2008           1"
            ]
          },
          "metadata": {},
          "execution_count": 25
        }
      ]
    },
    {
      "cell_type": "code",
      "metadata": {
        "id": "H9ujSx_EzZlv"
      },
      "source": [
        "shows_year_df = netflix_shows_df.year_added.value_counts().to_frame().reset_index().rename(columns={\"index\": \"year\", \"year_added\":\"count\"})\n",
        "shows_year_df = shows_year_df[shows_year_df != 2022]"
      ],
      "execution_count": 26,
      "outputs": []
    },
    {
      "cell_type": "code",
      "metadata": {
        "colab": {
          "base_uri": "https://localhost:8080/",
          "height": 359
        },
        "id": "UhUtpwk3zfxM",
        "outputId": "c993837a-e4f8-452b-86fd-420c9b828dec"
      },
      "source": [
        "shows_year_df"
      ],
      "execution_count": 27,
      "outputs": [
        {
          "output_type": "execute_result",
          "data": {
            "text/html": [
              "<div>\n",
              "<style scoped>\n",
              "    .dataframe tbody tr th:only-of-type {\n",
              "        vertical-align: middle;\n",
              "    }\n",
              "\n",
              "    .dataframe tbody tr th {\n",
              "        vertical-align: top;\n",
              "    }\n",
              "\n",
              "    .dataframe thead th {\n",
              "        text-align: right;\n",
              "    }\n",
              "</style>\n",
              "<table border=\"1\" class=\"dataframe\">\n",
              "  <thead>\n",
              "    <tr style=\"text-align: right;\">\n",
              "      <th></th>\n",
              "      <th>year</th>\n",
              "      <th>date_added</th>\n",
              "    </tr>\n",
              "  </thead>\n",
              "  <tbody>\n",
              "    <tr>\n",
              "      <th>0</th>\n",
              "      <td>2020</td>\n",
              "      <td>595</td>\n",
              "    </tr>\n",
              "    <tr>\n",
              "      <th>1</th>\n",
              "      <td>2019</td>\n",
              "      <td>592</td>\n",
              "    </tr>\n",
              "    <tr>\n",
              "      <th>2</th>\n",
              "      <td>2021</td>\n",
              "      <td>505</td>\n",
              "    </tr>\n",
              "    <tr>\n",
              "      <th>3</th>\n",
              "      <td>2018</td>\n",
              "      <td>411</td>\n",
              "    </tr>\n",
              "    <tr>\n",
              "      <th>4</th>\n",
              "      <td>2017</td>\n",
              "      <td>349</td>\n",
              "    </tr>\n",
              "    <tr>\n",
              "      <th>5</th>\n",
              "      <td>2016</td>\n",
              "      <td>175</td>\n",
              "    </tr>\n",
              "    <tr>\n",
              "      <th>6</th>\n",
              "      <td>2015</td>\n",
              "      <td>26</td>\n",
              "    </tr>\n",
              "    <tr>\n",
              "      <th>7</th>\n",
              "      <td>2013</td>\n",
              "      <td>5</td>\n",
              "    </tr>\n",
              "    <tr>\n",
              "      <th>8</th>\n",
              "      <td>2014</td>\n",
              "      <td>5</td>\n",
              "    </tr>\n",
              "    <tr>\n",
              "      <th>9</th>\n",
              "      <td>2008</td>\n",
              "      <td>1</td>\n",
              "    </tr>\n",
              "  </tbody>\n",
              "</table>\n",
              "</div>"
            ],
            "text/plain": [
              "   year  date_added\n",
              "0  2020         595\n",
              "1  2019         592\n",
              "2  2021         505\n",
              "3  2018         411\n",
              "4  2017         349\n",
              "5  2016         175\n",
              "6  2015          26\n",
              "7  2013           5\n",
              "8  2014           5\n",
              "9  2008           1"
            ]
          },
          "metadata": {},
          "execution_count": 27
        }
      ]
    },
    {
      "cell_type": "code",
      "metadata": {
        "id": "TAnZXqJeVDJo"
      },
      "source": [
        "date = pd.DataFrame(netflix_df.date_added.value_counts().reset_index().values, columns=[\"Date\", \"Count\"])"
      ],
      "execution_count": 28,
      "outputs": []
    },
    {
      "cell_type": "code",
      "metadata": {
        "colab": {
          "base_uri": "https://localhost:8080/",
          "height": 419
        },
        "id": "_23pc-L_VFIU",
        "outputId": "0bcaa53d-0f1f-4d5d-eaf2-b4db146c13ab"
      },
      "source": [
        "date"
      ],
      "execution_count": 29,
      "outputs": [
        {
          "output_type": "execute_result",
          "data": {
            "text/html": [
              "<div>\n",
              "<style scoped>\n",
              "    .dataframe tbody tr th:only-of-type {\n",
              "        vertical-align: middle;\n",
              "    }\n",
              "\n",
              "    .dataframe tbody tr th {\n",
              "        vertical-align: top;\n",
              "    }\n",
              "\n",
              "    .dataframe thead th {\n",
              "        text-align: right;\n",
              "    }\n",
              "</style>\n",
              "<table border=\"1\" class=\"dataframe\">\n",
              "  <thead>\n",
              "    <tr style=\"text-align: right;\">\n",
              "      <th></th>\n",
              "      <th>Date</th>\n",
              "      <th>Count</th>\n",
              "    </tr>\n",
              "  </thead>\n",
              "  <tbody>\n",
              "    <tr>\n",
              "      <th>0</th>\n",
              "      <td>January 1, 2020</td>\n",
              "      <td>109</td>\n",
              "    </tr>\n",
              "    <tr>\n",
              "      <th>1</th>\n",
              "      <td>November 1, 2019</td>\n",
              "      <td>89</td>\n",
              "    </tr>\n",
              "    <tr>\n",
              "      <th>2</th>\n",
              "      <td>March 1, 2018</td>\n",
              "      <td>75</td>\n",
              "    </tr>\n",
              "    <tr>\n",
              "      <th>3</th>\n",
              "      <td>December 31, 2019</td>\n",
              "      <td>74</td>\n",
              "    </tr>\n",
              "    <tr>\n",
              "      <th>4</th>\n",
              "      <td>October 1, 2018</td>\n",
              "      <td>71</td>\n",
              "    </tr>\n",
              "    <tr>\n",
              "      <th>...</th>\n",
              "      <td>...</td>\n",
              "      <td>...</td>\n",
              "    </tr>\n",
              "    <tr>\n",
              "      <th>1760</th>\n",
              "      <td>December 31, 2015</td>\n",
              "      <td>1</td>\n",
              "    </tr>\n",
              "    <tr>\n",
              "      <th>1761</th>\n",
              "      <td>August 3, 2019</td>\n",
              "      <td>1</td>\n",
              "    </tr>\n",
              "    <tr>\n",
              "      <th>1762</th>\n",
              "      <td>August 12, 2019</td>\n",
              "      <td>1</td>\n",
              "    </tr>\n",
              "    <tr>\n",
              "      <th>1763</th>\n",
              "      <td>February 6, 2021</td>\n",
              "      <td>1</td>\n",
              "    </tr>\n",
              "    <tr>\n",
              "      <th>1764</th>\n",
              "      <td>September 18, 2018</td>\n",
              "      <td>1</td>\n",
              "    </tr>\n",
              "  </tbody>\n",
              "</table>\n",
              "<p>1765 rows × 2 columns</p>\n",
              "</div>"
            ],
            "text/plain": [
              "                    Date Count\n",
              "0        January 1, 2020   109\n",
              "1       November 1, 2019    89\n",
              "2          March 1, 2018    75\n",
              "3      December 31, 2019    74\n",
              "4        October 1, 2018    71\n",
              "...                  ...   ...\n",
              "1760   December 31, 2015     1\n",
              "1761      August 3, 2019     1\n",
              "1762     August 12, 2019     1\n",
              "1763    February 6, 2021     1\n",
              "1764  September 18, 2018     1\n",
              "\n",
              "[1765 rows x 2 columns]"
            ]
          },
          "metadata": {},
          "execution_count": 29
        }
      ]
    },
    {
      "cell_type": "code",
      "metadata": {
        "colab": {
          "base_uri": "https://localhost:8080/",
          "height": 458
        },
        "id": "fERi6E3Hzng0",
        "outputId": "437008a7-e096-4959-8812-d0f8ceed3441"
      },
      "source": [
        "fig, ax = plt.subplots(figsize=(13, 7))\n",
        "sns.lineplot(data=netflix_year_df, x='year', y='date_added')\n",
        "sns.lineplot(data=movies_year_df, x='year', y='date_added')\n",
        "sns.lineplot(data=shows_year_df, x='year', y='date_added')\n",
        "ax.set_xticks(np.arange(2008, 2021, 1))\n",
        "plt.title(\"Total de conteudo adicionado em todos os anos (até 2021)\")\n",
        "plt.legend(['Total', 'Filme', 'Programa de TV'])\n",
        "plt.ylabel(\"Lançamentos\")\n",
        "plt.xlabel(\"Ano\")\n",
        "plt.show()"
      ],
      "execution_count": 30,
      "outputs": [
        {
          "output_type": "display_data",
          "data": {
            "image/png": "[encoded data removed]",
            "text/plain": [
              "<Figure size 936x504 with 1 Axes>"
            ]
          },
          "metadata": {
            "needs_background": "light"
          }
        }
      ]
    },
    {
      "cell_type": "markdown",
      "metadata": {
        "id": "U1eg8xEl1Cc7"
      },
      "source": [
        "**Tendo como base a linha do tempo acima, podemos concluir que a popular plataforma de streaming começou a ganhar força a partir de 2014. Desde então, a quantidade de conteúdo adicionado vem aumentando significativamente.**\n",
        "\n",
        "**Em seguida, vamos explorando a contribuição dos países com maior conteúdo da Netflix.**"
      ]
    },
    {
      "cell_type": "code",
      "metadata": {
        "colab": {
          "base_uri": "https://localhost:8080/"
        },
        "id": "qLKDxfrd1h_b",
        "outputId": "748fbb98-9fbb-40e4-a7d0-36717761dd75"
      },
      "source": [
        "pip install plotly"
      ],
      "execution_count": 31,
      "outputs": [
        {
          "output_type": "stream",
          "name": "stdout",
          "text": [
            "Requirement already satisfied: plotly in /usr/local/lib/python3.7/dist-packages (4.4.1)\n",
            "Requirement already satisfied: six in /usr/local/lib/python3.7/dist-packages (from plotly) (1.15.0)\n",
            "Requirement already satisfied: retrying>=1.3.3 in /usr/local/lib/python3.7/dist-packages (from plotly) (1.3.3)\n"
          ]
        }
      ]
    },
    {
      "cell_type": "code",
      "metadata": {
        "id": "QIKqPh3Z1twV"
      },
      "source": [
        "import plotly.graph_objects as go\n",
        "from plotly.offline import init_notebook_mode, iplot"
      ],
      "execution_count": 32,
      "outputs": []
    },
    {
      "cell_type": "markdown",
      "metadata": {
        "id": "FhTpKj-G1z1E"
      },
      "source": [
        "***TRABALHANDO COM GRÁFICOS***\n",
        "\n",
        "**Agora vamos separar todos os países por adição de filme e antes de analisá-lo vamos remover os títulos sem países disponíveis.**\n",
        "\n"
      ]
    },
    {
      "cell_type": "code",
      "metadata": {
        "colab": {
          "base_uri": "https://localhost:8080/",
          "height": 542
        },
        "id": "TGMQPILz30IU",
        "outputId": "22916964-f5d3-4be0-9549-eaa6619fbab8"
      },
      "source": [
        "filtered_countries = netflix_df.set_index('title').country.str.split(', ', expand=True).stack().reset_index(level=1, drop=True);\n",
        "filtered_countries = filtered_countries[filtered_countries != 'Country Unavailable']\n",
        "\n",
        "iplot([go.Choropleth(\n",
        "    locationmode='country names',\n",
        "    locations=filtered_countries,\n",
        "    z=filtered_countries.value_counts()\n",
        ")])"
      ],
      "execution_count": 33,
      "outputs": [
        {
          "output_type": "display_data",
          "data": {
            "text/html": [
              "<html>\n",
              "<head><meta charset=\"utf-8\" /></head>\n",
              "<body>\n",
              "    <div>\n",
              "            <script src=\"https://cdnjs.cloudflare.com/ajax/libs/mathjax/2.7.5/MathJax.js?config=TeX-AMS-MML_SVG\"></script><script type=\"text/javascript\">if (window.MathJax) {MathJax.Hub.Config({SVG: {font: \"STIX-Web\"}});}</script>\n",
              "                <script type=\"text/javascript\">window.PlotlyConfig = {MathJaxConfig: 'local'};</script>\n",
              "        <script src=\"https://cdn.plot.ly/plotly-latest.min.js\"></script>    \n",
              "            <div id=\"d8c46aa5-9b68-4b91-9955-8b3844c8c83b\" class=\"plotly-graph-div\" style=\"height:525px; width:100%;\"></div>\n",
              "            <script type=\"text/javascript\">\n",
              "                \n",
              "                    window.PLOTLYENV=window.PLOTLYENV || {};\n",
              "                    \n",
              "                if (document.getElementById(\"d8c46aa5-9b68-4b91-9955-8b3844c8c83b\")) {\n",
              "                    Plotly.newPlot(\n",
              "                        'd8c46aa5-9b68-4b91-9955-8b3844c8c83b',\n",
              "                        [{\"locationmode\": \"country names\", \"locations\": [\"United States\", \"South Africa\", \"United States\", \"United States\", \"India\", \"United States\", \"United States\", \"United States\", \"Ghana\", \"Burkina Faso\", \"United Kingdom\", \"Germany\", \"Ethiopia\", \"United Kingdom\", \"United States\", \"United States\", \"United States\", \"Germany\", \"Czech Republic\", \"United States\", \"United States\", \"United States\", \"United States\", \"Mexico\", \"United States\", \"United States\", \"United States\", \"Turkey\", \"United States\", \"United States\", \"India\", \"Australia\", \"United States\", \"United States\", \"United States\", \"United States\", \"India\", \"France\", \"United States\", \"United States\", \"United Kingdom\", \"United States\", \"United States\", \"United States\", \"United States\", \"Finland\", \"China\", \"Canada\", \"United States\", \"India\", \"United States\", \"United States\", \"United States\", \"United States\", \"United States\", \"United States\", \"South Africa\", \"United States\", \"Japan\", \"United States\", \"United States\", \"Nigeria\", \"India\", \"Japan\", \"Japan\", \"Japan\", \"Japan\", \"United States\", \"Japan\", \"Japan\", \"Japan\", \"Japan\", \"Japan\", \"Japan\", \"Japan\", \"Japan\", \"United States\", \"United Kingdom\", \"India\", \"United States\", \"United States\", \"India\", \"United States\", \"United States\", \"United Kingdom\", \"Nigeria\", \"United States\", \"United States\", \"Japan\", \"United States\", \"United States\", \"United States\", \"United States\", \"United States\", \"United States\", \"United States\", \"Nigeria\", \"United States\", \"United States\", \"United States\", \"United States\", \"United States\", \"Spain\", \"United States\", \"France\", \"Belgium\", \"United States\", \"United Kingdom\", \"United States\", \"United States\", \"United Kingdom\", \"United States\", \"United States\", \"United Kingdom\", \"France\", \"United States\", \"United States\", \"United States\", \"United States\", \"United States\", \"South Korea\", \"India\", \"United States\", \"United States\", \"Australia\", \"Spain\", \"United States\", \"United States\", \"Singapore\", \"United States\", \"United States\", \"India\", \"United Kingdom\", \"Australia\", \"France\", \"India\", \"United Kingdom\", \"United States\", \"India\", \"United States\", \"Australia\", \"United States\", \"United Kingdom\", \"Australia\", \"France\", \"United States\", \"United States\", \"South Korea\", \"United States\", \"India\", \"United States\", \"Canada\", \"United States\", \"Germany\", \"United States\", \"United States\", \"United States\", \"United States\", \"South Africa\", \"United States\", \"United States\", \"Mexico\", \"United States\", \"Italy\", \"France\", \"Japan\", \"United States\", \"Italy\", \"Romania\", \"United Kingdom\", \"Australia\", \"United States\", \"United States\", \"United States\", \"Argentina\", \"Venezuela\", \"United States\", \"United Kingdom\", \"Canada\", \"Germany\", \"United States\", \"United States\", \"United States\", \"United States\", \"United States\", \"United States\", \"United States\", \"United States\", \"United States\", \"China\", \"Hong Kong\", \"United States\", \"Russia\", \"Japan\", \"United Kingdom\", \"United States\", \"United States\", \"Canada\", \"United States\", \"Hong Kong\", \"United States\", \"United States\", \"United States\", \"China\", \"Hong Kong\", \"United States\", \"United States\", \"United States\", \"Italy\", \"United States\", \"United States\", \"Canada\", \"United States\", \"United States\", \"United States\", \"United States\", \"United States\", \"Germany\", \"United States\", \"United States\", \"United States\", \"United States\", \"United Kingdom\", \"United States\", \"United States\", \"United States\", \"United States\", \"United States\", \"United States\", \"United States\", \"United States\", \"United States\", \"United States\", \"United States\", \"France\", \"United States\", \"India\", \"United Kingdom\", \"Canada\", \"United States\", \"India\", \"\", \"South Korea\", \"United States\", \"India\", \"United States\", \"United States\", \"Nigeria\", \"India\", \"India\", \"India\", \"India\", \"India\", \"India\", \"India\", \"India\", \"India\", \"India\", \"India\", \"India\", \"India\", \"Ireland\", \"United States\", \"United States\", \"India\", \"India\", \"India\", \"United States\", \"Japan\", \"United States\", \"United States\", \"United States\", \"United States\", \"United States\", \"United States\", \"United States\", \"United States\", \"United States\", \"United Kingdom\", \"United States\", \"United States\", \"United States\", \"United States\", \"United Kingdom\", \"United States\", \"United States\", \"United States\", \"United States\", \"United States\", \"United States\", \"United States\", \"United States\", \"United States\", \"United States\", \"United States\", \"United States\", \"United States\", \"United States\", \"United States\", \"United States\", \"United States\", \"United States\", \"United States\", \"India\", \"United States\", \"United States\", \"United States\", \"United States\", \"United States\", \"India\", \"Nepal\", \"United States\", \"United States\", \"United States\", \"United States\", \"United States\", \"Japan\", \"India\", \"New Zealand\", \"Australia\", \"France\", \"United States\", \"United States\", \"Italy\", \"Italy\", \"Brazil\", \"Greece\", \"United States\", \"United States\", \"France\", \"United States\", \"Argentina\", \"Spain\", \"Jordan\", \"Colombia\", \"United States\", \"Japan\", \"United States\", \"Nigeria\", \"Mexico\", \"Belgium\", \"United Kingdom\", \"United Kingdom\", \"United States\", \"Switzerland\", \"United Kingdom\", \"Australia\", \"United States\", \"United States\", \"Colombia\", \"South Korea\", \"United States\", \"Japan\", \"United Kingdom\", \"South Africa\", \"United States\", \"United States\", \"Israel\", \"United States\", \"India\", \"Nigeria\", \"France\", \"Canada\", \"United States\", \"India\", \"Brazil\", \"Argentina\", \"United Kingdom\", \"Argentina\", \"Spain\", \"Nigeria\", \"United States\", \"United States\", \"United States\", \"United States\", \"Mexico\", \"United States\", \"Taiwan\", \"United States\", \"United States\", \"Nigeria\", \"Taiwan\", \"United States\", \"United States\", \"Taiwan\", \"United States\", \"Taiwan\", \"Taiwan\", \"United States\", \"Italy\", \"United States\", \"United States\", \"United States\", \"United Kingdom\", \"Bulgaria\", \"United States\", \"United States\", \"Canada\", \"United States\", \"Canada\", \"United States\", \"United States\", \"Mexico\", \"United States\", \"United States\", \"United States\", \"United States\", \"United States\", \"Canada\", \"Japan\", \"United States\", \"United States\", \"United Kingdom\", \"United States\", \"United States\", \"United States\", \"United States\", \"United States\", \"Canada\", \"United States\", \"Spain\", \"United Kingdom\", \"United States\", \"United Kingdom\", \"United States\", \"United States\", \"United States\", \"United States\", \"Germany\", \"United States\", \"China\", \"United States\", \"United States\", \"United States\", \"United States\", \"France\", \"Spain\", \"France\", \"United Kingdom\", \"United States\", \"United States\", \"United States\", \"United States\", \"United States\", \"United States\", \"United States\", \"United States\", \"\", \"France\", \"Algeria\", \"United Kingdom\", \"United States\", \"United States\", \"United States\", \"United States\", \"United States\", \"United States\", \"United States\", \"Nigeria\", \"United States\", \"United States\", \"Poland\", \"United States\", \"United States\", \"United States\", \"United States\", \"United States\", \"India\", \"United States\", \"Germany\", \"United States\", \"Canada\", \"United States\", \"United States\", \"France\", \"Israel\", \"Germany\", \"United States\", \"United Kingdom\", \"United States\", \"Canada\", \"United States\", \"United States\", \"Australia\", \"United States\", \"United States\", \"United States\", \"United States\", \"United States\", \"United States\", \"United States\", \"Spain\", \"United Kingdom\", \"United States\", \"United States\", \"United States\", \"United States\", \"United States\", \"United States\", \"United States\", \"India\", \"United States\", \"United States\", \"United States\", \"United States\", \"India\", \"United States\", \"United States\", \"United States\", \"United States\", \"United States\", \"United States\", \"United States\", \"United States\", \"United States\", \"United States\", \"New Zealand\", \"United States\", \"United States\", \"Nigeria\", \"United States\", \"United States\", \"United States\", \"United States\", \"Argentina\", \"United States\", \"Saudi Arabia\", \"United States\", \"United States\", \"Thailand\", \"United States\", \"United States\", \"United States\", \"Canada\", \"United States\", \"United States\", \"United States\", \"United States\", \"United States\", \"United States\", \"United States\", \"United States\", \"United States\", \"Indonesia\", \"Japan\", \"United States\", \"United States\", \"South Korea\", \"Egypt\", \"Denmark\", \"Germany\", \"United States\", \"United States\", \"United States\", \"Canada\", \"United States\", \"United States\", \"Italy\", \"United States\", \"United States\", \"United States\", \"United States\", \"United States\", \"United States\", \"Canada\", \"United States\", \"United States\", \"United States\", \"United States\", \"United States\", \"Switzerland\", \"United States\", \"United States\", \"United States\", \"Germany\", \"United States\", \"United States\", \"United States\", \"United States\", \"United States\", \"United States\", \"United States\", \"Hong Kong\", \"Canada\", \"United States\", \"United States\", \"United States\", \"Kuwait\", \"United States\", \"United States\", \"United States\", \"United States\", \"United States\", \"Japan\", \"United States\", \"United States\", \"France\", \"Canada\", \"United States\", \"Spain\", \"United States\", \"United States\", \"United States\", \"United States\", \"United States\", \"Nigeria\", \"Poland\", \"United States\", \"United States\", \"Australia\", \"United States\", \"France\", \"Netherlands\", \"Singapore\", \"United States\", \"Canada\", \"United States\", \"France\", \"Belgium\", \"United States\", \"United Kingdom\", \"United Kingdom\", \"Thailand\", \"Japan\", \"India\", \"United Kingdom\", \"United States\", \"Canada\", \"Russia\", \"United Kingdom\", \"Japan\", \"United States\", \"Canada\", \"United States\", \"Ireland\", \"United States\", \"United Kingdom\", \"India\", \"Egypt\", \"United States\", \"Malaysia\", \"United States\", \"Israel\", \"Indonesia\", \"Canada\", \"Australia\", \"Japan\", \"United Kingdom\", \"Australia\", \"New Zealand\", \"United Kingdom\", \"Germany\", \"India\", \"India\", \"Belgium\", \"Netherlands\", \"Canada\", \"South Korea\", \"United States\", \"United States\", \"United States\", \"United States\", \"United States\", \"India\", \"United States\", \"France\", \"Nigeria\", \"South Korea\", \"Czech Republic\", \"South Korea\", \"Australia\", \"United States\", \"United States\", \"United States\", \"Germany\", \"United States\", \"United States\", \"United States\", \"United States\", \"United States\", \"Australia\", \"Germany\", \"United States\", \"Germany\", \"United States\", \"United States\", \"Vietnam\", \"United States\", \"United States\", \"United Kingdom\", \"Belgium\", \"United States\", \"China\", \"United States\", \"China\", \"United States\", \"United Kingdom\", \"Australia\", \"United States\", \"United States\", \"France\", \"Japan\", \"United States\", \"United States\", \"United States\", \"United States\", \"United States\", \"United States\", \"United Kingdom\", \"United States\", \"United Kingdom\", \"United States\", \"United States\", \"United States\", \"United States\", \"United Kingdom\", \"United States\", \"United States\", \"United States\", \"United States\", \"United States\", \"Germany\", \"Germany\", \"United States\", \"United States\", \"United States\", \"United States\", \"United Kingdom\", \"United States\", \"United States\", \"United States\", \"United States\", \"United States\", \"United Kingdom\", \"Germany\", \"Spain\", \"United States\", \"United States\", \"United Kingdom\", \"United States\", \"France\", \"Italy\", \"United States\", \"United States\", \"Germany\", \"Canada\", \"United States\", \"France\", \"Italy\", \"United Kingdom\", \"United States\", \"United Kingdom\", \"Germany\", \"Hungary\", \"United States\", \"Canada\", \"United States\", \"New Zealand\", \"Nigeria\", \"United States\", \"New Zealand\", \"United States\", \"United States\", \"Sweden\", \"United States\", \"United States\", \"United States\", \"United States\", \"United States\", \"United States\", \"United States\", \"Mexico\", \"United States\", \"China\", \"United States\", \"United States\", \"United States\", \"Japan\", \"United States\", \"United States\", \"France\", \"Lebanon\", \"United States\", \"Canada\", \"United States\", \"United States\", \"United States\", \"United States\", \"United States\", \"Japan\", \"United States\", \"United States\", \"United States\", \"United States\", \"United States\", \"United States\", \"United States\", \"Brazil\", \"Nigeria\", \"United States\", \"United States\", \"Romania\", \"Romania\", \"Romania\", \"United States\", \"United States\", \"Thailand\", \"United States\", \"France\", \"United States\", \"United States\", \"Spain\", \"Finland\", \"Germany\", \"United States\", \"United States\", \"United States\", \"Spain\", \"United States\", \"United States\", \"United States\", \"Argentina\", \"United States\", \"Japan\", \"United States\", \"Canada\", \"United States\", \"United States\", \"Thailand\", \"United States\", \"United Kingdom\", \"Australia\", \"United States\", \"Spain\", \"United States\", \"South Korea\", \"United States\", \"Nigeria\", \"United States\", \"United States\", \"United States\", \"United States\", \"United States\", \"Lebanon\", \"Syria\", \"United States\", \"Canada\", \"United States\", \"United States\", \"Philippines\", \"Iceland\", \"United States\", \"Canada\", \"United States\", \"Turkey\", \"United States\", \"Germany\", \"United States\", \"United States\", \"United States\", \"Argentina\", \"United States\", \"Italy\", \"United States\", \"United States\", \"United States\", \"United States\", \"United States\", \"United States\", \"United States\", \"United States\", \"United States\", \"United States\", \"United States\", \"United States\", \"United States\", \"United Kingdom\", \"United States\", \"United States\", \"United States\", \"United States\", \"United States\", \"United States\", \"South Korea\", \"United States\", \"Denmark\", \"France\", \"United States\", \"India\", \"United States\", \"India\", \"Philippines\", \"Singapore\", \"Indonesia\", \"United States\", \"China\", \"United States\", \"Canada\", \"United States\", \"Lebanon\", \"United Arab Emirates\", \"Vietnam\", \"Canada\", \"United States\", \"Denmark\", \"Colombia\", \"United Arab Emirates\", \"United States\", \"Nigeria\", \"United States\", \"United States\", \"Mexico\", \"France\", \"Colombia\", \"United States\", \"United States\", \"United Kingdom\", \"Colombia\", \"United Kingdom\", \"United States\", \"Netherlands\", \"Nigeria\", \"United States\", \"United Kingdom\", \"United States\", \"United States\", \"United States\", \"South Korea\", \"United States\", \"South Africa\", \"Spain\", \"Mexico\", \"Japan\", \"Sweden\", \"Argentina\", \"United Arab Emirates\", \"United States\", \"Italy\", \"Philippines\", \"United States\", \"United States\", \"United States\", \"United States\", \"Japan\", \"United States\", \"United Kingdom\", \"United States\", \"Canada\", \"United States\", \"Brazil\", \"United States\", \"Canada\", \"United States\", \"United States\", \"United States\", \"United States\", \"United Kingdom\", \"United States\", \"United States\", \"United States\", \"United States\", \"Nigeria\", \"United States\", \"United States\", \"United States\", \"United States\", \"United States\", \"United States\", \"United States\", \"Germany\", \"United States\", \"France\", \"Japan\", \"Canada\", \"United States\", \"United States\", \"United States\", \"United States\", \"United States\", \"Bulgaria\", \"United States\", \"United States\", \"United States\", \"United States\", \"United States\", \"Canada\", \"United States\", \"United States\", \"United Kingdom\", \"France\", \"Germany\", \"United States\", \"United States\", \"United States\", \"United States\", \"United Arab Emirates\", \"United Kingdom\", \"United States\", \"United States\", \"United States\", \"United States\", \"United States\", \"United States\", \"United States\", \"United States\", \"United States\", \"United States\", \"United States\", \"Israel\", \"United States\", \"United States\", \"Thailand\", \"Norway\", \"Denmark\", \"Argentina\", \"Syria\", \"France\", \"Lebanon\", \"Qatar\", \"Italy\", \"United States\", \"United States\", \"Japan\", \"United States\", \"United States\", \"United States\", \"United States\", \"United States\", \"United States\", \"India\", \"United States\", \"United States\", \"United States\", \"United States\", \"United States\", \"United States\", \"Spain\", \"United States\", \"Egypt\", \"Australia\", \"United States\", \"United States\", \"United States\", \"United States\", \"United States\", \"United States\", \"United States\", \"Canada\", \"United States\", \"Mexico\", \"United States\", \"India\", \"United States\", \"India\", \"United Kingdom\", \"United States\", \"India\", \"India\", \"Belgium\", \"Netherlands\", \"United States\", \"United States\", \"Czech Republic\", \"South Africa\", \"Mauritius\", \"United States\", \"South Korea\", \"Canada\", \"South Africa\", \"United States\", \"Austria\", \"United States\", \"United States\", \"United States\", \"United Kingdom\", \"India\", \"United States\", \"Mexico\", \"Brazil\", \"France\", \"United States\", \"United States\", \"United States\", \"United States\", \"Spain\", \"United States\", \"United States\", \"South Korea\", \"India\", \"United States\", \"China\", \"Turkey\", \"United States\", \"United States\", \"India\", \"United States\", \"India\", \"United States\", \"India\", \"United Kingdom\", \"United States\", \"Germany\", \"France\", \"United States\", \"United States\", \"India\", \"United States\", \"Mexico\", \"United States\", \"United States\", \"United States\", \"United States\", \"United States\", \"United States\", \"United States\", \"United States\", \"United States\", \"United States\", \"United States\", \"United States\", \"United Kingdom\", \"France\", \"Spain\", \"United States\", \"United Kingdom\", \"United States\", \"United Kingdom\", \"Canada\", \"United States\", \"United States\", \"United States\", \"United States\", \"United States\", \"United States\", \"United States\", \"United States\", \"United States\", \"Australia\", \"United States\", \"China\", \"United Kingdom\", \"United States\", \"France\", \"United States\", \"United Kingdom\", \"France\", \"United States\", \"United States\", \"Russia\", \"United States\", \"United Kingdom\", \"New Zealand\", \"United States\", \"United States\", \"United States\", \"Canada\", \"France\", \"United States\", \"United States\", \"United States\", \"United States\", \"India\", \"United States\", \"United States\", \"United States\", \"United Kingdom\", \"United States\", \"United States\", \"United States\", \"Brazil\", \"United States\", \"Poland\", \"United States\", \"United States\", \"Spain\", \"Turkey\", \"India\", \"India\", \"United States\", \"Turkey\", \"Turkey\", \"Turkey\", \"Turkey\", \"Turkey\", \"Turkey\", \"Turkey\", \"Spain\", \"Turkey\", \"Turkey\", \"Turkey\", \"United States\", \"Thailand\", \"Turkey\", \"Turkey\", \"Egypt\", \"United States\", \"United States\", \"Nigeria\", \"Turkey\", \"Japan\", \"Australia\", \"United Kingdom\", \"India\", \"Germany\", \"United States\", \"United States\", \"Canada\", \"Nigeria\", \"United States\", \"Mexico\", \"Italy\", \"Australia\", \"United States\", \"United States\", \"United States\", \"United States\", \"United States\", \"United States\", \"United States\", \"Mexico\", \"France\", \"United States\", \"United Kingdom\", \"Canada\", \"France\", \"United Kingdom\", \"United States\", \"India\", \"India\", \"India\", \"India\", \"United Kingdom\", \"India\", \"India\", \"India\", \"India\", \"United States\", \"United States\", \"United States\", \"Canada\", \"United States\", \"Mexico\", \"United States\", \"United States\", \"Philippines\", \"Germany\", \"South Korea\", \"United Kingdom\", \"Germany\", \"United States\", \"United States\", \"Czech Republic\", \"United Kingdom\", \"United States\", \"United States\", \"India\", \"United States\", \"United States\", \"Japan\", \"Japan\", \"United States\", \"United States\", \"Japan\", \"United States\", \"United States\", \"Lebanon\", \"United States\", \"France\", \"China\", \"United Kingdom\", \"Japan\", \"Japan\", \"United States\", \"United States\", \"United States\", \"United States\", \"United States\", \"United States\", \"Italy\", \"United Kingdom\", \"United States\", \"United States\", \"India\", \"United States\", \"South Korea\", \"United States\", \"South Korea\", \"Canada\", \"China\", \"Taiwan\", \"Thailand\", \"United States\", \"India\", \"United States\", \"United States\", \"United States\", \"United States\", \"United States\", \"United States\", \"Brazil\", \"Japan\", \"Spain\", \"India\", \"United States\", \"United States\", \"United States\", \"Israel\", \"United States\", \"China\", \"United States\", \"United States\", \"United States\", \"China\", \"South Korea\", \"Nigeria\", \"India\", \"United States\", \"United States\", \"Indonesia\", \"Japan\", \"United States\", \"India\", \"United States\", \"United States\", \"United States\", \"United States\", \"China\", \"United Kingdom\", \"India\", \"Cameroon\", \"United States\", \"United States\", \"Canada\", \"United States\", \"China\", \"United States\", \"Canada\", \"United Kingdom\", \"United States\", \"United States\", \"Nigeria\", \"India\", \"Netherlands\", \"France\", \"United States\", \"United Kingdom\", \"France\", \"United States\", \"United States\", \"India\", \"India\", \"United States\", \"Lebanon\", \"Palestine\", \"Denmark\", \"Qatar\", \"United States\", \"Canada\", \"United States\", \"Canada\", \"Japan\", \"United States\", \"United States\", \"India\", \"Uruguay\", \"Germany\", \"United States\", \"United Kingdom\", \"United States\", \"United States\", \"United States\", \"United Kingdom\", \"United States\", \"Japan\", \"United States\", \"United States\", \"United States\", \"Japan\", \"United States\", \"Indonesia\", \"Egypt\", \"Saudi Arabia\", \"United Kingdom\", \"France\", \"Poland\", \"Germany\", \"United States\", \"United States\", \"United States\", \"India\", \"United States\", \"United States\", \"United States\", \"United Kingdom\", \"Ireland\", \"Switzerland\", \"United Kingdom\", \"France\", \"United States\", \"United States\", \"Mexico\", \"United Kingdom\", \"South Korea\", \"Japan\", \"United States\", \"China\", \"United Kingdom\", \"United States\", \"United Kingdom\", \"South Africa\", \"France\", \"United States\", \"Nigeria\", \"United States\", \"United States\", \"United States\", \"United States\", \"Ireland\", \"United Kingdom\", \"France\", \"Germany\", \"United Kingdom\", \"Turkey\", \"Spain\", \"Spain\", \"India\", \"United Kingdom\", \"Italy\", \"United States\", \"Japan\", \"Russia\", \"United States\", \"United States\", \"South Africa\", \"South Korea\", \"South Korea\", \"United Kingdom\", \"United States\", \"France\", \"Japan\", \"Taiwan\", \"United States\", \"United States\", \"Japan\", \"United States\", \"United States\", \"United Kingdom\", \"United States\", \"China\", \"Nigeria\", \"Japan\", \"United States\", \"Brazil\", \"United States\", \"United Kingdom\", \"United States\", \"United States\", \"United Kingdom,\", \"United States\", \"Nigeria\", \"United States\", \"Belgium\", \"United Kingdom\", \"United States\", \"Germany\", \"United States\", \"United States\", \"Egypt\", \"India\", \"United States\", \"India\", \"United Kingdom\", \"United States\", \"United States\", \"United Kingdom\", \"United Kingdom\", \"United States\", \"Turkey\", \"Kenya\", \"South Korea\", \"Turkey\", \"Turkey\", \"United States\", \"United States\", \"Turkey\", \"Turkey\", \"United Kingdom\", \"United States\", \"Turkey\", \"Spain\", \"Argentina\", \"Indonesia\", \"United States\", \"France\", \"United States\", \"United States\", \"Germany\", \"India\", \"India\", \"United Kingdom\", \"France\", \"Qatar\", \"Egypt\", \"India\", \"United States\", \"Colombia\", \"Nigeria\", \"Spain\", \"United States\", \"France\", \"Indonesia\", \"United States\", \"Australia\", \"United States\", \"United States\", \"United States\", \"United States\", \"United States\", \"India\", \"United States\", \"United States\", \"United States\", \"United States\", \"United States\", \"United States\", \"United States\", \"United Kingdom\", \"Germany\", \"United States\", \"United States\", \"United States\", \"United States\", \"Germany\", \"Japan\", \"Belgium\", \"France\", \"United States\", \"Spain\", \"Argentina\", \"Chile\", \"United States\", \"United States\", \"Thailand\", \"United States\", \"India\", \"Chile\", \"Brazil\", \"Germany\", \"United States\", \"Colombia\", \"Indonesia\", \"United States\", \"Colombia\", \"United States\", \"United States\", \"Japan\", \"United States\", \"United States\", \"United States\", \"United States\", \"United States\", \"Canada\", \"United Kingdom\", \"India\", \"India\", \"United States\", \"Canada\", \"United States\", \"United Kingdom\", \"South Korea\", \"Taiwan\", \"United Kingdom\", \"United States\", \"United States\", \"United Kingdom\", \"United States\", \"India\", \"Uruguay\", \"India\", \"Germany\", \"India\", \"South Korea\", \"United States\", \"South Korea\", \"United States\", \"United States\", \"United Kingdom\", \"United States\", \"United States\", \"United States\", \"India\", \"United States\", \"United States\", \"United Kingdom\", \"United States\", \"United States\", \"Nigeria\", \"United Kingdom\", \"United States\", \"United States\", \"Spain\", \"India\", \"United Kingdom\", \"United States\", \"Mexico\", \"Luxembourg\", \"Mexico\", \"Spain\", \"Indonesia\", \"United States\", \"Sweden\", \"Poland\", \"United States\", \"United States\", \"France\", \"United States\", \"United States\", \"United States\", \"United States\", \"Cambodia\", \"Romania\", \"China\", \"United States\", \"France\", \"Bangladesh\", \"Spain\", \"Brazil\", \"Taiwan\", \"United States\", \"South Korea\", \"United States\", \"Italy\", \"China\", \"Poland\", \"Spain\", \"Belgium\", \"United States\", \"United States\", \"Colombia\", \"United States\", \"Mexico\", \"United States\", \"United States\", \"Canada\", \"United States\", \"United States\", \"United Kingdom\", \"United States\", \"United Kingdom\", \"United States\", \"Australia\", \"Philippines\", \"United States\", \"Canada\", \"United States\", \"France\", \"United States\", \"United States\", \"France\", \"Portugal\", \"United States\", \"United States\", \"Spain\", \"United States\", \"United Kingdom\", \"United States\", \"Indonesia\", \"Turkey\", \"United States\", \"United States\", \"India\", \"United States\", \"Australia\", \"United States\", \"Nigeria\", \"United States\", \"United Kingdom\", \"United States\", \"United States\", \"Canada\", \"South Korea\", \"Japan\", \"Portugal\", \"Spain\", \"United States\", \"France\", \"India\", \"United States\", \"United States\", \"United Kingdom\", \"Ireland\", \"United States\", \"Mexico\", \"United States\", \"United States\", \"United States\", \"United States\", \"United Kingdom\", \"Spain\", \"United States\", \"United States\", \"Thailand\", \"United States\", \"United States\", \"United States\", \"United States\", \"Brazil\", \"United States\", \"Hungary\", \"United States\", \"United States\", \"United States\", \"South Korea\", \"United States\", \"Canada\", \"United States\", \"India\", \"United States\", \"South Korea\", \"Indonesia\", \"Indonesia\", \"United States\", \"United States\", \"Argentina\", \"United States\", \"United Kingdom\", \"United States\", \"France\", \"India\", \"India\", \"Canada\", \"United States\", \"Cayman Islands\", \"United States\", \"India\", \"United Kingdom\", \"India\", \"France\", \"India\", \"United States\", \"Turkey\", \"Spain\", \"Indonesia\", \"France\", \"Canada\", \"Canada\", \"Hungary\", \"United States\", \"United States\", \"United States\", \"France\", \"United States\", \"Mexico\", \"United States\", \"India\", \"United States\", \"United States\", \"United States\", \"Norway\", \"United States\", \"United States\", \"Canada\", \"United States\", \"United States\", \"United States\", \"United States\", \"United States\", \"United States\", \"United States\", \"United States\", \"United States\", \"United States\", \"United Kingdom\", \"United States\", \"Mexico\", \"United States\", \"United States\", \"Canada\", \"United Kingdom\", \"United States\", \"United States\", \"United States\", \"United States\", \"United Kingdom\", \"Germany\", \"France\", \"United States\", \"South Korea\", \"United States\", \"United States\", \"United States\", \"India\", \"United States\", \"Indonesia\", \"Indonesia\", \"United States\", \"United States\", \"Denmark\", \"United States\", \"Italy\", \"United Kingdom\", \"Taiwan\", \"United States\", \"South Korea\", \"United States\", \"United States\", \"Canada\", \"United States\", \"Senegal\", \"France\", \"Algeria\", \"India\", \"Canada\", \"India\", \"United States\", \"Philippines\", \"United States\", \"Indonesia\", \"Indonesia\", \"Philippines\", \"United States\", \"United States\", \"Taiwan\", \"United States\", \"United States\", \"South Korea\", \"Netherlands\", \"United States\", \"United Kingdom\", \"Finland\", \"Germany\", \"United States\", \"Australia\", \"Japan\", \"France\", \"Ireland\", \"United Kingdom\", \"United Kingdom\", \"United States\", \"United States\", \"United Kingdom\", \"Egypt\", \"United Kingdom\", \"United States\", \"South Africa\", \"United States\", \"Norway\", \"United States\", \"United States\", \"Malaysia\", \"India\", \"Malaysia\", \"Malaysia\", \"Colombia\", \"Canada\", \"Indonesia\", \"Philippines\", \"Netherlands\", \"South Korea\", \"Philippines\", \"United States\", \"United States\", \"Brazil\", \"United States\", \"Philippines\", \"Canada\", \"United Kingdom\", \"United States\", \"South Africa\", \"United States\", \"United States\", \"United States\", \"Japan\", \"Japan\", \"United States\", \"United Kingdom\", \"India\", \"United States\", \"Canada\", \"United States\", \"United States\", \"United States\", \"United States\", \"Ireland\", \"France\", \"Iceland\", \"United States\", \"Mexico\", \"Belgium\", \"United Kingdom\", \"Hong Kong\", \"United States\", \"United Kingdom\", \"Canada\", \"United States\", \"United States\", \"United States\", \"Lebanon\", \"France\", \"United States\", \"United States\", \"United States\", \"Spain\", \"United States\", \"India\", \"Japan\", \"Canada\", \"United States\", \"United States\", \"Philippines\", \"Philippines\", \"Philippines\", \"Philippines\", \"Saudi Arabia\", \"Egypt\", \"Italy\", \"United States\", \"United States\", \"United States\", \"Singapore\", \"United States\", \"Brazil\", \"Kuwait\", \"United States\", \"United States\", \"United States\", \"United States\", \"South Korea\", \"United States\", \"United States\", \"France\", \"Taiwan\", \"Canada\", \"India\", \"United States\", \"United States\", \"Germany\", \"South Africa\", \"Turkey\", \"United States\", \"United States\", \"United States\", \"Philippines\", \"France\", \"Belgium\", \"United States\", \"Brazil\", \"Philippines\", \"United Kingdom\", \"Iceland\", \"Indonesia\", \"Poland\", \"Germany\", \"United States\", \"France\", \"Serbia\", \"United States\", \"United States\", \"Italy\", \"United States\", \"United States\", \"United Kingdom\", \"Spain\", \"Italy\", \"United States\", \"United States\", \"United States\", \"United States\", \"Ireland\", \"United Kingdom\", \"India\", \"United Kingdom\", \"Singapore\", \"Hong Kong\", \"United States\", \"Australia\", \"United States\", \"United States\", \"Canada\", \"United States\", \"United States\", \"Malta\", \"France\", \"United Kingdom\", \"South Korea\", \"United States\", \"China\", \"Canada\", \"United States\", \"United Kingdom\", \"Philippines\", \"Philippines\", \"United States\", \"United States\", \"United States\", \"South Korea\", \"United States\", \"United States\", \"Spain\", \"India\", \"Australia\", \"Germany\", \"United States\", \"Italy\", \"South Korea\", \"Philippines\", \"United States\", \"United States\", \"Philippines\", \"United Kingdom\", \"Japan\", \"United Kingdom\", \"United States\", \"Canada\", \"United States\", \"India\", \"Nigeria\", \"United States\", \"United States\", \"Argentina\", \"Egypt\", \"United States\", \"United States\", \"South Korea\", \"Egypt\", \"United States\", \"United States\", \"Russia\", \"Kenya\", \"United States\", \"China\", \"United States\", \"United States\", \"India\", \"United States\", \"United States\", \"India\", \"India\", \"India\", \"India\", \"Philippines\", \"India\", \"India\", \"India\", \"United States\", \"Philippines\", \"India\", \"United States\", \"United States\", \"Japan\", \"United States\", \"United States\", \"United States\", \"United Kingdom\", \"United States\", \"United States\", \"United States\", \"Canada\", \"United States\", \"Japan\", \"United States\", \"Canada\", \"Canada\", \"United States\", \"Ireland\", \"United States\", \"United Kingdom\", \"United States\", \"United States\", \"United States\", \"United States\", \"India\", \"United States\", \"Brazil\", \"Italy\", \"Spain\", \"Philippines\", \"Turkey\", \"Philippines\", \"United States\", \"South Korea\", \"India\", \"Argentina\", \"United States\", \"Canada\", \"Brazil\", \"Australia\", \"United States\", \"United States\", \"Lebanon\", \"Canada\", \"France\", \"Austria\", \"United States\", \"United States\", \"United States\", \"Japan\", \"Canada\", \"United States\", \"Nigeria\", \"United States\", \"Taiwan\", \"Spain\", \"France\", \"Canada\", \"United States\", \"Australia\", \"United States\", \"Philippines\", \"Argentina\", \"Canada\", \"Philippines\", \"United States\", \"Egypt\", \"Canada\", \"Canada\", \"Sweden\", \"India\", \"Germany\", \"Japan\", \"United States\", \"United States\", \"Canada\", \"Canada\", \"United States\", \"United States\", \"United States\", \"United States\", \"United States\", \"United States\", \"Canada\", \"United States\", \"United States\", \"United States\", \"United States\", \"Canada\", \"Denmark\", \"Singapore\", \"Canada\", \"United States\", \"United States\", \"France\", \"Denmark\", \"United States\", \"United States\", \"China\", \"Colombia\", \"United States\", \"United Kingdom\", \"France\", \"Germany\", \"United States\", \"France\", \"United States\", \"South Korea\", \"Spain\", \"Thailand\", \"United States\", \"United States\", \"South Korea\", \"United States\", \"Brazil\", \"Norway\", \"Australia\", \"United States\", \"United Kingdom\", \"Nigeria\", \"India\", \"United States\", \"United States\", \"France\", \"United States\", \"Italy\", \"Mexico\", \"Spain\", \"Philippines\", \"United States\", \"United States\", \"United States\", \"Poland\", \"United States\", \"United States\", \"United States\", \"Argentina\", \"United States\", \"Taiwan\", \"India\", \"Ireland\", \"Luxembourg\", \"Belgium\", \"Australia\", \"Brazil\", \"Germany\", \"United States\", \"China\", \"United States\", \"United States\", \"Spain\", \"United States\", \"United States\", \"Norway\", \"Philippines\", \"United Kingdom\", \"Philippines\", \"Canada\", \"Belgium\", \"United States\", \"Canada\", \"United Kingdom\", \"United States\", \"United Kingdom\", \"Canada\", \"United States\", \"Lebanon\", \"Lebanon\", \"Lebanon\", \"Lebanon\", \"United Arab Emirates\", \"France\", \"Switzerland\", \"Germany\", \"Lebanon\", \"France\", \"Belgium\", \"Italy\", \"Lebanon\", \"Lebanon\", \"United States\", \"United Arab Emirates\", \"Lebanon\", \"France\", \"France\", \"Lebanon\", \"France\", \"Lebanon\", \"United Kingdom\", \"United States\", \"France\", \"Norway\", \"Lebanon\", \"Belgium\", \"Lebanon\", \"Lebanon\", \"Canada\", \"France\", \"Sweden\", \"Czech Republic\", \"United Kingdom\", \"Denmark\", \"Netherlands\", \"United States\", \"South Korea\", \"United Kingdom\", \"Kenya\", \"United States\", \"United States\", \"France\", \"Mexico\", \"Spain\", \"United States\", \"United States\", \"United Kingdom\", \"India\", \"United States\", \"Russia\", \"United States\", \"United States\", \"Egypt\", \"United Kingdom\", \"United States\", \"Indonesia\", \"Netherlands\", \"Indonesia\", \"United States\", \"United States\", \"India\", \"United States\", \"Taiwan\", \"United States\", \"Mexico\", \"India\", \"United Kingdom\", \"United States\", \"India\", \"India\", \"India\", \"United States\", \"India\", \"India\", \"United States\", \"United States\", \"India\", \"Turkey\", \"South Korea\", \"Canada\", \"United States\", \"United States\", \"France\", \"South Korea\", \"Argentina\", \"South Korea\", \"United States\", \"Canada\", \"United States\", \"Russia\", \"United States\", \"United Kingdom\", \"Canada\", \"United States\", \"India\", \"United States\", \"United Kingdom\", \"Canada\", \"Turkey\", \"United States\", \"United States\", \"Turkey\", \"United States\", \"United States\", \"United States\", \"Australia\", \"Nigeria\", \"India\", \"Italy\", \"Turkey\", \"United States\", \"Mexico\", \"Malaysia\", \"Serbia\", \"United States\", \"United States\", \"South Africa\", \"United States\", \"South Korea\", \"Japan\", \"United States\", \"Brazil\", \"United States\", \"New Zealand\", \"United States\", \"Mexico\", \"United States\", \"Germany\", \"Czech Republic\", \"United States\", \"United Kingdom\", \"Argentina\", \"Japan\", \"United States\", \"Saudi Arabia\", \"United States\", \"Bulgaria\", \"United States\", \"United States\", \"United States\", \"Mexico\", \"United States\", \"Namibia\", \"Japan\", \"United States\", \"United Kingdom\", \"Kenya\", \"United States\", \"United States\", \"Australia\", \"United States\", \"United States\", \"United States\", \"South Africa\", \"United States\", \"India\", \"India\", \"India\", \"India\", \"India\", \"India\", \"India\", \"India\", \"India\", \"United States\", \"United States\", \"United States\", \"India\", \"Germany\", \"United States\", \"United States\", \"United States\", \"South Korea\", \"United States\", \"United States\", \"India\", \"United States\", \"United Kingdom\", \"United States\", \"United States\", \"United States\", \"Japan\", \"Japan\", \"Japan\", \"Japan\", \"Japan\", \"United States\", \"Japan\", \"Egypt\", \"India\", \"India\", \"United States\", \"India\", \"India\", \"India\", \"India\", \"United States\", \"United States\", \"United States\", \"Indonesia\", \"India\", \"United States\", \"France\", \"United Kingdom\", \"United States\", \"United States\", \"Germany\", \"Italy\", \"United States\", \"United Kingdom\", \"France\", \"Germany\", \"Spain\", \"United States\", \"Poland\", \"United States\", \"United States\", \"Spain\", \"United Kingdom\", \"France\", \"United States\", \"Belgium\", \"Luxembourg\", \"China\", \"Germany\", \"United Kingdom\", \"Thailand\", \"United States\", \"United Kingdom\", \"France\", \"United States\", \"United States\", \"United States\", \"France\", \"Canada\", \"Belgium\", \"United States\", \"Nigeria\", \"United Kingdom\", \"China\", \"Mexico\", \"France\", \"United States\", \"United States\", \"Germany\", \"China\", \"United Kingdom\", \"Spain\", \"United Kingdom\", \"United States\", \"India\", \"India\", \"India\", \"India\", \"India\", \"India\", \"United States\", \"United States\", \"India\", \"Turkey\", \"India\", \"India\", \"Indonesia\", \"Egypt\", \"United States\", \"India\", \"France\", \"United States\", \"Spain\", \"Argentina\", \"United States\", \"South Korea\", \"South Korea\", \"South Africa\", \"Turkey\", \"United States\", \"United States\", \"Australia\", \"New Zealand\", \"United States\", \"United Kingdom\", \"United States\", \"United States\", \"South Africa\", \"United States\", \"Nigeria\", \"Philippines\", \"Brazil\", \"Indonesia\", \"United States\", \"United Kingdom\", \"United States\", \"Germany\", \"Germany\", \"United States\", \"Vietnam\", \"United States\", \"Hong Kong\", \"Iceland\", \"United States\", \"Philippines\", \"Netherlands\", \"Japan\", \"United States\", \"Denmark\", \"Japan\", \"United States\", \"Japan\", \"Japan\", \"United States\", \"France\", \"France\", \"Australia\", \"Germany\", \"United States\", \"United States\", \"United States\", \"India\", \"Spain\", \"United States\", \"Italy\", \"Japan\", \"United States\", \"Belgium\", \"Canada\", \"France\", \"United Kingdom\", \"Canada\", \"India\", \"United States\", \"United States\", \"United Kingdom\", \"United States\", \"India\", \"South Africa\", \"Angola\", \"Spain\", \"Japan\", \"United States\", \"Taiwan\", \"United States\", \"Colombia\", \"United States\", \"Philippines\", \"United States\", \"United States\", \"United Kingdom\", \"United States\", \"United States\", \"United States\", \"United States\", \"Nigeria\", \"India\", \"Mexico\", \"United States\", \"Canada\", \"United States\", \"South Korea\", \"United States\", \"Egypt\", \"Argentina\", \"United States\", \"United States\", \"United States\", \"United States\", \"Nigeria\", \"Indonesia\", \"United States\", \"Indonesia\", \"United Kingdom\", \"United States\", \"United States\", \"United Kingdom\", \"Canada\", \"China\", \"South Korea\", \"United States\", \"Denmark\", \"Saudi Arabia\", \"India\", \"Brazil\", \"United States\", \"Canada\", \"United States\", \"Nigeria\", \"United Kingdom\", \"United States\", \"United States\", \"Colombia\", \"United States\", \"Japan\", \"France\", \"United Kingdom\", \"United States\", \"United States\", \"France\", \"United States\", \"India\", \"United States\", \"United States\", \"United States\", \"Japan\", \"United States\", \"United States\", \"Nigeria\", \"United States\", \"Canada\", \"United Kingdom\", \"Germany\", \"Spain\", \"United States\", \"Germany\", \"United States\", \"United States\", \"United States\", \"United States\", \"United States\", \"United States\", \"Canada\", \"Uruguay\", \"Denmark\", \"United States\", \"France\", \"United States\", \"United States\", \"United States\", \"United States\", \"Brazil\", \"United States\", \"United States\", \"United States\", \"United States\", \"United States\", \"Canada\", \"Japan\", \"United States\", \"Canada\", \"Canada\", \"Turkey\", \"United States\", \"Japan\", \"United States\", \"United States\", \"Canada\", \"United Kingdom\", \"Germany\", \"India\", \"South Africa\", \"United States\", \"United States\", \"United States\", \"Canada\", \"Peru\", \"Germany\", \"Norway\", \"United States\", \"India\", \"United States\", \"Nigeria\", \"Mozambique\", \"Brazil\", \"France\", \"Poland\", \"United States\", \"United States\", \"United States\", \"United States\", \"United States\", \"India\", \"China\", \"India\", \"China\", \"Spain\", \"South Korea\", \"United States\", \"United States\", \"Nigeria\", \"Spain\", \"Germany\", \"Japan\", \"Spain\", \"United Kingdom\", \"United States\", \"United States\", \"South Korea\", \"South Africa\", \"United States\", \"Norway\", \"United States\", \"Hong Kong\", \"China\", \"United Kingdom\", \"United States\", \"United Kingdom\", \"France\", \"Belgium\", \"Luxembourg\", \"Cambodia,\", \"France\", \"Australia\", \"United Kingdom\", \"Australia\", \"United States\", \"United States\", \"Brazil\", \"Nigeria\", \"United States\", \"France\", \"Belgium\", \"Nigeria\", \"Mexico\", \"United States\", \"United States\", \"Belarus\", \"Nigeria\", \"Italy\", \"United States\", \"Australia\", \"France\", \"South Africa\", \"Brazil\", \"United States\", \"Egypt\", \"United States\", \"United States\", \"United States\", \"Belgium\", \"United States\", \"Japan\", \"Turkey\", \"South Korea\", \"New Zealand\", \"United States\", \"Australia\", \"United States\", \"United States\", \"France\", \"United States\", \"United States\", \"China\", \"United States\", \"India\", \"India\", \"India\", \"India\", \"India\", \"India\", \"India\", \"India\", \"India\", \"India\", \"India\", \"Thailand\", \"India\", \"India\", \"India\", \"India\", \"India\", \"India\", \"India\", \"United States\", \"India\", \"India\", \"India\", \"India\", \"India\", \"India\", \"India\", \"India\", \"India\", \"Spain\", \"United States\", \"Indonesia\", \"United Kingdom\", \"Switzerland\", \"France\", \"Belgium\", \"United States\", \"Japan\", \"United States\", \"United States\", \"Ghana\", \"United States\", \"Brazil\", \"United States\", \"Italy\", \"United Kingdom\", \"Taiwan\", \"United States\", \"Canada\", \"Spain\", \"Turkey\", \"Canada\", \"United States\", \"Germany\", \"Canada\", \"Turkey\", \"United States\", \"United Kingdom\", \"United States\", \"United States\", \"Spain\", \"France\", \"Canada\", \"United States\", \"United States\", \"Mexico\", \"France\", \"Italy\", \"Japan\", \"United States\", \"Chile\", \"Italy\", \"United Kingdom\", \"Nigeria\", \"Indonesia\", \"Nigeria\", \"United States\", \"Germany\", \"United States\", \"Australia\", \"Colombia\", \"United States\", \"United States\", \"Nigeria\", \"Philippines\", \"India\", \"United States\", \"India\", \"South Korea\", \"India\", \"India\", \"India\", \"United States\", \"India\", \"United Kingdom\", \"Chile\", \"United States\", \"United States\", \"India\", \"Nigeria\", \"South Korea\", \"United States\", \"Nigeria\", \"United States\", \"India\", \"France\", \"Egypt\", \"United States\", \"United States\", \"United States\", \"France\", \"Brazil\", \"Turkey\", \"Egypt\", \"France\", \"United States\", \"France\", \"Brazil\", \"Spain\", \"Belgium\", \"Japan\", \"Egypt\", \"Algeria\", \"France\", \"Egypt\", \"Egypt\", \"Egypt\", \"Egypt\", \"United States\", \"Philippines\", \"Thailand\", \"Egypt\", \"Lebanon\", \"Egypt\", \"Egypt\", \"Canada\", \"South Korea\", \"United States\", \"United States\", \"United Kingdom\", \"United States\", \"United States\", \"Nigeria\", \"United Kingdom\", \"United States\", \"United States\", \"United Kingdom\", \"United States\", \"Argentina\", \"Spain\", \"Malaysia\", \"Nigeria\", \"United States\", \"India\", \"United States\", \"Indonesia\", \"India\", \"United States\", \"United States\", \"United States\", \"France\", \"Canada\", \"Germany\", \"United States\", \"Japan\", \"Japan\", \"Mexico\", \"Poland\", \"United States\", \"United Arab Emirates\", \"Jordan\", \"Lebanon\", \"Saudi Arabia\", \"Saudi Arabia\", \"Italy\", \"United States\", \"United States\", \"United States\", \"South Korea\", \"Brazil\", \"South Korea\", \"United States\", \"Poland\", \"India\", \"India\", \"United States\", \"Mexico\", \"Spain\", \"Malta\", \"United States\", \"United States\", \"Egypt\", \"United States\", \"India\", \"Nigeria\", \"United States\", \"United States\", \"Canada\", \"United States\", \"United States\", \"Japan\", \"Turkey\", \"Turkey\", \"Egypt\", \"United States\", \"United States\", \"United States\", \"Egypt\", \"Egypt\", \"Egypt\", \"United States\", \"Egypt\", \"Egypt\", \"Egypt\", \"Canada\", \"Saudi Arabia\", \"United Arab Emirates\", \"Egypt\", \"Egypt\", \"Japan\", \"India\", \"Zimbabwe\", \"South Korea\", \"United Arab Emirates\", \"Japan\", \"Japan\", \"Japan\", \"United States\", \"South Korea\", \"South Korea\", \"United States\", \"United Kingdom\", \"Germany\", \"United Arab Emirates\", \"New Zealand\", \"Romania\", \"United States\", \"United Arab Emirates\", \"India\", \"United States\", \"France\", \"Egypt\", \"Ireland\", \"Japan\", \"United Arab Emirates\", \"United Arab Emirates\", \"Argentina\", \"Australia\", \"Mexico\", \"United States\", \"Australia\", \"China\", \"United States\", \"United States\", \"India\", \"United States\", \"Indonesia\", \"Indonesia\", \"United Kingdom\", \"Nigeria\", \"Japan\", \"United States\", \"Canada\", \"Indonesia\", \"Kuwait\", \"United States\", \"United States\", \"Chile\", \"South Korea\", \"Egypt\", \"United States\", \"United States\", \"Egypt\", \"Egypt\", \"Egypt\", \"Canada\", \"Nigeria\", \"United States\", \"United States\", \"United Kingdom\", \"United States\", \"Mexico\", \"Colombia\", \"India\", \"Egypt\", \"Egypt\", \"Egypt\", \"Egypt\", \"Egypt\", \"Egypt\", \"United States\", \"United States\", \"Egypt\", \"Egypt\", \"Saudi Arabia\", \"Netherlands\", \"Germany\", \"Jordan\", \"United Arab Emirates\", \"United States\", \"Egypt\", \"Nigeria\", \"United Kingdom\", \"United States\", \"Kuwait\", \"South Korea\", \"South Korea\", \"United States\", \"Lebanon\", \"Spain\", \"France\", \"United States\", \"United States\", \"Japan\", \"United States\", \"Thailand\", \"South Korea\", \"Australia\", \"United Kingdom\", \"Spain\", \"Indonesia\", \"Indonesia\", \"United Arab Emirates\", \"India\", \"United States\", \"Mexico\", \"Nigeria\", \"Kuwait\", \"India\", \"United States\", \"United Arab Emirates\", \"Canada\", \"United States\", \"India\", \"India\", \"Finland\", \"France\", \"United States\", \"United States\", \"United States\", \"Italy\", \"United States\", \"Canada\", \"United Kingdom\", \"Germany\", \"United States\", \"France\", \"Canada\", \"United Arab Emirates\", \"Kuwait\", \"China\", \"Indonesia\", \"United States\", \"United States\", \"United States\", \"India\", \"United Kingdom\", \"China\", \"Canada\", \"Japan\", \"South Korea\", \"United States\", \"Brazil\", \"India\", \"Argentina\", \"United States\", \"Colombia\", \"United States\", \"United States\", \"United States\", \"United States\", \"United States\", \"United States\", \"United States\", \"United States\", \"United States\", \"United States\", \"France\", \"Belgium\", \"United States\", \"United States\", \"United States\", \"United States\", \"Russia\", \"South Africa\", \"Italy\", \"United Kingdom\", \"France\", \"Japan\", \"India\", \"Canada\", \"India\", \"Australia\", \"United States\", \"United States\", \"United States\", \"United States\", \"United States\", \"United States\", \"United States\", \"United Kingdom\", \"United States\", \"Japan\", \"United States\", \"Mexico\", \"Colombia\", \"United States\", \"Canada\", \"Brazil\", \"Japan\", \"Taiwan\", \"United States\", \"Turkey\", \"South Korea\", \"Nigeria\", \"United States\", \"United Kingdom\", \"India\", \"South Africa\", \"Turkey\", \"Turkey\", \"India\", \"Egypt\", \"Turkey\", \"Turkey\", \"Italy\", \"Turkey\", \"Turkey\", \"United States\", \"Turkey\", \"Turkey\", \"United States\", \"Egypt\", \"Romania\", \"India\", \"India\", \"United States\", \"United Kingdom\", \"India\", \"Egypt\", \"South Korea\", \"United Kingdom\", \"United States\", \"Japan\", \"Egypt\", \"France\", \"Belgium\", \"United States\", \"Egypt\", \"Egypt\", \"Egypt\", \"Egypt\", \"United States\", \"United Kingdom\", \"United States\", \"India\", \"Turkey\", \"India\", \"Japan\", \"United States\", \"Indonesia\", \"Indonesia\", \"Mexico\", \"Indonesia\", \"South Korea\", \"United States\", \"United States\", \"Poland\", \"Nigeria\", \"Spain\", \"Canada\", \"United States\", \"United Kingdom\", \"United Kingdom\", \"Japan\", \"United States\", \"Puerto Rico\", \"United States\", \"Colombia\", \"United States\", \"United States\", \"India\", \"India\", \"South Korea\", \"United States\", \"Turkey\", \"France\", \"Belgium\", \"Mexico\", \"India\", \"Germany\", \"United States\", \"Spain\", \"Germany\", \"Uruguay\", \"Argentina\", \"France\", \"Israel\", \"United States\", \"United Kingdom\", \"Japan\", \"United States\", \"Brazil\", \"United States\", \"Turkey\", \"Philippines\", \"India\", \"United States\", \"India\", \"United States\", \"Nigeria\", \"Nigeria\", \"United States\", \"Canada\", \"United States\", \"United States\", \"Argentina\", \"United Kingdom\", \"Italy\", \"France\", \"United States\", \"Italy\", \"United States\", \"Japan\", \"United States\", \"Philippines\", \"United States\", \"United States\", \"United States\", \"United States\", \"United States\", \"Ireland\", \"United Kingdom\", \"United States\", \"Chile\", \"United States\", \"United States\", \"Spain\", \"United Kingdom\", \"France\", \"Belgium\", \"Canada\", \"United States\", \"Japan\", \"Japan\", \"India\", \"India\", \"United States\", \"India\", \"United States\", \"Sweden\", \"India\", \"United States\", \"India\", \"India\", \"India\", \"India\", \"India\", \"India\", \"United States\", \"India\", \"India\", \"India\", \"India\", \"India\", \"India\", \"India\", \"India\", \"United Kingdom\", \"India\", \"India\", \"United States\", \"Japan\", \"India\", \"United Kingdom\", \"United States\", \"Netherlands\", \"Germany\", \"Denmark\", \"United Kingdom\", \"United States\", \"United Kingdom\", \"India\", \"China\", \"United States\", \"India\", \"India\", \"United States\", \"United States\", \"United States\", \"Canada\", \"India\", \"United States\", \"Canada\", \"United States\", \"United States\", \"India\", \"South Korea\", \"United States\", \"United States\", \"United States\", \"India\", \"India\", \"United States\", \"Canada\", \"Canada\", \"Canada\", \"United States\", \"United States\", \"Hungary\", \"United States\", \"Thailand\", \"Germany\", \"Germany\", \"United States\", \"United States\", \"Hungary\", \"Spain\", \"United States\", \"Austria\", \"Germany\", \"Taiwan\", \"China\", \"United States\", \"Argentina\", \"United States\", \"United States\", \"Japan\", \"Mexico\", \"United States\", \"United States\", \"India\", \"United Kingdom\", \"United Kingdom\", \"United States\", \"Italy\", \"France\", \"United States\", \"Japan\", \"United States\", \"Saudi Arabia\", \"United States\", \"Sweden\", \"Japan\", \"Netherlands\", \"United Kingdom\", \"United States\", \"United Kingdom\", \"United States\", \"Ireland\", \"United States\", \"United States\", \"India\", \"United States\", \"United States\", \"United States\", \"United States\", \"India\", \"United States\", \"South Africa\", \"Norway\", \"Australia\", \"United States\", \"South Korea\", \"United States\", \"United States\", \"Turkey\", \"Iceland\", \"United States\", \"United States\", \"Brazil\", \"United Kingdom\", \"Canada\", \"United States\", \"United States\", \"Pakistan\", \"United States\", \"United States\", \"South Africa\", \"India\", \"France\", \"United States\", \"United States\", \"Spain\", \"United States\", \"Nigeria\", \"United States\", \"India\", \"Thailand\", \"Romania\", \"France\", \"Switzerland\", \"Germany\", \"United States\", \"Romania\", \"Spain\", \"United States\", \"Canada\", \"Brazil\", \"United States\", \"India\", \"South Africa\", \"United Kingdom\", \"United States\", \"Japan\", \"Germany\", \"India\", \"United States\", \"United States\", \"United States\", \"United Kingdom\", \"United States\", \"France\", \"United States\", \"South Africa\", \"United States\", \"United States\", \"France\", \"United Kingdom\", \"Canada\", \"United States\", \"United States\", \"Colombia\", \"India\", \"South Africa\", \"Spain\", \"Mexico\", \"India\", \"United States\", \"Japan\", \"Japan\", \"Saudi Arabia\", \"Nigeria\", \"Nigeria\", \"United States\", \"Nigeria\", \"Nigeria\", \"United States\", \"United States\", \"Nigeria\", \"United States\", \"United States\", \"South Korea\", \"United States\", \"Canada\", \"United States\", \"South Korea\", \"United States\", \"Argentina\", \"Germany\", \"India\", \"United States\", \"India\", \"South Africa\", \"Brazil\", \"Romania\", \"United Kingdom\", \"United States\", \"France\", \"Malta\", \"United States\", \"United States\", \"United States\", \"Nigeria\", \"United States\", \"United States\", \"United States\", \"Cyprus\", \"United Kingdom\", \"France\", \"Belgium\", \"Ireland\", \"United States\", \"Philippines\", \"Poland\", \"Germany\", \"South Africa\", \"India\", \"India\", \"Nigeria\", \"Japan\", \"United States\", \"Mexico\", \"United States\", \"United States\", \"Thailand\", \"South Africa\", \"United States\", \"United States\", \"United States\", \"United States\", \"Mexico\", \"Indonesia\", \"United States\", \"United States\", \"United States\", \"Norway\", \"Canada\", \"Poland\", \"United States\", \"India\", \"Ghana\", \"United States\", \"Nigeria\", \"United States\", \"India\", \"Canada\", \"United States\", \"United States\", \"United States\", \"United States\", \"Japan\", \"Kenya\", \"United States\", \"United States\", \"United States\", \"United States\", \"United States\", \"United States\", \"United States\", \"United States\", \"India\", \"Spain\", \"United States\", \"India\", \"Japan\", \"South Korea\", \"United States\", \"Canada\", \"South Africa\", \"France\", \"South Korea\", \"Japan\", \"United States\", \"Netherlands\", \"United Kingdom\", \"Japan\", \"Japan\", \"United States\", \"United States\", \"India\", \"Japan\", \"Mexico\", \"France\", \"Nigeria\", \"Italy\", \"United States\", \"Spain\", \"Japan\", \"United States\", \"United Kingdom\", \"United States\", \"France\", \"Belgium\", \"United States\", \"United Kingdom\", \"Brazil\", \"India\", \"India\", \"India\", \"United States\", \"Taiwan\", \"South Africa\", \"United States\", \"Nigeria\", \"United States\", \"United States\", \"United States\", \"Mexico\", \"United States\", \"Japan\", \"Taiwan\", \"Malaysia\", \"United States\", \"United States\", \"Uruguay\", \"Argentina\", \"Germany\", \"Spain\", \"United States\", \"India\", \"United States\", \"India\", \"United States\", \"United States\", \"United Kingdom\", \"France\", \"Germany\", \"Japan\", \"United States\", \"Netherlands\", \"Canada\", \"Germany\", \"United States\", \"United States\", \"China\", \"United States\", \"France\", \"Japan\", \"United States\", \"United Kingdom\", \"France\", \"United States\", \"Japan\", \"Japan\", \"United Kingdom\", \"United States\", \"India\", \"Spain\", \"France\", \"United States\", \"United States\", \"Austria\", \"United States\", \"United States\", \"France\", \"Poland\", \"United States\", \"United States\", \"India\", \"United States\", \"United Kingdom\", \"United States\", \"India\", \"United States\", \"United Kingdom\", \"Australia\", \"France\", \"United States\", \"United States\", \"United States\", \"Spain\", \"United Kingdom\", \"Mexico\", \"Canada\", \"India\", \"United States\", \"Belgium\", \"Indonesia\", \"South Korea\", \"Singapore\", \"South Korea\", \"Canada\", \"United Kingdom\", \"Japan\", \"United States\", \"United States\", \"United States\", \"South Korea\", \"South Korea\", \"United States\", \"India\", \"United States\", \"United States\", \"Spain\", \"South Korea\", \"United States\", \"United States\", \"Netherlands\", \"Germany\", \"Italy\", \"Canada\", \"Spain\", \"Germany\", \"Denmark\", \"United States\", \"Mexico\", \"Spain\", \"Japan\", \"Indonesia\", \"South Korea\", \"United States\", \"United States\", \"South Korea\", \"United States\", \"South Korea\", \"India\", \"India\", \"Japan\", \"United States\", \"United States\", \"Norway\", \"Sweden\", \"United States\", \"South Korea\", \"Canada\", \"United States\", \"China\", \"South Korea\", \"United States\", \"China\", \"Japan\", \"Japan\", \"South Africa\", \"Argentina\", \"Uruguay\", \"Serbia\", \"United States\", \"United States\", \"Italy\", \"France\", \"United States\", \"United States\", \"Japan\", \"United States\", \"Israel\", \"United States\", \"France\", \"Japan\", \"United States\", \"Japan\", \"Mexico\", \"United States\", \"United States\", \"United States\", \"United States\", \"Australia\", \"Nigeria\", \"Mauritius\", \"South Africa\", \"Nigeria\", \"United States\", \"Nigeria\", \"United States\", \"United Kingdom\", \"Italy\", \"United States\", \"Poland\", \"United States\", \"Mexico\", \"France\", \"Poland\", \"United Kingdom\", \"United States\", \"United States\", \"United States\", \"Bangladesh\", \"United Kingdom\", \"United States\", \"Germany\", \"Denmark\", \"Belgium\", \"Japan\", \"India\", \"South Korea\", \"United States\", \"South Korea\", \"Nigeria\", \"India\", \"India\", \"India\", \"India\", \"Germany\", \"India\", \"India\", \"Japan\", \"United States\", \"India\", \"Nigeria\", \"India\", \"India\", \"India\", \"Ghana\", \"India\", \"United States\", \"India\", \"United States\", \"India\", \"United States\", \"Nigeria\", \"South Africa\", \"Nigeria\", \"United States\", \"Taiwan\", \"United States\", \"United Kingdom\", \"India\", \"United Kingdom\", \"Canada\", \"United States\", \"Egypt\", \"United States\", \"United States\", \"United States\", \"India\", \"Brazil\", \"United States\", \"Nigeria\", \"United States\", \"United States\", \"United Kingdom\", \"United States\", \"Japan\", \"Nigeria\", \"United States\", \"Japan\", \"Brazil\", \"United States\", \"Spain\", \"United States\", \"Nigeria\", \"United Kingdom\", \"Nigeria\", \"United States\", \"United States\", \"United States\", \"United States\", \"China\", \"Colombia\", \"United States\", \"United States\", \"United States\", \"India\", \"United States\", \"Philippines\", \"United States\", \"United States\", \"India\", \"Australia\", \"India\", \"India\", \"United Kingdom\", \"India\", \"United States\", \"Thailand\", \"India\", \"France\", \"Romania\", \"Bulgaria\", \"Hungary\", \"South Korea\", \"Uruguay\", \"Guatemala\", \"India\", \"France\", \"Senegal\", \"Belgium\", \"United Kingdom\", \"Canada\", \"Nigeria\", \"France\", \"South Africa\", \"Mexico\", \"United States\", \"Spain\", \"Colombia\", \"United States\", \"Nigeria\", \"Nigeria\", \"United States\", \"Nigeria\", \"United States\", \"Japan\", \"Brazil\", \"United States\", \"France\", \"United States\", \"India\", \"United States\", \"Canada\", \"Norway\", \"United States\", \"United States\", \"United States\", \"Poland\", \"United States\", \"Mexico\", \"India\", \"Spain\", \"United States\", \"China\", \"France\", \"United States\", \"Japan\", \"United States\", \"United States\", \"United States\", \"Brazil\", \"United States\", \"Singapore\", \"United States\", \"United States\", \"Canada\", \"United States\", \"United States\", \"Thailand\", \"United States\", \"India\", \"Germany\", \"Mexico\", \"India\", \"France\", \"United States\", \"United States\", \"Taiwan\", \"Finland\", \"Germany\", \"Belgium\", \"United States\", \"United Kingdom\", \"France\", \"United States\", \"Chile\", \"Taiwan\", \"United Kingdom\", \"Japan\", \"United States\", \"Colombia\", \"Argentina\", \"India\", \"India\", \"United States\", \"South Korea\", \"Japan\", \"Japan\", \"Spain\", \"United Kingdom\", \"Taiwan\", \"United States\", \"Taiwan\", \"South Korea\", \"India\", \"United States\", \"Mexico\", \"Japan\", \"Thailand\", \"United States\", \"Turkey\", \"United States\", \"France\", \"Thailand\", \"Argentina\", \"United States\", \"Mexico\", \"South Korea\", \"United States\", \"United States\", \"China\", \"United States\", \"India\", \"United Kingdom\", \"United Kingdom\", \"Canada\", \"United States\", \"United States\", \"France\", \"Colombia\", \"India\", \"United States\", \"Japan\", \"China\", \"Hong Kong\", \"Brazil\", \"United States\", \"United States\", \"United Kingdom\", \"United States\", \"South Korea\", \"United States\", \"United Kingdom\", \"United States\", \"India\", \"United States\", \"United States\", \"United States\", \"United States\", \"United States\", \"Canada\", \"United States\", \"United States\", \"South Korea\", \"Japan\", \"United States\", \"Canada\", \"United States\", \"United States\", \"United States\", \"Canada\", \"United States\", \"United States\", \"Spain\", \"United States\", \"France\", \"United States\", \"United States\", \"United States\", \"United Kingdom\", \"Japan\", \"India\", \"United States\", \"Japan\", \"United States\", \"United States\", \"Japan\", \"Japan\", \"Japan\", \"United States\", \"Japan\", \"United States\", \"United States\", \"Canada\", \"Australia\", \"United States\", \"United Kingdom\", \"Hungary\", \"Australia\", \"Italy\", \"Belgium\", \"Mexico\", \"Canada\", \"Argentina\", \"Spain\", \"Germany\", \"Mexico\", \"Argentina\", \"United States\", \"Japan\", \"Taiwan\", \"United States\", \"South Korea\", \"India\", \"South Korea\", \"United States\", \"United States\", \"United States\", \"United States\", \"Mexico\", \"United States\", \"United Kingdom\", \"China\", \"China\", \"United States\", \"Brazil\", \"Turkey\", \"United States\", \"Spain\", \"United States\", \"United Kingdom\", \"Germany\", \"Argentina\", \"United States\", \"France\", \"Spain\", \"United States\", \"Switzerland\", \"China\", \"United States\", \"United States\", \"Singapore\", \"Malaysia\", \"United States\", \"United States\", \"Hong Kong\", \"China\", \"United States\", \"United Kingdom\", \"United States\", \"France\", \"Belgium\", \"Luxembourg\", \"Romania\", \"Canada\", \"United States\", \"South Africa\", \"Nigeria\", \"United States\", \"United States\", \"United States\", \"United States\", \"United States\", \"United States\", \"United States\", \"United Kingdom\", \"United Kingdom\", \"Turkey\", \"India\", \"United States\", \"Spain\", \"United States\", \"Nigeria\", \"United Kingdom\", \"United States\", \"Netherlands\", \"Nigeria\", \"India\", \"Indonesia\", \"China\", \"Australia\", \"South Korea\", \"United States\", \"United States\", \"South Korea\", \"South Korea\", \"United States\", \"United Kingdom\", \"United States\", \"Turkey\", \"Canada\", \"France\", \"South Korea\", \"Turkey\", \"United States\", \"United States\", \"United States\", \"Nigeria\", \"Japan\", \"France\", \"Spain\", \"France\", \"United States\", \"United States\", \"Japan\", \"United States\", \"United States\", \"United States\", \"United States\", \"United States\", \"Indonesia\", \"Mexico\", \"South Korea\", \"India\", \"United Kingdom\", \"Hong Kong\", \"Turkey\", \"United Kingdom\", \"Canada\", \"Canada\", \"United States\", \"Turkey\", \"United Kingdom\", \"United States\", \"United States\", \"United States\", \"United States\", \"United States\", \"United States\", \"Mexico\", \"United States\", \"South Korea\", \"South Korea\", \"India\", \"India\", \"Netherlands\", \"India\", \"India\", \"India\", \"United States\", \"South Korea\", \"United States\", \"Germany\", \"United States\", \"South Korea\", \"South Korea\", \"United States\", \"United States\", \"United States\", \"United Kingdom\", \"United States\", \"Japan\", \"India\", \"Turkey\", \"Argentina\", \"United States\", \"Canada\", \"United States\", \"India\", \"Hong Kong\", \"China\", \"Mexico\", \"United States\", \"United States\", \"Mexico\", \"Australia\", \"United States\", \"United States\", \"United States\", \"United States\", \"India\", \"United States\", \"India\", \"South Korea\", \"United States\", \"United States\", \"Germany\", \"Spain\", \"United States\", \"United States\", \"Spain\", \"Turkey\", \"Canada\", \"India\", \"South Korea\", \"United Kingdom\", \"United States\", \"United States\", \"United States\", \"United States\", \"India\", \"United States\", \"United States\", \"Japan\", \"Turkey\", \"France\", \"China\", \"United States\", \"United States\", \"United States\", \"United States\", \"United States\", \"United States\", \"United Kingdom\", \"United Kingdom\", \"India\", \"India\", \"India\", \"Turkey\", \"France\", \"United States\", \"Pakistan\", \"India\", \"Brazil\", \"United States\", \"United States\", \"United States\", \"Japan\", \"Denmark\", \"Brazil\", \"France\", \"Portugal\", \"Sweden\", \"United Kingdom\", \"United States\", \"United Arab Emirates\", \"China\", \"United Kingdom\", \"United States\", \"Colombia\", \"Chile\", \"United States\", \"United Kingdom\", \"United States\", \"Colombia\", \"United States\", \"Canada\", \"Spain\", \"United States\", \"Brazil\", \"United States\", \"United Kingdom\", \"United States\", \"Hong Kong\", \"United States\", \"United States\", \"India\", \"India\", \"China\", \"Taiwan\", \"India\", \"United States\", \"United States\", \"India\", \"Turkey\", \"United States\", \"United States\", \"Philippines\", \"United Kingdom\", \"United Kingdom\", \"Spain\", \"Argentina\", \"Russia\", \"United States\", \"Colombia\", \"South Korea\", \"United States\", \"United States\", \"United States\", \"United States\", \"Canada\", \"China\", \"Spain\", \"Spain\", \"United States\", \"Japan\", \"India\", \"United States\", \"Taiwan\", \"Brazil\", \"United States\", \"India\", \"India\", \"United States\", \"Mexico\", \"United States\", \"United States\", \"United States\", \"United States\", \"United States\", \"India\", \"United States\", \"Brazil\", \"United States\", \"South Korea\", \"Lebanon\", \"United States\", \"Malaysia\", \"Singapore\", \"Hong Kong\", \"South Korea\", \"South Korea\", \"South Korea\", \"South Korea\", \"South Korea\", \"United States\", \"India\", \"United States\", \"Philippines\", \"United States\", \"United States\", \"United States\", \"United States\", \"United States\", \"Japan\", \"United States\", \"Mexico\", \"Netherlands\", \"United States\", \"United States\", \"United Kingdom\", \"United States\", \"India\", \"India\", \"Thailand\", \"Australia\", \"Canada\", \"United States\", \"United States\", \"Spain\", \"Philippines\", \"Singapore\", \"France\", \"Belgium\", \"South Korea\", \"Argentina\", \"United States\", \"United States\", \"Australia\", \"Canada\", \"United States\", \"United States\", \"Hong Kong\", \"Hong Kong\", \"Hong Kong\", \"China\", \"Hong Kong\", \"China\", \"Hong Kong\", \"Spain\", \"United States\", \"United States\", \"India\", \"South Korea\", \"United States\", \"India\", \"United States\", \"China\", \"India\", \"United States\", \"Japan\", \"Japan\", \"Japan\", \"Japan\", \"United States\", \"Spain\", \"Sweden\", \"Taiwan\", \"China\", \"France\", \"United States\", \"United States\", \"Germany\", \"South Korea\", \"United States\", \"France\", \"United States\", \"Germany\", \"Italy\", \"United States\", \"Spain\", \"United States\", \"United States\", \"Argentina\", \"China\", \"United States\", \"United States\", \"United States\", \"United States\", \"Australia\", \"Thailand\", \"Thailand\", \"South Korea\", \"United States\", \"United States\", \"United States\", \"France\", \"France\", \"Japan\", \"United States\", \"Spain\", \"Thailand\", \"India\", \"United States\", \"India\", \"United States\", \"Colombia\", \"Peru\", \"United Kingdom\", \"United States\", \"Australia\", \"Mexico\", \"Australia\", \"United States\", \"Spain\", \"United Kingdom\", \"United States\", \"Mexico\", \"Japan\", \"India\", \"India\", \"United States\", \"Japan\", \"Thailand\", \"China\", \"United States\", \"Argentina\", \"United States\", \"Colombia\", \"Japan\", \"United States\", \"Argentina\", \"Japan\", \"Japan\", \"United States\", \"New Zealand\", \"United States\", \"Japan\", \"India\", \"France\", \"United States\", \"Brazil\", \"United States\", \"United States\", \"Germany\", \"Japan\", \"Japan\", \"Sweden\", \"United States\", \"India\", \"India\", \"Japan\", \"China\", \"Spain\", \"Belgium\", \"United States\", \"France\", \"Belgium\", \"Brazil\", \"United States\", \"United States\", \"India\", \"United States\", \"United States\", \"United States\", \"Mexico\", \"Jordan\", \"United States\", \"Indonesia\", \"United States\", \"United States\", \"Malaysia\", \"Uruguay\", \"Spain\", \"Mexico\", \"United States\", \"Spain\", \"Australia\", \"India\", \"France\", \"Luxembourg\", \"Canada\", \"Germany\", \"India\", \"United States\", \"United States\", \"United States\", \"Germany\", \"Japan\", \"United Kingdom\", \"Netherlands\", \"United States\", \"United States\", \"United States\", \"United States\", \"South Korea\", \"India\", \"Taiwan\", \"India\", \"Japan\", \"Romania\", \"Hong Kong\", \"Canada\", \"India\", \"United States\", \"India\", \"China\", \"United States\", \"South Korea\", \"United States\", \"United States\", \"United States\", \"Austria\", \"United States\", \"United States\", \"United States\", \"United States\", \"United States\", \"United States\", \"Mexico\", \"India\", \"United States\", \"United States\", \"Mexico\", \"Mexico\", \"Spain\", \"Denmark\", \"Spain\", \"Spain\", \"United States\", \"Philippines\", \"United States\", \"Italy\", \"United States\", \"United Kingdom\", \"United States\", \"India\", \"United Kingdom\", \"United Kingdom\", \"India\", \"Argentina\", \"United States\", \"United States\", \"Japan\", \"United States\", \"United States\", \"United States\", \"New Zealand\", \"China\", \"Hong Kong\", \"Chile\", \"Argentina\", \"France\", \"Hong Kong\", \"China\", \"United States\", \"Spain\", \"United States\", \"Brazil\", \"China\", \"United States\", \"United States\", \"Taiwan\", \"United States\", \"United States\", \"United States\", \"United States\", \"United States\", \"United States\", \"United States\", \"United States\", \"United States\", \"South Korea\", \"United States\", \"Kuwait\", \"Lebanon\", \"United States\", \"United Kingdom\", \"Belgium\", \"Sweden\", \"China\", \"United States\", \"Mexico\", \"Canada\", \"Brazil\", \"Spain\", \"United States\", \"United Kingdom\", \"South Korea\", \"United States\", \"United States\", \"India\", \"United States\", \"Japan\", \"United Kingdom\", \"United States\", \"Malaysia\", \"India\", \"Hong Kong\", \"Taiwan\", \"United States\", \"Hong Kong\", \"Japan\", \"United States\", \"Taiwan\", \"United States\", \"Taiwan\", \"United States\", \"India\", \"Mexico\", \"United States\", \"United States\", \"Colombia\", \"Turkey\", \"India\", \"United States\", \"United States\", \"United States\", \"Denmark\", \"United States\", \"United States\", \"Taiwan\", \"Australia\", \"India\", \"Taiwan\", \"Japan\", \"United States\", \"Brazil\", \"United States\", \"Italy\", \"France\", \"United Kingdom\", \"Mexico\", \"United States\", \"United Kingdom\", \"United States\", \"India\", \"India\", \"United States\", \"India\", \"France\", \"India\", \"India\", \"India\", \"India\", \"India\", \"United States\", \"United States\", \"Spain\", \"Turkey\", \"Turkey\", \"Italy\", \"United States\", \"United States\", \"United States\", \"South Korea\", \"Brazil\", \"Canada\", \"Germany\", \"United States\", \"India\", \"United States\", \"United States\", \"United States\", \"United Kingdom\", \"United States\", \"United States\", \"United Kingdom\", \"India\", \"Sweden\", \"Malaysia\", \"Canada\", \"United States\", \"United States\", \"Mexico\", \"United States\", \"South Korea\", \"United States\", \"Indonesia\", \"Lebanon\", \"India\", \"Malaysia\", \"United States\", \"United States\", \"China\", \"Pakistan\", \"United Arab Emirates\", \"South Korea\", \"United States\", \"United States\", \"Japan\", \"United States\", \"Ghana\", \"United States\", \"United Kingdom\", \"India\", \"Mexico\", \"Finland\", \"France\", \"United States\", \"United States\", \"United States\", \"United States\", \"United Kingdom\", \"France\", \"Canada\", \"Japan\", \"Indonesia\", \"Indonesia\", \"United States\", \"India\", \"United States\", \"Spain\", \"Thailand\", \"United States\", \"Mexico\", \"India\", \"Spain\", \"United States\", \"United States\", \"United States\", \"United States\", \"United States\", \"Canada\", \"Japan\", \"Philippines\", \"Philippines\", \"Philippines\", \"Philippines\", \"Philippines\", \"Uruguay\", \"United States\", \"India\", \"Japan\", \"United States\", \"United States\", \"Taiwan\", \"United Arab Emirates\", \"United Kingdom\", \"India\", \"France\", \"Belgium\", \"Italy\", \"Netherlands\", \"Belgium\", \"Spain\", \"United States\", \"United States\", \"United States\", \"United States\", \"United States\", \"Taiwan\", \"United States\", \"Malaysia\", \"United Kingdom\", \"United States\", \"United Kingdom\", \"Philippines\", \"Philippines\", \"Philippines\", \"Philippines\", \"Philippines\", \"Egypt\", \"Egypt\", \"United States\", \"United States\", \"Egypt\", \"Egypt\", \"United States\", \"United States\", \"Egypt\", \"United Arab Emirates\", \"Turkey\", \"United States\", \"France\", \"United States\", \"United States\", \"United States\", \"Philippines\", \"Philippines\", \"Philippines\", \"Philippines\", \"United States\", \"Australia\", \"South Korea\", \"United States\", \"Philippines\", \"Philippines\", \"Japan\", \"United States\", \"Austria\", \"Iraq\", \"United States\", \"Thailand\", \"Thailand\", \"France\", \"Belgium\", \"India\", \"United States\", \"United States\", \"Canada\", \"Canada\", \"United States\", \"France\", \"United States\", \"United States\", \"United Kingdom\", \"Malawi\", \"Japan\", \"Paraguay\", \"Argentina\", \"United States\", \"Spain\", \"France\", \"Spain\", \"France\", \"Philippines\", \"Philippines\", \"Philippines\", \"Philippines\", \"India\", \"Philippines\", \"Philippines\", \"Philippines\", \"Philippines\", \"Philippines\", \"Philippines\", \"United States\", \"United States\", \"India\", \"Spain\", \"United States\", \"United States\", \"India\", \"United States\", \"France\", \"India\", \"United Kingdom\", \"Brazil\", \"South Korea\", \"United States\", \"Canada\", \"India\", \"United Kingdom\", \"Russia\", \"United States\", \"United States\", \"India\", \"India\", \"United States\", \"Brazil\", \"India\", \"India\", \"India\", \"Denmark\", \"United States\", \"India\", \"India\", \"India\", \"United States\", \"New Zealand\", \"Argentina\", \"India\", \"Spain\", \"United States\", \"Canada\", \"United States\", \"Spain\", \"United States\", \"Taiwan\", \"Belgium\", \"United States\", \"United States\", \"United States\", \"United States\", \"Spain\", \"Egypt\", \"Egypt\", \"South Korea\", \"United States\", \"United Kingdom\", \"Egypt\", \"Japan\", \"South Korea\", \"United Kingdom\", \"India\", \"United States\", \"Taiwan\", \"United States\", \"United States\", \"United States\", \"United States\", \"United States\", \"United States\", \"Russia\", \"Japan\", \"United States\", \"Canada\", \"United States\", \"Malaysia\", \"China\", \"Hong Kong\", \"United States\", \"United States\", \"India\", \"Pakistan\", \"India\", \"United States\", \"South Korea\", \"Spain\", \"United States\", \"Indonesia\", \"Singapore\", \"India\", \"Indonesia\", \"Indonesia\", \"Indonesia\", \"Taiwan\", \"United States\", \"Philippines\", \"Spain\", \"Belgium\", \"United Kingdom\", \"Mexico\", \"Spain\", \"Argentina\", \"Spain\", \"United States\", \"Germany\", \"United States\", \"United States\", \"Argentina\", \"Turkey\", \"United Kingdom\", \"United States\", \"United States\", \"United States\", \"United States\", \"United States\", \"Brazil\", \"Mexico\", \"India\", \"United Kingdom\", \"United States\", \"United States\", \"Pakistan\", \"India\", \"India\", \"Taiwan\", \"India\", \"Pakistan\", \"South Korea\", \"United States\", \"Indonesia\", \"Indonesia\", \"Taiwan\", \"India\", \"Philippines\", \"United States\", \"United States\", \"Ireland\", \"United Kingdom\", \"United States\", \"Spain\", \"United States\", \"Spain\", \"United Kingdom\", \"Israel\", \"Japan\", \"India\", \"Bangladesh\", \"Thailand\", \"Iceland\", \"Sweden\", \"Belgium\", \"United States\", \"Nigeria\", \"United States\", \"United States\", \"United Kingdom\", \"United States\", \"Thailand\", \"United States\", \"India\", \"United States\", \"Japan\", \"India\", \"India\", \"Croatia\", \"United States\", \"United States\", \"United Kingdom\", \"United States\", \"United Kingdom\", \"United Kingdom\", \"United States\", \"United States\", \"United Kingdom\", \"Mexico\", \"United States\", \"United States\", \"United States\", \"United States\", \"Taiwan\", \"United States\", \"Japan\", \"United States\", \"United States\", \"United Kingdom\", \"United Kingdom\", \"United States\", \"United States\", \"United States\", \"Thailand\", \"Uruguay\", \"Argentina\", \"Spain\", \"United States\", \"Israel\", \"India\", \"United States\", \"India\", \"United States\", \"Spain\", \"United States\", \"Taiwan\", \"United Kingdom\", \"Ireland\", \"United States\", \"United States\", \"United Kingdom\", \"United States\", \"United States\", \"France\", \"Belgium\", \"United States\", \"Taiwan\", \"Japan\", \"Taiwan\", \"Taiwan\", \"Germany\", \"Japan\", \"Poland\", \"United States\", \"Turkey\", \"Singapore\", \"Japan\", \"Japan\", \"Singapore\", \"Singapore\", \"Singapore\", \"India\", \"United States\", \"India\", \"United States\", \"India\", \"China\", \"United States\", \"United States\", \"United States\", \"Canada\", \"Germany\", \"France\", \"United States\", \"United States\", \"United Kingdom\", \"Japan\", \"United States\", \"United Kingdom\", \"Philippines\", \"United States\", \"United States\", \"United States\", \"United States\", \"Spain\", \"India\", \"South Korea\", \"United States\", \"Mexico\", \"United States\", \"United States\", \"United States\", \"Australia\", \"Canada\", \"United States\", \"United States\", \"Japan\", \"United States\", \"United States\", \"Italy\", \"Germany\", \"United States\", \"United States\", \"United Kingdom\", \"United States\", \"United States\", \"Australia\", \"United States\", \"United States\", \"United States\", \"United States\", \"South Korea\", \"South Korea\", \"Pakistan\", \"China\", \"Hong Kong\", \"Hong Kong\", \"Mexico\", \"Norway\", \"Denmark\", \"Netherlands\", \"Sweden\", \"Hong Kong\", \"China\", \"Hong Kong\", \"India\", \"Malaysia\", \"Hong Kong\", \"Hong Kong\", \"China\", \"Australia\", \"United States\", \"Hong Kong\", \"China\", \"United States\", \"China\", \"Hong Kong\", \"Hong Kong\", \"United States\", \"Hong Kong\", \"India\", \"United States\", \"Hong Kong\", \"China\", \"Poland\", \"United States\", \"United States\", \"Ireland\", \"Canada\", \"United States\", \"Mexico\", \"Italy\", \"Switzerland\", \"France\", \"Germany\", \"Japan\", \"India\", \"India\", \"United States\", \"Canada\", \"France\", \"Mexico\", \"Netherlands\", \"United States\", \"United States\", \"Sweden\", \"United States\", \"Canada\", \"Spain\", \"United Kingdom\", \"United States\", \"United States\", \"Spain\", \"United States\", \"United States\", \"United States\", \"Canada\", \"Indonesia\", \"Indonesia\", \"United States\", \"United States\", \"United States\", \"China\", \"United States\", \"Mexico\", \"United States\", \"United States\", \"France\", \"Belgium\", \"Canada\", \"United States\", \"United States\", \"Brazil\", \"India\", \"United States\", \"Canada\", \"India\", \"Indonesia\", \"India\", \"India\", \"India\", \"Spain\", \"Philippines\", \"United States\", \"Denmark\", \"Germany\", \"France\", \"Russia\", \"Hong Kong\", \"Germany\", \"United States\", \"United Kingdom\", \"United States\", \"Brazil\", \"Colombia\", \"South Korea\", \"United States\", \"United States\", \"France\", \"Belgium\", \"United States\", \"India\", \"United States\", \"Malaysia\", \"Brazil\", \"United States\", \"United States\", \"United States\", \"France\", \"Iran\", \"United States\", \"United States\", \"India\", \"India\", \"India\", \"India\", \"India\", \"India\", \"India\", \"India\", \"Canada\", \"India\", \"Argentina\", \"United Kingdom\", \"India\", \"India\", \"India\", \"United States\", \"Brazil\", \"United States\", \"India\", \"India\", \"India\", \"India\", \"India\", \"India\", \"India\", \"India\", \"India\", \"India\", \"United States\", \"India\", \"India\", \"United States\", \"India\", \"India\", \"India\", \"India\", \"India\", \"India\", \"India\", \"India\", \"India\", \"United States\", \"United States\", \"United States\", \"South Africa\", \"India\", \"India\", \"India\", \"Spain\", \"France\", \"Philippines\", \"Japan\", \"Hong Kong\", \"China\", \"United States\", \"Russia\", \"Poland\", \"Serbia\", \"Spain\", \"Portugal\", \"Colombia\", \"United States\", \"United Kingdom\", \"United States\", \"Czech Republic\", \"India\", \"United States\", \"United States\", \"United States\", \"United States\", \"United States\", \"China\", \"United States\", \"United States\", \"Peru\", \"China\", \"Australia\", \"United States\", \"Mexico\", \"Argentina\", \"United States\", \"United Kingdom\", \"Canada\", \"United States\", \"Cayman Islands\", \"South Korea\", \"United States\", \"United States\", \"India\", \"United States\", \"Thailand\", \"Hong Kong\", \"China\", \"Indonesia\", \"United States\", \"United Kingdom\", \"India\", \"Canada\", \"Australia\", \"United States\", \"India\", \"India\", \"United Kingdom\", \"India\", \"United Kingdom\", \"United States\", \"United States\", \"Spain\", \"France\", \"United States\", \"United States\", \"Indonesia\", \"United States\", \"United States\", \"United States\", \"United States\", \"Israel\", \"United Kingdom\", \"Canada\", \"United States\", \"United States\", \"Norway\", \"Iceland\", \"United States\", \"Brazil\", \"United States\", \"United States\", \"Malaysia\", \"United States\", \"United States\", \"United States\", \"Czech Republic\", \"United States\", \"Japan\", \"United Kingdom\", \"United States\", \"United States\", \"South Korea\", \"United States\", \"United Kingdom\", \"India\", \"United States\", \"United States\", \"United States\", \"Bulgaria\", \"United States\", \"United States\", \"United Kingdom\", \"United States\", \"United Kingdom\", \"United Kingdom\", \"United States\", \"United Kingdom\", \"United Kingdom\", \"United Kingdom\", \"United Kingdom\", \"West Germany\", \"United Kingdom\", \"United Kingdom\", \"United States\", \"United Kingdom\", \"United Kingdom\", \"United Kingdom\", \"India\", \"Canada\", \"India\", \"India\", \"India\", \"India\", \"India\", \"India\", \"United States\", \"India\", \"United States\", \"India\", \"India\", \"India\", \"United States\", \"India\", \"India\", \"India\", \"India\", \"India\", \"India\", \"India\", \"India\", \"India\", \"India\", \"India\", \"India\", \"India\", \"India\", \"India\", \"India\", \"India\", \"India\", \"United States\", \"United States\", \"Canada\", \"United States\", \"India\", \"India\", \"India\", \"India\", \"India\", \"United States\", \"India\", \"India\", \"India\", \"India\", \"India\", \"India\", \"India\", \"United States\", \"India\", \"United States\", \"India\", \"United Kingdom\", \"India\", \"India\", \"India\", \"India\", \"India\", \"Australia\", \"India\", \"Pakistan\", \"United States\", \"United Kingdom\", \"Brazil\", \"China\", \"United States\", \"United States\", \"United States\", \"Canada\", \"South Korea\", \"United States\", \"Indonesia\", \"Spain\", \"United Kingdom\", \"United States\", \"United States\", \"Japan\", \"United States\", \"United States\", \"Brazil\", \"United States\", \"Japan\", \"Canada\", \"United States\", \"Lebanon\", \"United States\", \"United States\", \"Mexico\", \"United States\", \"United States\", \"Israel\", \"United States\", \"United States\", \"China\", \"United States\", \"South Korea\", \"Italy\", \"United States\", \"United States\", \"Netherlands\", \"United States\", \"United States\", \"United States\", \"United States,\", \"United States\", \"United States\", \"China\", \"Canada\", \"United States\", \"United States\", \"United States\", \"Belgium\", \"United Kingdom\", \"United States\", \"India\", \"United Kingdom\", \"United States\", \"Thailand\", \"United States\", \"Taiwan\", \"France\", \"Belgium\", \"India\", \"India\", \"India\", \"India\", \"Germany\", \"Austria\", \"Australia\", \"France\", \"Spain\", \"United States\", \"Czech Republic\", \"United States\", \"Spain\", \"United States\", \"Brazil\", \"South Korea\", \"Mexico\", \"Japan\", \"Germany\", \"United States\", \"Colombia\", \"India\", \"India\", \"India\", \"United States\", \"United States\", \"United States\", \"India\", \"Canada\", \"China\", \"United States\", \"United Kingdom\", \"India\", \"India\", \"India\", \"India\", \"India\", \"United States\", \"United States\", \"Spain\", \"Mexico\", \"United States\", \"South Korea\", \"India\", \"United States\", \"India\", \"Australia\", \"United States\", \"United States\", \"United Kingdom\", \"France\", \"United States\", \"United States\", \"United States\", \"Argentina\", \"Spain\", \"United States\", \"United States\", \"Taiwan\", \"India\", \"India\", \"India\", \"China\", \"Japan\", \"Spain\", \"United States\", \"United States\", \"India\", \"India\", \"India\", \"India\", \"India\", \"India\", \"India\", \"India\", \"India\", \"India\", \"India\", \"India\", \"India\", \"India\", \"India\", \"India\", \"India\", \"India\", \"India\", \"Mexico\", \"United States\", \"Argentina\", \"France\", \"Japan\", \"Japan\", \"France\", \"Japan\", \"Australia\", \"Australia\", \"Australia\", \"France\", \"Belgium\", \"Mexico\", \"Mexico\", \"United States\", \"United States\", \"Japan\", \"Australia\", \"United States\", \"Spain\", \"India\", \"United States\", \"Spain\", \"United Kingdom\", \"New Zealand\", \"China\", \"United States\", \"United Kingdom\", \"United States\", \"United States\", \"Japan\", \"Canada\", \"United States\", \"Brazil\", \"Spain\", \"United States\", \"Spain\", \"Japan\", \"Australia\", \"United States\", \"China\", \"United States\", \"United States\", \"Mexico\", \"Israel\", \"United Kingdom\", \"United States\", \"South Korea\", \"United States\", \"Argentina\", \"United States\", \"Spain\", \"France\", \"Luxembourg\", \"United States\", \"United States\", \"United States\", \"United States\", \"United States\", \"China\", \"United States\", \"Australia\", \"India\", \"United States\", \"India\", \"India\", \"United States\", \"India\", \"India\", \"India\", \"United States\", \"Mexico\", \"India\", \"United States\", \"India\", \"United States\", \"United States\", \"Spain\", \"United Kingdom\", \"United Kingdom\", \"Chile\", \"United Kingdom\", \"United States\", \"Colombia\", \"Mexico\", \"United States\", \"United States\", \"United States\", \"Canada\", \"United States\", \"Brazil\", \"Japan\", \"France\", \"United States\", \"United States\", \"Canada\", \"Ireland\", \"United Kingdom\", \"United States\", \"China\", \"Australia\", \"United States\", \"India\", \"Israel\", \"Peru\", \"United States\", \"Spain\", \"Chile\", \"Peru\", \"United States\", \"United States\", \"United States\", \"Australia\", \"Mexico\", \"France\", \"United States\", \"Japan\", \"India\", \"Thailand\", \"France\", \"United States\", \"Germany\", \"United States\", \"United States\", \"United States\", \"Spain\", \"South Korea\", \"Argentina\", \"United States\", \"United States\", \"United States\", \"Mexico\", \"Japan\", \"United States\", \"South Africa\", \"United States\", \"Canada\", \"United States\", \"France\", \"United States\", \"Argentina\", \"Italy\", \"India\", \"Japan\", \"Japan\", \"United States\", \"United States\", \"United States\", \"Mexico\", \"United States\", \"United Kingdom\", \"United States\", \"United States\", \"United States\", \"Germany\", \"United States\", \"Canada\", \"Japan\", \"United States\", \"United States\", \"United Kingdom\", \"Canada\", \"United States\", \"Germany\", \"France\", \"United States\", \"Italy\", \"Switzerland\", \"Albania\", \"Poland\", \"United States\", \"Japan\", \"Canada\", \"Mexico\", \"China\", \"Hong Kong\", \"Spain\", \"Colombia\", \"Cambodia\", \"India\", \"India\", \"Italy\", \"United States\", \"Argentina\", \"United States\", \"Argentina\", \"Spain\", \"United States\", \"Canada\", \"United States\", \"Spain\", \"United States\", \"United States\", \"United States\", \"United States\", \"France\", \"India\", \"United States\", \"United States\", \"Spain\", \"Saudi Arabia\", \"Syria\", \"Egypt\", \"Lebanon\", \"Kuwait\", \"India\", \"France\", \"United States\", \"United States\", \"United States\", \"Spain\", \"United States\", \"United States\", \"United States\", \"United States\", \"United States\", \"Germany\", \"United States\", \"Brazil\", \"South Korea\", \"United States\", \"United States\", \"Canada\", \"United States\", \"United States\", \"Brazil\", \"Germany\", \"France\", \"United States\", \"United States\", \"Canada\", \"Indonesia\", \"United Kingdom\", \"China\", \"Singapore\", \"United States\", \"France\", \"United States\", \"Colombia\", \"United Kingdom\", \"Philippines\", \"United States\", \"United States\", \"Spain\", \"Colombia\", \"United States\", \"United States\", \"Mexico\", \"United States\", \"Argentina\", \"United Kingdom\", \"South Africa\", \"Australia\", \"United States\", \"France\", \"Bulgaria\", \"France\", \"India\", \"United States\", \"Argentina\", \"Brazil\", \"France\", \"Poland\", \"Germany\", \"Denmark\", \"India\", \"Sweden\", \"United States\", \"United Kingdom\", \"India\", \"India\", \"India\", \"India\", \"India\", \"United Kingdom\", \"United Kingdom\", \"United States\", \"United States\", \"United States\", \"Mexico\", \"United Kingdom\", \"Spain\", \"United States\", \"Germany\", \"Canada\", \"Canada\", \"Canada\", \"United Kingdom\", \"United Kingdom\", \"Philippines\", \"Qatar\", \"United States\", \"Netherlands\", \"Belgium\", \"Germany\", \"Jordan\", \"United States\", \"United Kingdom\", \"United States\", \"India\", \"United States\", \"United Arab Emirates\", \"United States\", \"Argentina\", \"United States\", \"United States\", \"United States\", \"Japan\", \"Sweden\", \"Egypt\", \"Belgium\", \"Poland\", \"South Korea\", \"Japan\", \"United Kingdom\", \"United States\", \"Japan\", \"United Kingdom\", \"United States\", \"United States\", \"South Korea\", \"India\", \"Bulgaria\", \"United States\", \"Norway\", \"Germany\", \"Sweden\", \"United States\", \"United States\", \"United States\", \"Argentina\", \"Chile\", \"Canada\", \"Canada\", \"United States\", \"United States\", \"India\", \"India\", \"India\", \"United States\", \"Germany\", \"India\", \"Spain\", \"India\", \"Canada\", \"Canada\", \"Canada\", \"Canada\", \"Canada\", \"India\", \"India\", \"South Korea\", \"United Kingdom\", \"United States\", \"Spain\", \"South Korea\", \"China\", \"France\", \"United Kingdom\", \"Germany\", \"United States\", \"United Kingdom\", \"South Korea\", \"United Kingdom\", \"Japan\", \"Argentina\", \"United States\", \"United States\", \"United States\", \"Japan\", \"United States\", \"India\", \"United States\", \"United Kingdom\", \"Canada\", \"Georgia\", \"United States\", \"United States\", \"United States\", \"United States\", \"United States\", \"United States\", \"Hungary\", \"South Korea\", \"United States\", \"Mexico\", \"United States\", \"United States\", \"Germany\", \"United States\", \"United Kingdom\", \"Spain\", \"United States\", \"Singapore\", \"Mexico\", \"Argentina\", \"United States\", \"Bulgaria\", \"United States\", \"South Korea\", \"Colombia\", \"United States\", \"United States\", \"United States\", \"New Zealand\", \"Japan\", \"United States\", \"United States\", \"Canada\", \"United States\", \"United Kingdom\", \"Spain\", \"Colombia\", \"Japan\", \"United States\", \"Soviet Union\", \"India\", \"India\", \"Australia\", \"United Arab Emirates\", \"United States\", \"Czech Republic\", \"United States\", \"United States\", \"South Korea\", \"United States\", \"Colombia\", \"India\", \"United States\", \"United Kingdom\", \"United States\", \"United States\", \"Japan\", \"United States\", \"Spain\", \"Japan\", \"Japan\", \"United Kingdom\", \"Japan\", \"France\", \"United States\", \"United States\", \"Canada\", \"France\", \"France\", \"United States\", \"Germany\", \"United States\", \"United States\", \"United States\", \"United States\", \"United Kingdom\", \"Australia\", \"United States\", \"United States\", \"Argentina\", \"Canada\", \"Mexico\", \"United States\", \"United Kingdom\", \"Canada\", \"Germany\", \"South Africa\", \"South Korea\", \"United States\", \"United States\", \"India\", \"United States\", \"South Korea\", \"China\", \"United States\", \"United States\", \"United States\", \"United States\", \"United States\", \"United States\", \"India\", \"India\", \"Soviet Union\", \"Australia\", \"United States\", \"United States\", \"United States\", \"India\", \"Japan\", \"United States\", \"United States\", \"United States\", \"Malaysia\", \"United States\", \"Japan\", \"India\", \"Mexico\", \"Georgia\", \"Germany\", \"France\", \"France\", \"United States\", \"United Arab Emirates\", \"Romania\", \"United States\", \"United States\", \"United Kingdom\", \"United Kingdom\", \"India\", \"United States\", \"Spain\", \"Japan\", \"United States\", \"United States\", \"South Korea\", \"United States\", \"United States\", \"Australia\", \"Canada\", \"United States\", \"United States\", \"United States\", \"Canada\", \"United States\", \"United States\", \"United States\", \"United States\", \"United States\", \"Japan\", \"Russia\", \"United States\", \"Canada\", \"Japan\", \"Japan\", \"United States\", \"Mexico\", \"Brazil\", \"Japan\", \"United States\", \"United States\", \"United States\", \"United States\", \"India\", \"United States\", \"Canada\", \"India\", \"Spain\", \"United Arab Emirates\", \"Germany\", \"China\", \"United States\", \"United States\", \"United States\", \"United States\", \"Singapore\", \"United States\", \"United States\", \"United States\", \"Canada\", \"United States\", \"United States\", \"United States\", \"United States\", \"United Kingdom\", \"Canada\", \"United States\", \"United Kingdom\", \"United States\", \"United States\", \"United States\", \"United States\", \"United States\", \"France\", \"United States\", \"India\", \"United States\", \"United States\", \"India\", \"New Zealand\", \"France\", \"India\", \"Malaysia\", \"United States\", \"Germany\", \"Jordan\", \"Netherlands\", \"Turkey\", \"France\", \"Germany\", \"Poland\", \"Mexico\", \"United Kingdom\", \"United States\", \"United States\", \"Saudi Arabia\", \"Spain\", \"United States\", \"Japan\", \"China\", \"Greece\", \"United States\", \"United States\", \"South Korea\", \"Japan\", \"United States\", \"Canada\", \"Spain\", \"United States\", \"Italy\", \"United States\", \"Canada\", \"United States\", \"France\", \"United Kingdom\", \"United States\", \"United States\", \"United States\", \"Singapore\", \"Singapore\", \"Norway\", \"Germany\", \"Mexico\", \"Taiwan\", \"United Kingdom\", \"United States\", \"United States\", \"United States\", \"United States\", \"United States\", \"United Kingdom\", \"United States\", \"United States\", \"France\", \"Morocco\", \"United States\", \"United States\", \"Japan\", \"Canada\", \"Canada\", \"Spain\", \"Argentina\", \"United States\", \"United States\", \"United States\", \"United States\", \"Canada\", \"Cambodia\", \"United States\", \"United States\", \"Denmark\", \"United States\", \"United States\", \"Australia\", \"United States\", \"United States\", \"United States\", \"Spain\", \"Chile\", \"United States\", \"United States\", \"United States\", \"United States\", \"United States\", \"United States\", \"United States\", \"United States\", \"Taiwan\", \"Taiwan\", \"India\", \"United States\", \"Japan\", \"Japan\", \"United States\", \"India\", \"India\", \"Japan\", \"Japan\", \"United States\", \"India\", \"United States\", \"United States\", \"India\", \"India\", \"United States\", \"Colombia\", \"Mexico\", \"Germany\", \"United States\", \"France\", \"India\", \"Soviet Union\", \"Argentina\", \"Spain\", \"China\", \"United Kingdom\", \"Italy\", \"Israel\", \"Peru\", \"United States\", \"Argentina\", \"Uruguay\", \"Spain\", \"France\", \"Argentina\", \"United States\", \"United States\", \"Australia\", \"United States\", \"United States\", \"United States\", \"United States\", \"United States\", \"United Kingdom\", \"France\", \"United States\", \"Belgium\", \"Turkey\", \"United States\", \"United States\", \"Japan\", \"United States\", \"United States\", \"Mexico\", \"United States\", \"United States\", \"United States\", \"India\", \"United States\", \"United States\", \"India\", \"United States\", \"United States\", \"United States\", \"France\", \"Canada\", \"China\", \"Cambodia\", \"Mexico\", \"United States\", \"United Kingdom\", \"France\", \"Belgium\", \"United States\", \"United States\", \"Spain\", \"Germany\", \"Singapore\", \"Taiwan\", \"South Korea\", \"Russia\", \"Ireland\", \"United States\", \"United States\", \"Taiwan\", \"Russia\", \"United States\", \"United States\", \"United States\", \"Australia\", \"United States\", \"Chile\", \"France\", \"Singapore\", \"United Kingdom\", \"France\", \"United Kingdom\", \"United Kingdom\", \"United States\", \"United States\", \"United States\", \"Sweden\", \"United States\", \"India\", \"United States\", \"Spain\", \"Spain\", \"United States\", \"United States\", \"United States\", \"United States\", \"United States\", \"United States\", \"Canada\", \"China\", \"China\", \"China\", \"United States\", \"China\", \"France\", \"Turkey\", \"Australia\", \"Singapore\", \"India\", \"United States\", \"Canada\", \"United States\", \"Netherlands\", \"Turkey\", \"India\", \"United Kingdom\", \"India\", \"Singapore\", \"India\", \"United States\", \"Spain\", \"Singapore\", \"Singapore\", \"Singapore\", \"Singapore\", \"Singapore\", \"India\", \"Singapore\", \"Singapore\", \"Spain\", \"United States\", \"Canada\", \"United States\", \"United Kingdom\", \"Japan\", \"South Korea\", \"United States\", \"United States\", \"United States\", \"Netherlands\", \"United States\", \"United States\", \"India\", \"United States\", \"United States\", \"Japan\", \"Canada\", \"United States\", \"United States\", \"United States\", \"United States\", \"United States\", \"Italy\", \"United States\", \"India\", \"Brazil\", \"United Kingdom\", \"United States\", \"South Korea\", \"South Korea\", \"South Korea\", \"South Korea\", \"China\", \"South Korea\", \"South Korea\", \"Canada\", \"United States\", \"India\", \"Indonesia\", \"Spain\", \"United Kingdom\", \"United States\", \"South Korea\", \"India\", \"United Kingdom\", \"United States\", \"United Kingdom\", \"United Kingdom\", \"India\", \"United States\", \"Brazil\", \"France\", \"United Kingdom\", \"India\", \"Canada\", \"United States\", \"Singapore\", \"United States\", \"United States\", \"India\", \"India\", \"India\", \"Spain\", \"Denmark\", \"Singapore\", \"United Kingdom\", \"United Kingdom\", \"United States\", \"India\", \"United States\", \"United States\", \"India\", \"United States\", \"France\", \"United States\", \"Japan\", \"Thailand\", \"Brazil\", \"United States\", \"United States\", \"India\", \"India\", \"United States\", \"United States\", \"India\", \"Czech Republic\", \"Slovakia\", \"Germany\", \"United States\", \"United States\", \"United States\", \"United Kingdom\", \"France\", \"Canada\", \"United States\", \"United States\", \"Australia\", \"Mexico\", \"United States\", \"United States\", \"Singapore\", \"France\", \"India\", \"India\", \"France\", \"Belgium\", \"France\", \"Belgium\", \"United Kingdom\", \"Canada\", \"India\", \"Canada\", \"Spain\", \"Switzerland\", \"United States\", \"Australia\", \"China\", \"South Korea\", \"South Korea\", \"United States\", \"Canada\", \"United States\", \"South Korea\", \"Spain\", \"India\", \"South Africa\", \"United States\", \"Germany\", \"Sweden\", \"United States\", \"Canada\", \"United States\", \"United States\", \"United States\", \"United States\", \"United States\", \"United States\", \"Germany\", \"Germany\", \"Germany\", \"Italy\", \"Nigeria\", \"France\", \"Belgium\", \"Spain\", \"United States\", \"Mexico\", \"United States\", \"United States\", \"South Korea\", \"United States\", \"Spain\", \"Argentina\", \"United States\", \"Turkey\", \"Brazil\", \"United States\", \"India\", \"United States\", \"India\", \"United States\", \"India\", \"Spain\", \"Argentina\", \"Spain\", \"United Kingdom\", \"United States\", \"United Kingdom\", \"United States\", \"United States\", \"United States\", \"United Kingdom\", \"Australia\", \"Brazil\", \"United States\", \"United States\", \"United States\", \"Japan\", \"United States\", \"United States\", \"United States\", \"Australia\", \"South Korea\", \"Japan\", \"United Kingdom\", \"Japan\", \"United States\", \"India\", \"Canada\", \"United Kingdom\", \"India\", \"United States\", \"United States\", \"Portugal\", \"Spain\", \"United States\", \"United States\", \"South Korea\", \"Turkey\", \"United States\", \"United Kingdom\", \"India\", \"South Korea\", \"United States\", \"India\", \"Brazil\", \"Brazil\", \"United States\", \"Mexico\", \"South Korea\", \"Turkey\", \"United States\", \"Spain\", \"United States\", \"Spain\", \"Italy\", \"Argentina\", \"South Korea\", \"India\", \"Germany\", \"South Korea\", \"Canada\", \"South Korea\", \"Spain\", \"Chile\", \"Spain\", \"Argentina\", \"Germany\", \"United States\", \"United Kingdom\", \"South Korea\", \"Japan\", \"United Kingdom\", \"United States\", \"Italy\", \"West Germany\", \"United States\", \"Mexico\", \"United States\", \"India\", \"India\", \"India\", \"Spain\", \"Spain\", \"Canada\", \"United States\", \"United States\", \"Mexico\", \"France\", \"United Kingdom\", \"Brazil\", \"United States\", \"France\", \"India\", \"United States\", \"United States\", \"Germany\", \"Austria\", \"Czech Republic\", \"Germany\", \"Germany\", \"France\", \"United States\", \"Lebanon\", \"Qatar\", \"United States\", \"United States\", \"United Kingdom\", \"Jordan\", \"Qatar\", \"Iran\", \"United States\", \"United States\", \"Canada\", \"United States\", \"United States\", \"India\", \"United States\", \"France\", \"Belgium\", \"United States\", \"India\", \"Mexico\", \"South Korea\", \"Japan\", \"United States\", \"Mexico\", \"United States\", \"United States\", \"France\", \"South Korea\", \"Japan\", \"United States\", \"United States\", \"United Kingdom\", \"United States\", \"Germany\", \"South Korea\", \"United Kingdom\", \"South Korea\", \"South Korea\", \"South Korea\", \"China\", \"South Korea\", \"Japan\", \"South Korea\", \"United Kingdom\", \"South Korea\", \"Israel\", \"Germany\", \"France\", \"Canada\", \"Japan\", \"Netherlands\", \"Mexico\", \"United States\", \"United Kingdom\", \"United States\", \"United States\", \"Hungary\", \"United States\", \"Taiwan\", \"United States\", \"France\", \"Germany\", \"United States\", \"United States\", \"United States\", \"United States\", \"France\", \"Canada\", \"Canada\", \"United States\", \"United States\", \"United States\", \"India\", \"United States\", \"Peru\", \"Taiwan\", \"Taiwan\", \"India\", \"United States\", \"Taiwan\", \"United States\", \"India\", \"Mexico\", \"United States\", \"United States\", \"United States\", \"India\", \"Mexico\", \"United States\", \"United States\", \"France\", \"Qatar\", \"Colombia\", \"United Kingdom\", \"Germany\", \"India\", \"United States\", \"France\", \"United States\", \"Iceland\", \"United Kingdom\", \"United States\", \"Austria\", \"United Kingdom\", \"Taiwan\", \"Taiwan\", \"Taiwan\", \"Taiwan\", \"Taiwan\", \"Taiwan\", \"United States\", \"United States\", \"Spain\", \"Canada\", \"Canada\", \"United States\", \"United Kingdom\", \"Germany\", \"Canada\", \"France\", \"France\", \"Belgium\", \"Canada\", \"France\", \"Spain\", \"United States\", \"United States\", \"France\", \"Japan\", \"Japan\", \"Japan\", \"France\", \"Japan\", \"United Kingdom\", \"France\", \"Japan\", \"United States\", \"United States\", \"United States\", \"United States\", \"United States\", \"United States\", \"Ireland\", \"South Africa\", \"United States\", \"Taiwan\", \"Taiwan\", \"New Zealand\", \"Brazil\", \"Taiwan\", \"India\", \"Taiwan\", \"United States\", \"Russia\", \"Chile\", \"United States\", \"France\", \"Taiwan\", \"Spain\", \"United States\", \"Canada\", \"United States\", \"United States\", \"Netherlands\", \"Taiwan\", \"India\", \"United States\", \"Italy\", \"Taiwan\", \"Denmark\", \"United States\", \"United States\", \"United States\", \"United States\", \"United States\", \"United States\", \"United States\", \"United States\", \"United States\", \"United States\", \"Canada\", \"United States\", \"United States\", \"United Kingdom\", \"United States\", \"United States\", \"United Kingdom\", \"United States\", \"United States\", \"United Kingdom\", \"United Kingdom\", \"United States\", \"United Kingdom\", \"Taiwan\", \"United Kingdom\", \"Japan\", \"United States\", \"United States\", \"United States\", \"United States\", \"United Kingdom\", \"United Kingdom\", \"United States\", \"United States\", \"United States\", \"United States\", \"United States\", \"United States\", \"United Kingdom\", \"United Kingdom\", \"United Kingdom\", \"United States\", \"Colombia\", \"United Kingdom\", \"United States\", \"United States\", \"United States\", \"France\", \"United States\", \"United States\", \"Canada\", \"India\", \"United Kingdom\", \"Japan\", \"United States\", \"United States\", \"India\", \"United States\", \"Mexico\", \"United States\", \"China\", \"Hong Kong\", \"United States\", \"Japan\", \"Australia\", \"Australia\", \"United States\", \"United States\", \"Canada\", \"United Kingdom\", \"United States\", \"United States\", \"United States\", \"Belgium\", \"France\", \"Netherlands\", \"United States\", \"Japan\", \"United States\", \"United States\", \"Canada\", \"Japan\", \"United States\", \"Canada\", \"United Kingdom\", \"United Kingdom\", \"United States\", \"United States\", \"Japan\", \"China\", \"United States\", \"United States\", \"United States\", \"United States\", \"United States\", \"United States\", \"United States\", \"United States\", \"Mexico\", \"Hong Kong\", \"China\", \"Hong Kong\", \"China\", \"United States\", \"United States\", \"France\", \"United States\", \"United States\", \"Canada\", \"United States\", \"Japan\", \"United States\", \"United States\", \"United States\", \"United States\", \"United States\", \"United States\", \"United States\", \"United States\", \"United States\", \"United States\", \"United Kingdom\", \"Ukraine\", \"United States\", \"United States\", \"United States\", \"United States\", \"United States\", \"United States\", \"United States\", \"United States\", \"United States\", \"Germany\", \"Australia\", \"France\", \"China\", \"United States\", \"United States\", \"United States\", \"United States\", \"United States\", \"United Kingdom\", \"Mexico\", \"United States\", \"United States\", \"United States\", \"United States\", \"France\", \"United States\", \"United States\", \"United States\", \"United States\", \"United States\", \"United States\", \"United States\", \"Norway\", \"United States\", \"Canada\", \"United States\", \"United Kingdom,\", \"United States\", \"United States\", \"United States\", \"United States\", \"United States\", \"Bermuda\", \"Ecuador\", \"United States\", \"United States\", \"United States\", \"Hungary\", \"Ireland\", \"Canada\", \"United States\", \"United Kingdom\", \"Egypt\", \"United States\", \"United States\", \"United States\", \"United States\", \"United States\", \"United Kingdom\", \"United States\", \"United States\", \"United States\", \"United States\", \"United States\", \"United States\", \"United States\", \"United States\", \"United States\", \"United States\", \"United States\", \"United States\", \"United States\", \"United States\", \"France\", \"United Kingdom\", \"Spain\", \"Mexico\", \"France\", \"United States\", \"Denmark\", \"United States\", \"United States\", \"United States\", \"United States\", \"India\", \"India\", \"Nigeria\", \"United States\", \"Norway\", \"Iceland\", \"United States\", \"India\", \"United Kingdom\", \"India\", \"India\", \"India\", \"United States\", \"Canada\", \"Canada\", \"United States\", \"Iceland\", \"Turkey\", \"United States\", \"Turkey\", \"United States\", \"United States\", \"United States\", \"South Africa\", \"Spain\", \"United States\", \"United Kingdom\", \"United States\", \"South Korea\", \"United States\", \"United States\", \"Hong Kong\", \"China\", \"Singapore\", \"United States\", \"United States\", \"Germany\", \"United States\", \"United States\", \"United States\", \"United States\", \"South Korea\", \"United Kingdom\", \"United States\", \"United States\", \"India\", \"United States\", \"South Africa\", \"China\", \"United States\", \"Argentina\", \"United Kingdom\", \"United States\", \"United States\", \"United States\", \"Indonesia\", \"Canada\", \"Egypt\", \"United States\", \"Denmark\", \"France\", \"Poland\", \"United States\", \"United States\", \"United States\", \"United States\", \"United States\", \"United States\", \"Indonesia\", \"New Zealand\", \"United Kingdom\", \"India\", \"United States\", \"India\", \"Pakistan\", \"United States\", \"United States\", \"China\", \"India\", \"United States\", \"United States\", \"United Kingdom\", \"United Kingdom\", \"United States\", \"United States\", \"Netherlands\", \"Denmark\", \"South Africa\", \"Canada\", \"United States\", \"India\", \"United States\", \"Taiwan\", \"United States\", \"United States\", \"United States\", \"United States\", \"United States\", \"United States\", \"South Korea\", \"United States\", \"United Arab Emirates\", \"United States\", \"United States\", \"Brazil\", \"United States\", \"Netherlands\", \"United Kingdom\", \"United States\", \"United States\", \"Canada\", \"India\", \"Iran\", \"France\", \"United States\", \"United Kingdom\", \"France\", \"United States\", \"Israel\", \"United States\", \"United States\", \"United States\", \"United States\", \"India\", \"United States\", \"United States\", \"United States\", \"Canada\", \"United States\", \"Turkey\", \"India\", \"India\", \"India\", \"India\", \"India\", \"India\", \"Egypt\", \"India\", \"South Korea\", \"United States\", \"United Kingdom\", \"United States\", \"France\", \"Germany\", \"Argentina\", \"Mexico\", \"Canada\", \"United States\", \"United Kingdom\", \"United States\", \"Turkey\", \"United States\", \"Canada\", \"United States\", \"France\", \"Australia\", \"France\", \"India\", \"Canada\", \"United States\", \"United Kingdom\", \"United States\", \"United States\", \"United States\", \"United States\", \"Chile\", \"United Kingdom\", \"United Kingdom\", \"United States\", \"India\", \"India\", \"United States\", \"United Kingdom\", \"India\", \"India\", \"Egypt\", \"United States\", \"Bulgaria\", \"Spain\", \"United States\", \"United States\", \"United States\", \"Sweden\", \"United States\", \"United States\", \"Ireland\", \"United Kingdom\", \"United States\", \"Spain\", \"Italy\", \"United States\", \"United States\", \"United States\", \"United Kingdom\", \"United Kingdom\", \"France\", \"Germany\", \"United States\", \"Germany\", \"Canada\", \"United States\", \"United States\", \"India\", \"United Kingdom\", \"United States\", \"United States\", \"United Kingdom\", \"India\", \"Egypt\", \"United States\", \"United States\", \"United States\", \"United States\", \"United States\", \"United States\", \"United States\", \"United States\", \"United States\", \"Canada\", \"Canada\", \"Luxembourg\", \"United States\", \"United Kingdom\", \"United States\", \"United States\", \"United States\", \"United States\", \"Canada\", \"United States\", \"United Kingdom\", \"India\", \"United States\", \"United States\", \"United States\", \"United States\", \"Egypt\", \"Taiwan\", \"United States\", \"Egypt\", \"India\", \"Spain\", \"United States\", \"United States\", \"United States\", \"United States\", \"India\", \"Germany\", \"India\", \"India\", \"India\", \"United States\", \"Brazil\", \"Netherlands\", \"United States\", \"Colombia\", \"Austria\", \"Germany\", \"United States\", \"Egypt\", \"United States\", \"United States\", \"India\", \"Japan\", \"United States\", \"United States\", \"United States\", \"Canada\", \"France\", \"Canada\", \"Belgium\", \"United States\", \"Egypt\", \"Indonesia\", \"United States\", \"United Kingdom\", \"United States\", \"United States\", \"United States\", \"United States\", \"South Korea\", \"United States\", \"Canada\", \"United States\", \"Canada\", \"Canada\", \"France\", \"United Kingdom\", \"Chile\", \"United Kingdom\", \"Australia\", \"Bulgaria\", \"United States\", \"Spain\", \"Canada\", \"United States\", \"Sweden\", \"Netherlands\", \"India\", \"India\", \"Turkey\", \"France\", \"United States\", \"Mexico\", \"India\", \"Brazil\", \"Canada\", \"United States\", \"Australia\", \"United Kingdom\", \"United Arab Emirates\", \"Canada\", \"United States\", \"United States\", \"United Kingdom\", \"Singapore\", \"United States\", \"United States\", \"Canada\", \"India\", \"India\", \"United States\", \"Chile\", \"United States\", \"United States\", \"United States\", \"Pakistan\", \"Turkey\", \"United States\", \"United States\", \"Thailand\", \"United States\", \"Thailand\", \"Thailand\", \"Spain\", \"India\", \"Australia\", \"Armenia\", \"Japan\", \"Jordan\", \"Mexico\", \"Mongolia\", \"New Zealand\", \"Philippines\", \"South Africa\", \"Sweden\", \"United States\", \"Uruguay\", \"United States\", \"United States\", \"United States\", \"United States\", \"United States\", \"United States\", \"United States\", \"Canada\", \"United States\", \"Canada\", \"United States\", \"United States\", \"United States\", \"Chile\", \"India\", \"United States\", \"United States\", \"France\", \"Italy\", \"United States\", \"United States\", \"United States\", \"United Kingdom\", \"India\", \"India\", \"United States\", \"Australia\", \"United States\", \"Russia\", \"Germany\", \"United Kingdom\", \"United States\", \"United States\", \"Canada\", \"South Korea\", \"Canada\", \"United States\", \"United States\", \"United States\", \"Indonesia\", \"Egypt\", \"United Kingdom\", \"Ireland\", \"United States\", \"United States\", \"Japan\", \"United States\", \"United States\", \"United States\", \"Turkey\", \"India\", \"United Kingdom\", \"United States\", \"Canada\", \"United States\", \"United States\", \"United States\", \"United States\", \"Turkey\", \"Germany\", \"United States\", \"United States\", \"India\", \"Egypt\", \"Japan\", \"United States\", \"India\", \"India\", \"Iran\", \"India\", \"India\", \"India\", \"United States\", \"India\", \"India\", \"India\", \"United States\", \"France\", \"Japan\", \"United States\", \"United States\", \"United Kingdom\", \"United States\", \"Germany\", \"United States\", \"Denmark\", \"United States\", \"United Kingdom\", \"United States\", \"United Kingdom\", \"France\", \"United States\", \"India\", \"India\", \"Canada\", \"United States\", \"Vietnam\", \"Canada\", \"Spain\", \"India\", \"United States\", \"United States\", \"United Kingdom\", \"Turkey\", \"Spain\", \"United States\", \"United States\", \"United States\", \"Argentina\", \"Spain\", \"United States\", \"United States\", \"United States\", \"United States\", \"Australia\", \"United States\", \"France\", \"Thailand\", \"France\", \"United States\", \"France\", \"Belgium\", \"Spain\", \"United States\", \"United States\", \"United Kingdom\", \"United States\", \"France\", \"Germany\", \"United States\", \"United States\", \"Canada\", \"United States\", \"United States\", \"Canada\", \"Denmark\", \"Sweden\", \"Israel\", \"United States\", \"India\", \"United Kingdom\", \"Ireland\", \"United Kingdom\", \"United States\", \"Iceland\", \"United States\", \"United States\", \"Netherlands\", \"Australia\", \"United States\", \"India\", \"United States\", \"United Kingdom\", \"United States\", \"United Kingdom\", \"Russia\", \"United Kingdom\", \"Canada\", \"United States\", \"Brazil\", \"United States\", \"United States\", \"United States\", \"United States\", \"United States\", \"Israel\", \"Italy\", \"South Africa\", \"United States\", \"United States\", \"India\", \"Australia\", \"United States\", \"United States\", \"United States\", \"United States\", \"China\", \"United States\", \"Canada\", \"Canada\", \"Canada\", \"United States\", \"Indonesia\", \"Singapore\", \"Netherlands\", \"Denmark\", \"France\", \"Germany\", \"United States\", \"United States\", \"United States\", \"United States\", \"South Korea\", \"Japan\", \"United Kingdom\", \"United States\", \"United States\", \"Belgium\", \"France\", \"United States\", \"United Kingdom\", \"Indonesia\", \"Argentina\", \"South Korea\", \"United Kingdom\", \"Pakistan\", \"India\", \"United States\", \"United States\", \"United States\", \"Italy\", \"Mexico\", \"United States\", \"United States\", \"United States\", \"Canada\", \"United States\", \"South Korea\", \"United States\", \"United States\", \"United Kingdom\", \"France\", \"France\", \"New Zealand\", \"India\", \"Ireland\", \"United States\", \"Philippines\", \"United Kingdom\", \"United States\", \"Australia\", \"United States\", \"United States\", \"United States\", \"Mexico\", \"Japan\", \"United Kingdom\", \"Czech Republic\", \"United States\", \"Germany\", \"Bahamas\", \"Hong Kong\", \"Hong Kong\", \"United States\", \"United States\", \"China\", \"Germany\", \"India\", \"United States\", \"United States\", \"Australia\", \"Canada\", \"Norway\", \"India\", \"United States\", \"India\", \"India\", \"India\", \"Pakistan\", \"Germany\", \"Sri Lanka\", \"United States\", \"Indonesia\", \"United States\", \"Sweden\", \"United Kingdom\", \"United States\", \"United States\", \"United States\", \"India\", \"United States\", \"Canada\", \"Hong Kong\", \"China\", \"United States\", \"India\", \"France\", \"Australia\", \"United States\", \"South Korea\", \"United States\", \"United Kingdom\", \"United Kingdom\", \"United States\", \"United States\", \"United States\", \"India\", \"India\", \"United States\", \"Nigeria\", \"United States\", \"United States\", \"China\", \"United States\", \"United States\", \"India\", \"Bangladesh\", \"United Kingdom\", \"United States\", \"United States\", \"Canada\", \"France\", \"United States\", \"United States\", \"United States\", \"Canada\", \"United States\", \"United States\", \"United States\", \"United States\", \"Argentina\", \"Malaysia\", \"Pakistan\", \"India\", \"United States\", \"United Kingdom\", \"Brazil\", \"France\", \"Germany\", \"United Kingdom\", \"United Kingdom\", \"United States\", \"United States\", \"United Kingdom\", \"Australia\", \"United States\", \"United States\", \"India\", \"United States\", \"United States\", \"United Kingdom\", \"United States\", \"United Kingdom\", \"United States\", \"Germany\", \"United States\", \"Hong Kong\", \"Singapore\", \"France\", \"Germany\", \"Switzerland\", \"United States\", \"United States\", \"United States\", \"United States\", \"United States\", \"United States\", \"United States\", \"United States\", \"Germany\", \"United States\", \"India\", \"United States\", \"United States\", \"India\", \"Germany\", \"France\", \"Luxembourg\", \"United Kingdom\", \"United States\", \"India\", \"Canada\", \"United States\", \"United Kingdom\", \"United States\", \"United States\", \"United States\", \"India\", \"United Kingdom\", \"Canada\", \"Italy\", \"United States\", \"Czech Republic\", \"France\", \"United States\", \"Vietnam\", \"Ireland\", \"Turkey\", \"India\", \"United States\", \"United States\", \"United States\", \"Canada\", \"United States\", \"United States\", \"Canada\", \"Australia\", \"United States\", \"United States\", \"Germany\", \"India\", \"France\", \"Taiwan\", \"Hong Kong\", \"United States\", \"China\", \"United States\", \"United States\", \"India\", \"Turkey\", \"United States\", \"United Kingdom\", \"United States\", \"United States\", \"Argentina\", \"India\", \"United States\", \"India\", \"United States\", \"Australia\", \"Germany\", \"Australia\", \"Germany\", \"Mexico\", \"United Kingdom\", \"United States\", \"United States\", \"Ireland\", \"India\", \"United Kingdom\", \"Poland\", \"United States\", \"United States\", \"United Kingdom\", \"France\", \"India\", \"India\", \"India\", \"United Kingdom\", \"United States\", \"China\", \"Taiwan\", \"United States\", \"Netherlands\", \"United States\", \"United Kingdom\", \"India\", \"United States\", \"United States\", \"India\", \"United States\", \"Canada\", \"United States\", \"United States\", \"United Kingdom\", \"United States\", \"Australia\", \"India\", \"United States\", \"United States\", \"Denmark\", \"Zimbabwe\", \"United States\", \"United States\", \"United States\", \"United States\", \"Egypt\", \"United Kingdom\", \"South Africa\", \"United States\", \"Finland\", \"Sweden\", \"Norway\", \"Latvia\", \"Germany\", \"Canada\", \"India\", \"India\", \"United States\", \"India\", \"China\", \"Hong Kong\", \"United Kingdom\", \"United Kingdom\", \"France\", \"Belgium\", \"United Kingdom\", \"United States\", \"India\", \"United States\", \"United States\", \"Canada\", \"Hong Kong\", \"United States\", \"United States\", \"South Africa\", \"United States\", \"New Zealand\", \"Canada\", \"United States\", \"United States\", \"Italy\", \"United Kingdom\", \"Liechtenstein\", \"United States\", \"United States\", \"United States\", \"Denmark\", \"France\", \"Belgium\", \"Italy\", \"Netherlands\", \"United States\", \"United Kingdom\", \"United States\", \"United States\", \"United States\", \"Australia\", \"Mexico\", \"France\", \"France\", \"France\", \"United Kingdom\", \"United Kingdom\", \"United States\", \"United States\", \"United Kingdom\", \"Czech Republic\", \"Germany\", \"United States\", \"United States\", \"Hong Kong\", \"United States\", \"United States\", \"United States\", \"France\", \"China\", \"Japan\", \"United States\", \"United States\", \"United States\", \"United States\", \"United States\", \"United States\", \"United States\", \"South Korea\", \"China\", \"United States\", \"Germany\", \"Germany\", \"Belgium\", \"United States\", \"United States\", \"United States\", \"Chile\", \"Pakistan\", \"Norway\", \"United States\", \"India\", \"United States\", \"United Kingdom\", \"United States\", \"Brazil\", \"United Kingdom\", \"United States\", \"United States\", \"United States\", \"Taiwan\", \"United States\", \"United States\", \"India\", \"India\", \"India\", \"India\", \"United States\", \"Canada\", \"Belgium\", \"United Kingdom\", \"Spain\", \"Colombia\", \"Colombia\", \"Mexico\", \"Venezuela\", \"United States\", \"Spain\", \"United States\", \"United States\", \"Netherlands\", \"United Kingdom\", \"United States\", \"France\", \"United States\", \"United States\", \"United Kingdom\", \"United States\", \"Indonesia\", \"Australia\", \"United States\", \"Canada\", \"France\", \"Italy\", \"Morocco\", \"United States\", \"United States\", \"United States\", \"India\", \"United Kingdom\", \"United States\", \"United States\", \"Canada\", \"Spain\", \"France\", \"United States\", \"Canada\", \"Hong Kong\", \"United States\", \"United States\", \"Indonesia\", \"United States\", \"Poland\", \"Argentina\", \"Mexico\", \"India\", \"Italy\", \"United States\", \"United States\", \"United Kingdom\", \"United States\", \"United States\", \"Spain\", \"France\", \"Italy\", \"United Kingdom\", \"United States\", \"United Kingdom\", \"China\", \"United States\", \"United States\", \"Norway\", \"United States\", \"United States\", \"United States\", \"United Kingdom\", \"United States\", \"Turkey\", \"Turkey\", \"Turkey\", \"Turkey\", \"United States\", \"United States\", \"Japan\", \"United Kingdom\", \"India\", \"United States\", \"United States\", \"Germany\", \"India\", \"United States\", \"India\", \"Egypt\", \"United States\", \"United Kingdom\", \"United States\", \"India\", \"United States\", \"United States\", \"Nigeria\", \"United Kingdom\", \"United States\", \"Turkey\", \"United States\", \"Indonesia\", \"United States\", \"United States\", \"Canada\", \"United States\", \"Germany\", \"Italy\", \"France\", \"India\", \"United States\", \"United Kingdom\", \"Canada\", \"United States\", \"United Kingdom\", \"United States\", \"United States\", \"United States\", \"United Arab Emirates\", \"Hong Kong\", \"United States\", \"Canada\", \"United States\", \"Egypt\", \"United States\", \"South Korea\", \"Hong Kong\", \"United Arab Emirates\", \"United States\", \"United Kingdom\", \"United States\", \"United States\", \"Spain\", \"United States\", \"United States\", \"Mexico\", \"United Kingdom\", \"United States\", \"United States\", \"United States\", \"United Kingdom\", \"United States\", \"United Kingdom\", \"Brazil\", \"United Kingdom\", \"Israel\", \"Russia\", \"United Kingdom\", \"United States\", \"Germany\", \"United States\", \"Spain\", \"Cuba\", \"United Kingdom\", \"United States\", \"Germany\", \"United States\", \"Brazil\", \"United States\", \"United States\", \"United States\", \"France\", \"Mexico\", \"United States\", \"Nicaragua\", \"Egypt\", \"United States\", \"United States\", \"United States\", \"United States\", \"Germany\", \"Egypt\", \"France\", \"United Kingdom\", \"United States\", \"United States\", \"United Kingdom\", \"United States\", \"Spain\", \"Germany\", \"Greece\", \"Canada\", \"United Kingdom\", \"United States\", \"Spain\", \"Germany\", \"Greece\", \"Canada\", \"United Kingdom\", \"United States\", \"Spain\", \"Germany\", \"Greece\", \"Canada\", \"United States\", \"Canada\", \"United States\", \"United States\", \"Vietnam\", \"United States\", \"United Kingdom\", \"United States\", \"Brazil\", \"France\", \"India\", \"Russia\", \"United States\", \"Indonesia\", \"Taiwan\", \"India\", \"United States\", \"Italy\", \"Indonesia\", \"Indonesia\", \"Japan\", \"United States\", \"India\", \"India\", \"United States\", \"United Kingdom\", \"United Kingdom\", \"Sweden\", \"United States\", \"Australia\", \"Italy\", \"Canada\", \"France\", \"United States\", \"United Kingdom\", \"United States\", \"United States\", \"United States\", \"United States\", \"India\", \"Thailand\", \"United States\", \"Japan\", \"United States\", \"Australia\", \"Japan\", \"United States\", \"Japan\", \"India\", \"Indonesia\", \"United States\", \"United Kingdom\", \"Denmark\", \"Canada\", \"Croatia\", \"Philippines\", \"United States\", \"United States\", \"United States\", \"United States\", \"China\", \"Hong Kong\", \"United States\", \"United States\", \"United Kingdom\", \"India\", \"Japan\", \"United Kingdom\", \"United States\", \"United States\", \"United States\", \"Australia\", \"India\", \"Italy\", \"Germany\", \"United States\", \"Turkey\", \"United States\", \"United States\", \"United States\", \"Egypt\", \"United States\", \"France\", \"United Kingdom\", \"Japan\", \"United States\", \"United Kingdom\", \"Denmark\", \"Sweden\", \"United States\", \"United States\", \"United States\", \"Canada\", \"United States\", \"United Kingdom\", \"United States\", \"United Kingdom\", \"Italy\", \"United States\", \"United States\", \"France\", \"Canada\", \"Spain\", \"India\", \"Germany\", \"United States\", \"United Kingdom\", \"Spain\", \"India\", \"United States\", \"United States\", \"United Kingdom\", \"United Kingdom\", \"United States\", \"Nigeria\", \"United States\", \"United States\", \"Canada\", \"United Kingdom\", \"Chile\", \"Turkey\", \"Turkey\", \"United States\", \"India\", \"Turkey\", \"United States\", \"United Kingdom\", \"Canada\", \"United States\", \"Japan\", \"United States\", \"India\", \"United States\", \"Egypt\", \"United States\", \"United States\", \"United States\", \"United Kingdom\", \"Taiwan\", \"United States\", \"Mexico\", \"United Kingdom\", \"United States\", \"United Kingdom\", \"Russia\", \"United States\", \"China\", \"United States\", \"United States\", \"United States\", \"Canada\", \"Germany\", \"United States\", \"United Kingdom\", \"United States\", \"Canada\", \"Malaysia\", \"United States\", \"United States\", \"United States\", \"India\", \"Indonesia\", \"United States\", \"United States\", \"Australia\", \"Canada\", \"United States\", \"United States\", \"Ireland\", \"United States\", \"United States\", \"United Arab Emirates\", \"United States\", \"United States\", \"Australia\", \"United States\", \"United States\", \"United States\", \"Canada\", \"United States\", \"China\", \"United States\", \"Canada\", \"United States\", \"Canada\", \"United Kingdom\", \"United States\", \"United States\", \"United States\", \"United States\", \"India\", \"United States\", \"Hong Kong\", \"China\", \"Denmark\", \"United States\", \"South Korea\", \"India\", \"China\", \"Australia\", \"Canada\", \"United States\", \"United Kingdom\", \"United Kingdom\", \"India\", \"United States\", \"Argentina\", \"India\", \"Australia\", \"United States\", \"United Kingdom\", \"France\", \"Pakistan\", \"United States\", \"Turkey\", \"Australia\", \"United States\", \"Ireland\", \"United States\", \"Thailand\", \"Thailand\", \"India\", \"United States\", \"United States\", \"United States\", \"United States\", \"India\", \"United States\", \"United States\", \"South Africa\", \"Thailand\", \"United States\", \"Canada\", \"United Kingdom\", \"India\", \"Ireland\", \"United Kingdom\", \"Italy\", \"United States\", \"United States\", \"United States\", \"United States\", \"United Kingdom\", \"United States\", \"Belgium\", \"Poland,\", \"United States\", \"United States\", \"Canada\", \"United States\", \"Canada\", \"Slovenia\", \"Croatia\", \"Germany\", \"Czech Republic\", \"Qatar\", \"United States\", \"United Kingdom\", \"United States\", \"Mexico\", \"United States\", \"United States\", \"Canada\", \"United Kingdom\", \"Netherlands\", \"United States\", \"United States\", \"United States\", \"India\", \"United States\", \"India\", \"India\", \"Pakistan\", \"United Kingdom\", \"Canada\", \"United States\", \"Spain\", \"Germany\", \"United Kingdom\", \"United States\", \"Italy\", \"United States\", \"United States\", \"United States\", \"United States\", \"Argentina\", \"India\", \"Japan\", \"United Kingdom\", \"United States\", \"United States\", \"Mexico\", \"China\", \"China\", \"South Korea\", \"United States\", \"United Kingdom\", \"United States\", \"United States\", \"United States\", \"Thailand\", \"United Kingdom\", \"France\", \"Belgium\", \"United States\", \"United States\", \"United States\", \"Canada\", \"Ireland\", \"United States\", \"China\", \"Hong Kong\", \"India\", \"United States\", \"United States\", \"France\", \"United States\", \"United States\", \"Germany\", \"France\", \"Taiwan\", \"United States\", \"United Kingdom\", \"United States\", \"Dominican Republic\", \"Turkey\", \"Serbia\", \"United States\", \"India\", \"United Kingdom\", \"United States\", \"United States\", \"Senegal\", \"United States\", \"India\", \"United Kingdom\", \"United States\", \"United States\", \"United States\", \"United States\", \"United States\", \"United States\", \"United Kingdom\", \"Germany\", \"United States\", \"Germany\", \"United Kingdom\", \"United States\", \"India\", \"United Kingdom\", \"United States\", \"Israel\", \"United Kingdom\", \"Mexico\", \"Canada\", \"United States\", \"Canada\", \"Japan\", \"Japan\", \"Japan\", \"United States\", \"Canada\", \"South Africa\", \"Germany\", \"Netherlands\", \"France\", \"India\", \"India\", \"United States\", \"United States\", \"Canada\", \"United States\", \"United Kingdom\", \"France\", \"Luxembourg\", \"India\", \"United Kingdom\", \"South Korea\", \"India\", \"United States\", \"United States\", \"Spain\", \"Egypt\", \"United States\", \"United States\", \"India\", \"France\", \"Belgium\", \"Canada\", \"United States\", \"Ireland\", \"United States\", \"Vietnam\", \"India\", \"United States\", \"India\", \"India\", \"Pakistan\", \"Japan\", \"United States\", \"Poland\", \"United States\", \"United States\", \"United States\", \"United States\", \"Ireland\", \"United States\", \"France\", \"United States\", \"India\", \"United States\", \"Russia\", \"United States\", \"United States\", \"United Kingdom\", \"India\", \"United States\", \"India\", \"United States\", \"United States\", \"United Kingdom\", \"India\", \"Chile\", \"Mexico\", \"India\", \"United States\", \"United States\", \"United States\", \"United States\", \"United States\", \"United States\", \"United States\", \"Australia\", \"Germany\", \"United States\", \"Canada\", \"Hong Kong\", \"United States\", \"Japan\", \"United Kingdom\", \"Germany\", \"Canada\", \"United States\", \"Turkey\", \"India\", \"India\", \"India\", \"India\", \"India\", \"India\", \"United States\", \"France\", \"Canada\", \"Lebanon\", \"Qatar\", \"India\", \"United Kingdom\", \"India\", \"India\", \"India\", \"United States\", \"India\", \"United States\", \"India\", \"India\", \"United States\", \"United States\", \"United States\", \"United States\", \"United States\", \"United States\", \"United States\", \"Pakistan\", \"India\", \"India\", \"India\", \"India\", \"India\", \"India\", \"India\", \"India\", \"United States\", \"United States\", \"United States\", \"Philippines\", \"Netherlands\", \"Belgium\", \"United Kingdom\", \"United States\", \"United States\", \"Japan\", \"United States\", \"United Kingdom\", \"France\", \"United States\", \"United States\", \"United States\", \"United States\", \"Hungary\", \"United Kingdom\", \"United States\", \"United States\", \"Canada\", \"United States\", \"United States\", \"France\", \"Belgium\", \"China\", \"United States\", \"India\", \"United States\", \"United States\", \"United Kingdom\", \"Malaysia\", \"Japan\", \"United States\", \"Chile\", \"Israel\", \"United States\", \"United States\", \"United Kingdom\", \"Australia\", \"United Kingdom\", \"United States\", \"United Kingdom\", \"Norway\", \"Denmark\", \"Germany\", \"Sweden\", \"India\", \"Norway\", \"Denmark\", \"Sweden\", \"United States\", \"United States\", \"United States\", \"United States\", \"India\", \"United States\", \"United States\", \"United States\", \"United States\", \"United States\", \"United States\", \"United States\", \"India\", \"Hong Kong\", \"China\", \"United States\", \"Mexico\", \"United States\", \"United States\", \"China\", \"India\", \"Nepal\", \"United States\", \"United Kingdom\", \"Turkey\", \"Turkey\", \"India\", \"United States\", \"India\", \"Argentina\", \"United States\", \"United States\", \"Italy\", \"United States\", \"Mexico\", \"Mexico\", \"Colombia\", \"Mexico\", \"United States\", \"India\", \"Thailand\", \"Hong Kong\", \"United States\", \"United States\", \"Colombia\", \"India\", \"United Kingdom\", \"United States\", \"Mexico\", \"South Korea\", \"United States\", \"United Kingdom\", \"South Korea\", \"United States\", \"France\", \"France\", \"France\", \"United States\", \"Ireland\", \"United States\", \"United States\", \"United States\", \"United States\", \"United Kingdom\", \"India\", \"United States\", \"Canada\", \"United States\", \"Australia\", \"China\", \"Hong Kong\", \"United States\", \"United States\", \"United States\", \"Denmark\", \"United States\", \"Denmark\", \"China\", \"United States\", \"United States\", \"Italy\", \"France\", \"United States\", \"Turkey\", \"United States\", \"Canada\", \"United States\", \"United States\", \"United States\", \"United Kingdom\", \"Canada\", \"Hong Kong\", \"United States\", \"Mexico\", \"United States\", \"United Kingdom\", \"United States\", \"India\", \"Egypt\", \"United States\", \"Hong Kong\", \"Australia\", \"Australia\", \"United States\", \"Greece\", \"Brazil\", \"United States\", \"United States\", \"United States\", \"United States\", \"United States\", \"United States\", \"United States\", \"United States\", \"Spain\", \"Mexico\", \"United Kingdom\", \"United Kingdom\", \"United States\", \"France\", \"United States\", \"Mexico\", \"United States\", \"South Korea\", \"France\", \"United Kingdom\", \"United States\", \"United Kingdom\", \"Canada\", \"Hong Kong\", \"Germany\", \"India\", \"United States\", \"United States\", \"Colombia\", \"United States\", \"Australia\", \"Samoa\", \"United Kingdom\", \"Canada\", \"Taiwan\", \"United States\", \"Hong Kong\", \"India\", \"Hong Kong\", \"South Korea\", \"United States\", \"United States\", \"Egypt\", \"Indonesia\", \"United Kingdom\", \"Germany\", \"United Kingdom\", \"United States\", \"United States\", \"Hong Kong\", \"Argentina\", \"China\", \"India\", \"India\", \"Argentina\", \"Chile\", \"Peru\", \"India\", \"India\", \"France\", \"United States\", \"India\", \"Australia\", \"United States\", \"United States\", \"United States\", \"United States\", \"Hong Kong\", \"India\", \"United States\", \"Chile\", \"Italy\", \"Japan\", \"France\", \"Belgium\", \"France\", \"Norway\", \"India\", \"India\", \"India\", \"India\", \"Hong Kong\", \"Turkey\", \"Azerbaijan\", \"India\", \"India\", \"India\", \"United States\", \"United States\", \"China\", \"Hong Kong\", \"United Kingdom\", \"France\", \"United States\", \"India\", \"India\", \"United States\", \"United States\", \"United States\", \"United Kingdom\", \"United Kingdom\", \"India\", \"India\", \"United Kingdom\", \"Canada\", \"United States\", \"United States\", \"United States\", \"India\", \"United States\", \"United States\", \"Hong Kong\", \"China\", \"United States\", \"United States\", \"India\", \"United States\", \"United States\", \"Japan\", \"United States\", \"United Kingdom\", \"United Kingdom\", \"India\", \"South Korea\", \"Argentina\", \"India\", \"United States\", \"Hong Kong\", \"Egypt\", \"United States\", \"United States\", \"India\", \"Mexico\", \"Canada\", \"United States\", \"Canada\", \"Poland\", \"West Germany\", \"United Kingdom\", \"United Kingdom\", \"Australia\", \"India\", \"United States\", \"United States\", \"South Korea\", \"Germany\", \"United States\", \"Sweden\", \"United States\", \"United States\", \"Canada\", \"Spain\", \"Indonesia\", \"United States\", \"Spain\", \"Nigeria\", \"United States\", \"India\", \"United Kingdom\", \"United States\", \"Cambodia\", \"India\", \"United States\", \"Greece\", \"United States\", \"United States\", \"France\", \"India\", \"United States\", \"Canada\", \"United States\", \"United States\", \"Canada\", \"India\", \"Mexico\", \"Japan\", \"Norway\", \"United Kingdom\", \"France\", \"Ireland\", \"United States\", \"United States\", \"Taiwan\", \"United States\", \"United States\", \"United States\", \"United Kingdom\", \"United Kingdom\", \"Poland\", \"Malaysia\", \"United States\", \"India\", \"United States\", \"United States\", \"Nigeria\", \"China\", \"Canada\", \"United States\", \"South Korea\", \"United States\", \"United States\", \"Spain\", \"United States\", \"United States\", \"United Kingdom\", \"Canada\", \"Egypt\", \"Germany\", \"United Kingdom\", \"United States\", \"United States\", \"United States\", \"United States\", \"United States\", \"United States\", \"United States\", \"United States\", \"United States\", \"United States\", \"United States\", \"United States\", \"United States\", \"Canada\", \"United States\", \"Germany\", \"United Kingdom\", \"United Kingdom\", \"United Kingdom\", \"United States\", \"United States\", \"France\", \"Belgium\", \"Pakistan\", \"United States\", \"Germany\", \"United States\", \"United States\", \"India\", \"India\", \"Australia\", \"United States\", \"United States\", \"United States\", \"Israel\", \"Sweden\", \"Germany\", \"Netherlands\", \"Hong Kong\", \"United States\", \"Canada\", \"Egypt\", \"United States\", \"India\", \"France\", \"United States\", \"United States\", \"United States\", \"Spain\", \"United States\", \"Canada\", \"India\", \"United States\", \"Egypt\", \"United States\", \"Canada\", \"United Kingdom\", \"Switzerland\", \"France\", \"United States\", \"United States\", \"Canada\", \"United States\", \"Canada\", \"United States\", \"Hong Kong\", \"United Kingdom\", \"United States\", \"United Kingdom\", \"Thailand\", \"United Kingdom\", \"United States\", \"United States\", \"United States\", \"India\", \"United States\", \"Mexico\", \"Italy\", \"India\", \"Ireland\", \"United States\", \"Botswana\", \"India\", \"United States\", \"Japan\", \"United States\", \"United States\", \"United States\", \"United States\", \"United States\", \"India\", \"United States\", \"United States\", \"United Kingdom\", \"United States\", \"United States\", \"United States\", \"United States\", \"United Kingdom\", \"United States\", \"United Kingdom\", \"United Kingdom\", \"United Kingdom\", \"United States\", \"United States\", \"Chile\", \"Argentina\", \"France\", \"Spain\", \"United States\", \"United States\", \"United States\", \"United States\", \"United States\", \"India\", \"United States\", \"United States\", \"United States\", \"United States\", \"United States\", \"Australia\", \"Japan\", \"Canada\", \"United States\", \"India\", \"Chile\", \"United States\", \"Norway\", \"United States\", \"India\", \"United States\", \"United States\", \"India\", \"South Korea\", \"China\", \"United Kingdom\", \"United States\", \"United States\", \"United States\", \"United States\", \"United States\", \"United States\", \"United States\", \"United States\", \"United States\", \"United States\", \"United States\", \"United States\", \"United States\", \"United States\", \"United States\", \"United States\", \"United States\", \"United States\", \"United States\", \"United States\", \"United States\", \"United States\", \"United States\", \"United States\", \"United Kingdom\", \"Canada\", \"Germany\", \"United States\", \"Israel\", \"Italy\", \"Japan\", \"United States\", \"United Kingdom\", \"Denmark\", \"Germany\", \"Belgium\", \"United Kingdom\", \"France\", \"Denmark\", \"Germany\", \"Belgium\", \"United Kingdom\", \"France\", \"Sweden\", \"United States\", \"United Kingdom\", \"United States\", \"France\", \"Switzerland\", \"Spain\", \"United States\", \"United Arab Emirates\", \"Australia\", \"United States\", \"United States\", \"United States\", \"Hong Kong\", \"Spain\", \"United States\", \"Thailand\", \"Thailand\", \"United States\", \"Canada\", \"United States\", \"United States\", \"France\", \"Egypt\", \"Hong Kong\", \"Brazil\", \"India\", \"China\", \"United States\", \"India\", \"United States\", \"United States\", \"United States\", \"United States\", \"United Kingdom\", \"Italy\", \"United States\", \"Thailand\", \"United States\", \"India\", \"United States\", \"United States\", \"India\", \"United States\", \"Denmark\", \"France\", \"United States\", \"Sweden\", \"Australia\", \"Iraq\", \"United States\", \"South Korea\", \"United Kingdom\", \"China\", \"Hong Kong\", \"United States\", \"United Kingdom\", \"South Korea\", \"China\", \"Morocco\", \"Hong Kong\", \"United States\", \"Hong Kong\", \"United States\", \"India\", \"Australia\", \"United Arab Emirates\", \"India\", \"United Kingdom\", \"Canada\", \"United States\", \"Germany\", \"China\", \"United Kingdom\", \"United Kingdom\", \"Thailand\", \"India\", \"United States\", \"United States\", \"India\", \"Venezuela\", \"Colombia\", \"Australia\", \"Thailand\", \"United States\", \"United States\", \"Hong Kong\", \"United States\", \"United Kingdom\", \"Spain\", \"United States\", \"India\", \"Canada\", \"United States\", \"Canada\", \"India\", \"India\", \"United States\", \"United States\", \"Colombia\", \"United States\", \"United States\", \"India\", \"United States\", \"United States\", \"Turkey\", \"United States\", \"India\", \"United States\", \"India\", \"Thailand\", \"United States\", \"United States\", \"Malaysia\", \"United Kingdom\", \"United States\", \"Ireland\", \"United Kingdom\", \"United States\", \"United States\", \"Spain\", \"Canada\", \"United States\", \"United States\", \"France\", \"Germany\", \"Czech Republic\", \"Belgium\", \"United States\", \"United States\", \"Australia\", \"United States\", \"France\", \"Belgium\", \"United States\", \"India\", \"Thailand\", \"Nigeria\", \"India\", \"United States\", \"United States\", \"India\", \"United States\", \"India\", \"Argentina\", \"France\", \"United Kingdom\", \"United Kingdom\", \"United States\", \"France\", \"Belgium\", \"United States\", \"United Kingdom\", \"United States\", \"Canada\", \"United States\", \"Switzerland\", \"Vatican City\", \"Italy\", \"Germany\", \"France\", \"United States\", \"United States\", \"Portugal\", \"France\", \"Poland\", \"United States\", \"United Kingdom\", \"India\", \"United States\", \"United States\", \"United States\", \"United States\", \"United States\", \"France\", \"Japan\", \"United States\", \"France\", \"Japan\", \"United States\", \"United States\", \"France\", \"Japan\", \"United States\", \"United States\", \"New Zealand\", \"United States\", \"New Zealand\", \"Japan\", \"United States\", \"United States\", \"New Zealand\", \"United States\", \"United States\", \"United States\", \"United States\", \"United States\", \"United States\", \"United States\", \"United States\", \"United States\", \"United States\", \"United States\", \"France\", \"Japan\", \"United States\", \"Netherlands\", \"Japan\", \"France\", \"United States\", \"France\", \"Japan\", \"United States\", \"United States\", \"United States\", \"India\", \"Switzerland\", \"United States\", \"India\", \"United States\", \"United States\", \"Hong Kong\", \"United States\", \"United States\", \"United States\", \"United States\", \"Canada\", \"Argentina\", \"India\", \"United States\", \"Canada\", \"India\", \"United Kingdom\", \"India\", \"India\", \"United States\", \"United States\", \"United Kingdom\", \"United States\", \"Taiwan\", \"United States\", \"Morocco\", \"United States\", \"United States\", \"United States\", \"United States\", \"United States\", \"United States\", \"Brazil\", \"India\", \"United States\", \"India\", \"United States\", \"China\", \"India\", \"India\", \"United States\", \"India\", \"India\", \"Singapore\", \"Japan\", \"France\", \"India\", \"South Korea\", \"India\", \"Pakistan\", \"United States\", \"India\", \"Egypt\", \"India\", \"United States\", \"United States\", \"Mexico\", \"Canada\", \"United States\", \"Australia\", \"United States\", \"India\", \"United Kingdom\", \"United States\", \"Egypt\", \"United Kingdom\", \"United States\", \"Malaysia\", \"Canada\", \"Mexico\", \"Germany\", \"South Africa\", \"United States\", \"United Kingdom\", \"United States\", \"Canada\", \"Canada\", \"Germany\", \"France\", \"United States\", \"Canada\", \"United Kingdom\", \"United States\", \"United States\", \"Hong Kong\", \"India\", \"United States\", \"Hong Kong\", \"United States\", \"United Kingdom\", \"United States\", \"United Kingdom\", \"Mexico\", \"United States\", \"United States\", \"India\", \"United Kingdom\", \"Ireland\", \"India\", \"India\", \"India\", \"India\", \"Nigeria\", \"Italy\", \"United Kingdom\", \"United States\", \"Japan\", \"United States\", \"United States\", \"United States\", \"United States\", \"United States\", \"United States\", \"Egypt\", \"United States\", \"United States\", \"Uruguay\", \"India\", \"Canada\", \"Ireland\", \"Canada\", \"United Kingdom\", \"United States\", \"Canada\", \"United Kingdom\", \"Germany\", \"Thailand\", \"United States\", \"United States\", \"United States\", \"United States\", \"Mexico\", \"India\", \"Mexico\", \"Hong Kong\", \"United States\", \"Germany\", \"Australia\", \"India\", \"United States\", \"United States\", \"United States\", \"Japan\", \"United States\", \"United States\", \"United States\", \"India\", \"Italy\", \"United States\", \"India\", \"Italy\", \"France\", \"Turkey\", \"Canada\", \"India\", \"Pakistan\", \"India\", \"United States\", \"India\", \"India\", \"India\", \"Egypt\", \"India\", \"India\", \"Egypt\", \"South Africa\", \"United States\", \"United States\", \"United States\", \"India\", \"India\", \"United States\", \"Australia\", \"France\", \"Ireland\", \"France\", \"Canada\", \"Australia\", \"India\", \"India\", \"India\", \"India\", \"United States\", \"United States\", \"India\", \"India\", \"United States\", \"United States\", \"Egypt\", \"United States\", \"United States\", \"United Kingdom\", \"Australia\", \"United States\", \"United States\", \"United States\", \"United States\", \"Italy\", \"France\", \"United States\", \"United States\", \"United States\", \"United States\", \"United States\", \"United States\", \"United Kingdom\", \"Canada\", \"Japan\", \"United States\", \"United States\", \"United States\", \"United States\", \"Sweden\", \"United Kingdom\", \"Finland\", \"United States\", \"Hong Kong\", \"Taiwan\", \"South Korea\", \"United States\", \"United Kingdom\", \"Spain\", \"South Korea\", \"United States\", \"United States\", \"United States\", \"United Kingdom\", \"United States\", \"United Kingdom\", \"United States\", \"United Kingdom\", \"United Kingdom\", \"United States\", \"United Kingdom\", \"Turkey\", \"United Kingdom\", \"France\", \"United States\", \"Canada\", \"Guatemala\", \"Ukraine\", \"United States\", \"United States\", \"United States\", \"United Kingdom\", \"France\", \"Mexico\", \"United States\", \"Israel\", \"India\", \"Italy\", \"South Africa\", \"West Germany\", \"Australia\", \"United States\", \"India\", \"India\", \"India\", \"Hong Kong\", \"United States\", \"India\", \"United States\", \"United States\", \"United Kingdom\", \"United States\", \"United States\", \"Germany\", \"United Kingdom\", \"Australia\", \"India\", \"United States\", \"Australia\", \"Australia\", \"India\", \"United States\", \"United States\", \"United Arab Emirates\", \"United Kingdom\", \"United States\", \"India\", \"United States\", \"Thailand\", \"Italy\", \"France\", \"Switzerland\", \"United States\", \"India\", \"United States\", \"Canada\", \"France\", \"United States\", \"United States\", \"Russia\", \"Colombia\", \"Mexico\", \"United States\", \"United States\", \"Colombia\", \"India\", \"Indonesia\", \"Switzerland\", \"United States\", \"Peru\", \"United States\", \"United States\", \"Thailand\", \"Canada\", \"United States\", \"United States\", \"United States\", \"China\", \"Hong Kong\", \"United States\", \"China\", \"Hong Kong\", \"United States\", \"France\", \"United States\", \"United States\", \"United States\", \"United States\", \"United States\", \"United States\", \"United Kingdom\", \"New Zealand\", \"United States\", \"United States\", \"United States\", \"United States\", \"United States\", \"India\", \"United States\", \"Indonesia\", \"Mexico\", \"United States\", \"United States\", \"Czech Republic\", \"United Kingdom\", \"France\", \"United States\", \"United States\", \"Australia\", \"United Kingdom\", \"Canada\", \"United States\", \"Thailand\", \"United States\", \"United States\", \"United Kingdom\", \"United States\", \"United States\", \"United States\", \"United States\", \"United Kingdom\", \"United States\", \"United States\", \"United Kingdom\", \"United States\", \"United States\", \"United States\", \"France\", \"Jamaica\", \"United States\", \"United States\", \"United States\", \"United States\", \"Spain\", \"United States\", \"United States\", \"Canada\", \"Canada\", \"United States\", \"United Kingdom\", \"United States\", \"United States\", \"United Kingdom\", \"Switzerland\", \"United States\", \"United States\", \"Egypt\", \"United States\", \"India\", \"Thailand\", \"United States\", \"United States\", \"Canada\", \"South Korea\", \"United States\", \"Australia\", \"United Kingdom\", \"United States\", \"New Zealand\", \"Italy\", \"France\", \"United States\", \"India\", \"United States\", \"Canada\", \"United States\", \"United Kingdom\", \"France\", \"United States\", \"Canada\", \"Australia\", \"United Kingdom\", \"Netherlands\", \"Belgium\", \"United States\", \"United States\", \"South Korea\", \"Brazil\", \"United States\", \"United States\", \"United States\", \"Italy\", \"France\", \"Thailand\", \"India\", \"Israel\", \"United Kingdom\", \"France\", \"Canada\", \"Belgium\", \"United States\", \"South Korea\", \"United States\", \"Denmark\", \"United Kingdom\", \"Sweden\", \"India\", \"France\", \"India\", \"India\", \"United States\", \"India\", \"United States\", \"South Korea\", \"China\", \"United States\", \"United States\", \"United States\", \"United Kingdom\", \"United States\", \"Indonesia\", \"United States\", \"United States\", \"United States\", \"United States\", \"India\", \"United States\", \"United States\", \"United Kingdom\", \"United States\", \"Canada\", \"United States\", \"Sweden\", \"China\", \"Hong Kong\", \"Hong Kong\", \"United States\", \"India\", \"India\", \"United States\", \"Germany\", \"France\", \"United States\", \"United Kingdom\", \"United States\", \"India\", \"France\", \"United States\", \"United States\", \"Egypt\", \"United States\", \"United States\", \"India\", \"United States\", \"Hong Kong\", \"United States\", \"United States\", \"Hong Kong\", \"United States\", \"India\", \"United States\", \"Kazakhstan\", \"Argentina\", \"France\", \"United States\", \"Germany\", \"Qatar\", \"Hong Kong\", \"Mexico\", \"United States\", \"Germany\", \"United Kingdom\", \"United States\", \"Germany\", \"United Kingdom\", \"Italy\", \"France\", \"United States\", \"India\", \"United Kingdom\", \"India\", \"India\", \"India\", \"United States\", \"United States\", \"United States\", \"Mexico\", \"Spain\", \"Canada\", \"United States\", \"United States\", \"Canada\", \"United States\", \"United States\", \"New Zealand\", \"United Kingdom\", \"Argentina\", \"South Korea\", \"United States\", \"United States\", \"United States\", \"Finland\", \"United States\", \"United States\", \"Egypt\", \"Singapore\", \"Spain\", \"France\", \"Uruguay\", \"Canada\", \"United States\", \"United States\", \"Canada\", \"France\", \"Canada\", \"United States\", \"United Kingdom\", \"United States\", \"United States\", \"United States\", \"United Kingdom\", \"United States\", \"Hong Kong\", \"United States\", \"United States\", \"United States\", \"Brazil\", \"United Kingdom\", \"United Kingdom\", \"United States\", \"United States\", \"Canada\", \"United States\", \"United States\", \"United Kingdom\", \"United States\", \"United Kingdom\", \"United States\", \"France\", \"United States\", \"United States\", \"United States\", \"Canada\", \"China\", \"United Kingdom\", \"United States\", \"United States\", \"United States\", \"Ireland\", \"Canada\", \"Luxembourg\", \"United States\", \"United Kingdom\", \"Philippines\", \"India\", \"United States\", \"Nigeria\", \"United States\", \"Czech Republic\", \"United Kingdom\", \"United States\", \"United States\", \"Hong Kong\", \"United States\", \"China\", \"United States\", \"Israel\", \"Germany\", \"India\", \"Canada\", \"United States\", \"United States\", \"United States\", \"Egypt\", \"Nigeria\", \"United States\", \"Australia\", \"Egypt\", \"Spain\", \"Mexico\", \"Mexico\", \"France\", \"United Kingdom\", \"United States\", \"United States\", \"United States\", \"United Kingdom\", \"United States\", \"United States\", \"Canada\", \"Israel\", \"Germany\", \"Poland\", \"Luxembourg\", \"Belgium\", \"France\", \"United States\", \"Egypt\", \"United States\", \"South Korea\", \"United States\", \"United States\", \"Poland\", \"United Kingdom\", \"Japan\", \"United States\", \"United States\", \"United Kingdom\", \"United States\", \"India\", \"Indonesia\", \"United States\", \"United Kingdom\", \"India\", \"United Kingdom\", \"Australia\", \"Austria\", \"United States\", \"Canada\", \"Australia\", \"United States\", \"Hong Kong\", \"Argentina\", \"Chile\", \"United States\", \"Italy\", \"United States\", \"United States\", \"Japan\", \"United States\", \"United States\", \"Indonesia\", \"United States\", \"Hong Kong\", \"Canada\", \"United States\", \"United States\", \"United States\", \"United Kingdom\", \"Lithuania\", \"United States\", \"United States\", \"United States\", \"United States\", \"United Kingdom\", \"United States\", \"United States\", \"United Kingdom\", \"United Kingdom\", \"United States\", \"United States\", \"Nigeria\", \"United States\", \"United States\", \"Greece\", \"United Kingdom\", \"Brazil\", \"United States\", \"United Kingdom\", \"Hong Kong\", \"United States\", \"United States\", \"Hong Kong\", \"United States\", \"China\", \"United States\", \"United Kingdom\", \"China\", \"United States\", \"India\", \"United Kingdom\", \"United States\", \"United States\", \"Greece\", \"New Zealand\", \"United States\", \"United Kingdom\", \"United States\", \"Norway\", \"Indonesia\", \"United States\", \"United States\", \"United States\", \"Sweden\", \"Norway\", \"India\", \"Israel\", \"United States\", \"United States\", \"United States\", \"United Kingdom\", \"United States\", \"Morocco\", \"United States\", \"United Kingdom\", \"Morocco\", \"United States\", \"United States\", \"South Korea\", \"United Kingdom\", \"India\", \"United States\", \"Australia\", \"United Kingdom\", \"United States\", \"United States\", \"United States\", \"United States\", \"Spain\", \"Canada\", \"United States\", \"Canada\", \"United States\", \"Canada\", \"Spain\", \"United States\", \"United States\", \"Thailand\", \"United States\", \"United States\", \"India\", \"India\", \"Canada\", \"United States\", \"India\", \"United Arab Emirates\", \"United Kingdom\", \"United Kingdom\", \"United States\", \"United States\", \"United Kingdom\", \"Canada\", \"France\", \"United States\", \"United Kingdom\", \"Mexico\", \"Denmark\", \"United States\", \"United States\", \"United States\", \"United Kingdom\", \"United Kingdom\", \"United States\", \"United Kingdom\", \"United States\", \"United States\", \"United Kingdom\", \"France\", \"France\", \"United States\", \"United States\", \"India\", \"Germany\", \"France\", \"Indonesia\", \"United States\", \"United States\", \"United Kingdom\", \"United States\", \"Australia\", \"Canada\", \"United States\", \"South Korea\", \"United States\", \"United States\", \"Belgium\", \"Ireland\", \"Netherlands\", \"Germany\", \"Afghanistan\", \"Australia\", \"France\", \"United States\", \"United States\", \"Brazil\", \"United Kingdom\", \"United States\", \"United States\", \"United States\", \"India\", \"United States\", \"Canada\", \"United States\", \"United States\", \"France\", \"Canada\", \"Italy\", \"United States\", \"China\", \"Germany\", \"United States\", \"Ireland\", \"United Kingdom\", \"Greece\", \"France\", \"Netherlands\", \"Ireland\", \"United States\", \"United States\", \"United States\", \"Denmark\", \"Indonesia\", \"Finland\", \"Norway\", \"United Kingdom\", \"Israel\", \"France\", \"United States\", \"Germany\", \"Netherlands\", \"New Zealand\", \"United States\", \"New Zealand\", \"United States\", \"United Kingdom\", \"Germany\", \"United States\", \"United Kingdom\", \"Poland\", \"Hong Kong\", \"United States\", \"Australia\", \"South Africa\", \"United Kingdom\", \"United Kingdom\", \"United States\", \"Spain\", \"Germany\", \"Greece\", \"Canada\", \"United States\", \"United States\", \"Germany\", \"Mexico\", \"United States\", \"United States\", \"United States\", \"United States\", \"South Korea\", \"United States\", \"United States\", \"United Kingdom\", \"United States\", \"United States\", \"France\", \"Spain\", \"Denmark\", \"United States\", \"Canada\", \"New Zealand\", \"United States\", \"Sweden\", \"United States\", \"United Kingdom\", \"Italy\", \"United States\", \"United States\", \"United States\", \"United States\", \"United States\", \"Canada\", \"United States\", \"Germany\", \"United States\", \"United States\", \"United States\", \"Philippines\", \"United States\", \"United Kingdom\", \"United Kingdom\", \"United States\", \"United States\", \"United States\", \"United States\", \"United Kingdom\", \"United States\", \"Germany\", \"United States\", \"Czech Republic\", \"United States\", \"Somalia\", \"Kenya\", \"Sudan\", \"South Africa\", \"United States\", \"United Kingdom\", \"United States\", \"United States\", \"India\", \"Egypt\", \"United States\", \"Canada\", \"United States\", \"South Korea\", \"United States\", \"United Kingdom\", \"United States\", \"Czech Republic\", \"United States\", \"South Korea\", \"United States\", \"United States\", \"United States\", \"Canada\", \"Indonesia\", \"United States\", \"Germany\", \"United States\", \"India\", \"United Kingdom\", \"United States\", \"Canada\", \"Japan\", \"Panama\", \"United States\", \"United States\", \"New Zealand\", \"United States\", \"France\", \"United Kingdom\", \"Spain\", \"Belgium\", \"Serbia\", \"South Korea\", \"Slovenia\", \"Egypt\", \"United States\", \"United Kingdom\", \"United States\", \"United States\", \"Russia\", \"United Kingdom\", \"United States\", \"Australia\", \"United States\", \"United States\", \"United Kingdom\", \"United States\", \"Denmark\", \"United Kingdom\", \"South Africa\", \"Sweden\", \"Belgium\", \"Australia\", \"Germany\", \"Canada\", \"United States\", \"United States\", \"United States\", \"United States\", \"France\", \"Japan\", \"United States\", \"United States\", \"India\", \"United States\", \"Italy\", \"United States\", \"Mexico\", \"Indonesia\", \"Ukraine\", \"United States\", \"United States\", \"United States\", \"Poland\", \"United States\", \"United Kingdom\", \"United States\", \"United States\", \"United States\", \"United States\", \"United Kingdom\", \"United States\", \"United States\", \"Canada\", \"United States\", \"United States\", \"United Kingdom\", \"United States\", \"United States\", \"Egypt\", \"United States\", \"United Kingdom\", \"United States\", \"United Arab Emirates\", \"United States\", \"United States\", \"United States\", \"United States\", \"United Kingdom\", \"United States\", \"United Kingdom\", \"Ireland\", \"Canada\", \"United States\", \"United Kingdom\", \"United States\", \"United States\", \"United States\", \"Thailand\", \"United States\", \"United States\", \"Belgium\", \"France\", \"United States\", \"United States\", \"United States\", \"Egypt\", \"United States\", \"Australia\", \"United States\", \"New Zealand\", \"United Kingdom\", \"Australia\", \"United States\", \"Philippines\", \"Nigeria\", \"United States\", \"United Kingdom\", \"Canada\", \"United States\", \"United States\", \"China\", \"United Kingdom\", \"Israel\", \"France\", \"United Kingdom\", \"United States\", \"United Kingdom\", \"Canada\", \"Taiwan\", \"Ireland\", \"Hong Kong\", \"Canada\", \"India\", \"United States\", \"United States\", \"Thailand\", \"South Korea\", \"China\", \"Belgium\", \"India\", \"United States\", \"Thailand\", \"United States\", \"United States\", \"Canada\", \"United Kingdom\", \"United Kingdom\", \"Australia\", \"Canada\", \"United States\", \"Hong Kong\", \"China\", \"United States\", \"United States\", \"United States\", \"China\", \"China\", \"India\", \"India\", \"United States\", \"United States\", \"United States\", \"United States\", \"Germany\", \"United States\", \"Italy\", \"United States\", \"Venezuela\", \"United States\", \"United Kingdom\", \"Canada\", \"United Kingdom\", \"Canada\", \"Japan\", \"United States\", \"United Kingdom\", \"United States\", \"United Kingdom\", \"United States\", \"Czech Republic\", \"United States\", \"India\", \"United States\", \"United States\", \"United States\", \"United States\", \"India\", \"Thailand\", \"South Korea\", \"United Kingdom\", \"United States\", \"United Kingdom\", \"China\", \"United States\", \"United Kingdom\", \"Brazil\", \"Germany\", \"United States\", \"United Kingdom\", \"Canada\", \"United States\", \"United States\", \"United States\", \"United States\", \"South Africa\", \"United States\", \"United States\", \"South Africa\", \"United Kingdom\", \"India\", \"India\", \"India\", \"United States\", \"United Kingdom\", \"Namibia\", \"South Africa\", \"Zimbabwe\", \"United States\", \"Russia\", \"United States\", \"United States\", \"United States\", \"United States\", \"Canada\", \"United States\", \"India\", \"United Kingdom\", \"India\", \"United States\", \"United Kingdom\", \"United States\", \"United States\", \"Japan\", \"United States\", \"United States\", \"United States\", \"United Kingdom\", \"India\", \"United Kingdom\", \"Canada\", \"Australia\", \"United States\", \"France\", \"India\", \"Thailand\", \"United Kingdom\", \"Canada\", \"United States\", \"United States\", \"United States\", \"United States\", \"Switzerland\", \"United Kingdom\", \"United States\", \"Canada\", \"United States\", \"United Kingdom\", \"Germany\", \"Canada\", \"India\", \"Egypt\", \"United States\", \"India\", \"Egypt\", \"United States\", \"United States\", \"United Kingdom\", \"Germany\", \"United States\", \"United States\", \"India\", \"India\", \"United States\", \"United Kingdom\", \"India\", \"Sweden\", \"United States\", \"United Kingdom\", \"Belgium\", \"United States\", \"United States\", \"United States\", \"India\", \"India\", \"Turkey\", \"India\", \"South Korea\", \"United Kingdom\", \"Pakistan\", \"India\", \"India\", \"United States\", \"United States\", \"United States\", \"United Kingdom\", \"United States\", \"United States\", \"Canada\", \"India\", \"United States\", \"India\", \"United Kingdom\", \"Egypt\", \"Mexico\", \"Poland\", \"United States\", \"United States\", \"Brazil\", \"India\", \"Uganda\", \"China\", \"United Kingdom\", \"France\", \"United States\", \"United States\", \"Spain\", \"United States\", \"United States\", \"United States\", \"Argentina\", \"Poland\", \"United States\", \"Hong Kong\", \"United Kingdom\", \"India\", \"United States\", \"United States\", \"France\", \"United States\", \"Poland\", \"United States\", \"China\", \"Turkey\", \"Taiwan\", \"United States\", \"United Kingdom\", \"United States\", \"Indonesia\", \"United States\", \"United Kingdom\", \"India\", \"United States\", \"Peru\", \"United States\", \"United Kingdom\", \"Germany\", \"United States\", \"United Kingdom\", \"Canada\", \"United States\", \"United States\", \"United Kingdom\", \"United Kingdom\", \"United States\", \"United States\", \"Taiwan\", \"United Kingdom\", \"Canada\", \"India\", \"Thailand\", \"United States\", \"United Arab Emirates\", \"United States\", \"United Kingdom\", \"United Kingdom\", \"United States\", \"United States\", \"United Kingdom\", \"United States\", \"East Germany\", \"West Germany\", \"France\", \"Netherlands\", \"South Africa\", \"Finland\", \"United States\", \"Australia\", \"Turkey\", \"United States\", \"United States\", \"United States\", \"Canada\", \"United States\", \"United States\", \"United States\", \"United States\", \"United Kingdom\", \"United States\", \"United States\", \"Pakistan\", \"India\", \"United States\", \"United States\", \"Canada\", \"United States\", \"United States\", \"United States\", \"Mexico\", \"India\", \"India\", \"India\", \"India\", \"India\", \"Egypt\", \"Austria\", \"United States\", \"India\", \"France\", \"Belgium\", \"Thailand\", \"Thailand\", \"Thailand\", \"United States\", \"Japan\", \"United States\", \"United States\", \"United States\", \"Russia\", \"Spain\", \"United States\", \"United Kingdom\", \"United States\", \"Croatia\", \"Slovenia\", \"Serbia\", \"Montenegro\", \"Philippines\", \"United States\", \"United States\", \"Hong Kong\", \"United States\", \"Egypt\", \"France\", \"Japan\", \"Canada\", \"Turkey\", \"United States\", \"France\", \"South Korea\", \"Indonesia\", \"India\", \"India\", \"Pakistan\", \"United Arab Emirates\", \"Jordan\", \"United States\", \"United States\", \"United States\", \"United States\", \"India\"], \"type\": \"choropleth\", \"z\": [4509, 1046, 803, 445, 393, 316, 232, 231, 226, 169, 162, 158, 117, 113, 105, 103, 99, 97, 91, 90, 90, 89, 83, 70, 62, 52, 50, 48, 46, 42, 41, 40, 37, 33, 31, 30, 30, 29, 27, 26, 24, 22, 19, 14, 14, 13, 12, 12, 11, 11, 11, 11, 10, 10, 10, 9, 8, 7, 7, 6, 6, 6, 5, 5, 5, 4, 4, 4, 4, 3, 3, 3, 3, 3, 3, 3, 3, 2, 2, 2, 2, 2, 2, 2, 2, 2, 1, 1, 1, 1, 1, 1, 1, 1, 1, 1, 1, 1, 1, 1, 1, 1, 1, 1, 1, 1, 1, 1, 1, 1, 1, 1, 1, 1, 1, 1, 1, 1, 1, 1, 1, 1, 1, 1, 1, 1, 1]}],\n",
              "                        {\"template\": {\"data\": {\"bar\": [{\"error_x\": {\"color\": \"#2a3f5f\"}, \"error_y\": {\"color\": \"#2a3f5f\"}, \"marker\": {\"line\": {\"color\": \"#E5ECF6\", \"width\": 0.5}}, \"type\": \"bar\"}], \"barpolar\": [{\"marker\": {\"line\": {\"color\": \"#E5ECF6\", \"width\": 0.5}}, \"type\": \"barpolar\"}], \"carpet\": [{\"aaxis\": {\"endlinecolor\": \"#2a3f5f\", \"gridcolor\": \"white\", \"linecolor\": \"white\", \"minorgridcolor\": \"white\", \"startlinecolor\": \"#2a3f5f\"}, \"baxis\": {\"endlinecolor\": \"#2a3f5f\", \"gridcolor\": \"white\", \"linecolor\": \"white\", \"minorgridcolor\": \"white\", \"startlinecolor\": \"#2a3f5f\"}, \"type\": \"carpet\"}], \"choropleth\": [{\"colorbar\": {\"outlinewidth\": 0, \"ticks\": \"\"}, \"type\": \"choropleth\"}], \"contour\": [{\"colorbar\": {\"outlinewidth\": 0, \"ticks\": \"\"}, \"colorscale\": [[0.0, \"#0d0887\"], [0.1111111111111111, \"#46039f\"], [0.2222222222222222, \"#7201a8\"], [0.3333333333333333, \"#9c179e\"], [0.4444444444444444, \"#bd3786\"], [0.5555555555555556, \"#d8576b\"], [0.6666666666666666, \"#ed7953\"], [0.7777777777777778, \"#fb9f3a\"], [0.8888888888888888, \"#fdca26\"], [1.0, \"#f0f921\"]], \"type\": \"contour\"}], \"contourcarpet\": [{\"colorbar\": {\"outlinewidth\": 0, \"ticks\": \"\"}, \"type\": \"contourcarpet\"}], \"heatmap\": [{\"colorbar\": {\"outlinewidth\": 0, \"ticks\": \"\"}, \"colorscale\": [[0.0, \"#0d0887\"], [0.1111111111111111, \"#46039f\"], [0.2222222222222222, \"#7201a8\"], [0.3333333333333333, \"#9c179e\"], [0.4444444444444444, \"#bd3786\"], [0.5555555555555556, \"#d8576b\"], [0.6666666666666666, \"#ed7953\"], [0.7777777777777778, \"#fb9f3a\"], [0.8888888888888888, \"#fdca26\"], [1.0, \"#f0f921\"]], \"type\": \"heatmap\"}], \"heatmapgl\": [{\"colorbar\": {\"outlinewidth\": 0, \"ticks\": \"\"}, \"colorscale\": [[0.0, \"#0d0887\"], [0.1111111111111111, \"#46039f\"], [0.2222222222222222, \"#7201a8\"], [0.3333333333333333, \"#9c179e\"], [0.4444444444444444, \"#bd3786\"], [0.5555555555555556, \"#d8576b\"], [0.6666666666666666, \"#ed7953\"], [0.7777777777777778, \"#fb9f3a\"], [0.8888888888888888, \"#fdca26\"], [1.0, \"#f0f921\"]], \"type\": \"heatmapgl\"}], \"histogram\": [{\"marker\": {\"colorbar\": {\"outlinewidth\": 0, \"ticks\": \"\"}}, \"type\": \"histogram\"}], \"histogram2d\": [{\"colorbar\": {\"outlinewidth\": 0, \"ticks\": \"\"}, \"colorscale\": [[0.0, \"#0d0887\"], [0.1111111111111111, \"#46039f\"], [0.2222222222222222, \"#7201a8\"], [0.3333333333333333, \"#9c179e\"], [0.4444444444444444, \"#bd3786\"], [0.5555555555555556, \"#d8576b\"], [0.6666666666666666, \"#ed7953\"], [0.7777777777777778, \"#fb9f3a\"], [0.8888888888888888, \"#fdca26\"], [1.0, \"#f0f921\"]], \"type\": \"histogram2d\"}], \"histogram2dcontour\": [{\"colorbar\": {\"outlinewidth\": 0, \"ticks\": \"\"}, \"colorscale\": [[0.0, \"#0d0887\"], [0.1111111111111111, \"#46039f\"], [0.2222222222222222, \"#7201a8\"], [0.3333333333333333, \"#9c179e\"], [0.4444444444444444, \"#bd3786\"], [0.5555555555555556, \"#d8576b\"], [0.6666666666666666, \"#ed7953\"], [0.7777777777777778, \"#fb9f3a\"], [0.8888888888888888, \"#fdca26\"], [1.0, \"#f0f921\"]], \"type\": \"histogram2dcontour\"}], \"mesh3d\": [{\"colorbar\": {\"outlinewidth\": 0, \"ticks\": \"\"}, \"type\": \"mesh3d\"}], \"parcoords\": [{\"line\": {\"colorbar\": {\"outlinewidth\": 0, \"ticks\": \"\"}}, \"type\": \"parcoords\"}], \"pie\": [{\"automargin\": true, \"type\": \"pie\"}], \"scatter\": [{\"marker\": {\"colorbar\": {\"outlinewidth\": 0, \"ticks\": \"\"}}, \"type\": \"scatter\"}], \"scatter3d\": [{\"line\": {\"colorbar\": {\"outlinewidth\": 0, \"ticks\": \"\"}}, \"marker\": {\"colorbar\": {\"outlinewidth\": 0, \"ticks\": \"\"}}, \"type\": \"scatter3d\"}], \"scattercarpet\": [{\"marker\": {\"colorbar\": {\"outlinewidth\": 0, \"ticks\": \"\"}}, \"type\": \"scattercarpet\"}], \"scattergeo\": [{\"marker\": {\"colorbar\": {\"outlinewidth\": 0, \"ticks\": \"\"}}, \"type\": \"scattergeo\"}], \"scattergl\": [{\"marker\": {\"colorbar\": {\"outlinewidth\": 0, \"ticks\": \"\"}}, \"type\": \"scattergl\"}], \"scattermapbox\": [{\"marker\": {\"colorbar\": {\"outlinewidth\": 0, \"ticks\": \"\"}}, \"type\": \"scattermapbox\"}], \"scatterpolar\": [{\"marker\": {\"colorbar\": {\"outlinewidth\": 0, \"ticks\": \"\"}}, \"type\": \"scatterpolar\"}], \"scatterpolargl\": [{\"marker\": {\"colorbar\": {\"outlinewidth\": 0, \"ticks\": \"\"}}, \"type\": \"scatterpolargl\"}], \"scatterternary\": [{\"marker\": {\"colorbar\": {\"outlinewidth\": 0, \"ticks\": \"\"}}, \"type\": \"scatterternary\"}], \"surface\": [{\"colorbar\": {\"outlinewidth\": 0, \"ticks\": \"\"}, \"colorscale\": [[0.0, \"#0d0887\"], [0.1111111111111111, \"#46039f\"], [0.2222222222222222, \"#7201a8\"], [0.3333333333333333, \"#9c179e\"], [0.4444444444444444, \"#bd3786\"], [0.5555555555555556, \"#d8576b\"], [0.6666666666666666, \"#ed7953\"], [0.7777777777777778, \"#fb9f3a\"], [0.8888888888888888, \"#fdca26\"], [1.0, \"#f0f921\"]], \"type\": \"surface\"}], \"table\": [{\"cells\": {\"fill\": {\"color\": \"#EBF0F8\"}, \"line\": {\"color\": \"white\"}}, \"header\": {\"fill\": {\"color\": \"#C8D4E3\"}, \"line\": {\"color\": \"white\"}}, \"type\": \"table\"}]}, \"layout\": {\"annotationdefaults\": {\"arrowcolor\": \"#2a3f5f\", \"arrowhead\": 0, \"arrowwidth\": 1}, \"coloraxis\": {\"colorbar\": {\"outlinewidth\": 0, \"ticks\": \"\"}}, \"colorscale\": {\"diverging\": [[0, \"#8e0152\"], [0.1, \"#c51b7d\"], [0.2, \"#de77ae\"], [0.3, \"#f1b6da\"], [0.4, \"#fde0ef\"], [0.5, \"#f7f7f7\"], [0.6, \"#e6f5d0\"], [0.7, \"#b8e186\"], [0.8, \"#7fbc41\"], [0.9, \"#4d9221\"], [1, \"#276419\"]], \"sequential\": [[0.0, \"#0d0887\"], [0.1111111111111111, \"#46039f\"], [0.2222222222222222, \"#7201a8\"], [0.3333333333333333, \"#9c179e\"], [0.4444444444444444, \"#bd3786\"], [0.5555555555555556, \"#d8576b\"], [0.6666666666666666, \"#ed7953\"], [0.7777777777777778, \"#fb9f3a\"], [0.8888888888888888, \"#fdca26\"], [1.0, \"#f0f921\"]], \"sequentialminus\": [[0.0, \"#0d0887\"], [0.1111111111111111, \"#46039f\"], [0.2222222222222222, \"#7201a8\"], [0.3333333333333333, \"#9c179e\"], [0.4444444444444444, \"#bd3786\"], [0.5555555555555556, \"#d8576b\"], [0.6666666666666666, \"#ed7953\"], [0.7777777777777778, \"#fb9f3a\"], [0.8888888888888888, \"#fdca26\"], [1.0, \"#f0f921\"]]}, \"colorway\": [\"#636efa\", \"#EF553B\", \"#00cc96\", \"#ab63fa\", \"#FFA15A\", \"#19d3f3\", \"#FF6692\", \"#B6E880\", \"#FF97FF\", \"#FECB52\"], \"font\": {\"color\": \"#2a3f5f\"}, \"geo\": {\"bgcolor\": \"white\", \"lakecolor\": \"white\", \"landcolor\": \"#E5ECF6\", \"showlakes\": true, \"showland\": true, \"subunitcolor\": \"white\"}, \"hoverlabel\": {\"align\": \"left\"}, \"hovermode\": \"closest\", \"mapbox\": {\"style\": \"light\"}, \"paper_bgcolor\": \"white\", \"plot_bgcolor\": \"#E5ECF6\", \"polar\": {\"angularaxis\": {\"gridcolor\": \"white\", \"linecolor\": \"white\", \"ticks\": \"\"}, \"bgcolor\": \"#E5ECF6\", \"radialaxis\": {\"gridcolor\": \"white\", \"linecolor\": \"white\", \"ticks\": \"\"}}, \"scene\": {\"xaxis\": {\"backgroundcolor\": \"#E5ECF6\", \"gridcolor\": \"white\", \"gridwidth\": 2, \"linecolor\": \"white\", \"showbackground\": true, \"ticks\": \"\", \"zerolinecolor\": \"white\"}, \"yaxis\": {\"backgroundcolor\": \"#E5ECF6\", \"gridcolor\": \"white\", \"gridwidth\": 2, \"linecolor\": \"white\", \"showbackground\": true, \"ticks\": \"\", \"zerolinecolor\": \"white\"}, \"zaxis\": {\"backgroundcolor\": \"#E5ECF6\", \"gridcolor\": \"white\", \"gridwidth\": 2, \"linecolor\": \"white\", \"showbackground\": true, \"ticks\": \"\", \"zerolinecolor\": \"white\"}}, \"shapedefaults\": {\"line\": {\"color\": \"#2a3f5f\"}}, \"ternary\": {\"aaxis\": {\"gridcolor\": \"white\", \"linecolor\": \"white\", \"ticks\": \"\"}, \"baxis\": {\"gridcolor\": \"white\", \"linecolor\": \"white\", \"ticks\": \"\"}, \"bgcolor\": \"#E5ECF6\", \"caxis\": {\"gridcolor\": \"white\", \"linecolor\": \"white\", \"ticks\": \"\"}}, \"title\": {\"x\": 0.05}, \"xaxis\": {\"automargin\": true, \"gridcolor\": \"white\", \"linecolor\": \"white\", \"ticks\": \"\", \"title\": {\"standoff\": 15}, \"zerolinecolor\": \"white\", \"zerolinewidth\": 2}, \"yaxis\": {\"automargin\": true, \"gridcolor\": \"white\", \"linecolor\": \"white\", \"ticks\": \"\", \"title\": {\"standoff\": 15}, \"zerolinecolor\": \"white\", \"zerolinewidth\": 2}}}},\n",
              "                        {\"responsive\": true}\n",
              "                    ).then(function(){\n",
              "                            \n",
              "var gd = document.getElementById('d8c46aa5-9b68-4b91-9955-8b3844c8c83b');\n",
              "var x = new MutationObserver(function (mutations, observer) {{\n",
              "        var display = window.getComputedStyle(gd).display;\n",
              "        if (!display || display === 'none') {{\n",
              "            console.log([gd, 'removed!']);\n",
              "            Plotly.purge(gd);\n",
              "            observer.disconnect();\n",
              "        }}\n",
              "}});\n",
              "\n",
              "// Listen for the removal of the full notebook cells\n",
              "var notebookContainer = gd.closest('#notebook-container');\n",
              "if (notebookContainer) {{\n",
              "    x.observe(notebookContainer, {childList: true});\n",
              "}}\n",
              "\n",
              "// Listen for the clearing of the current output cell\n",
              "var outputEl = gd.closest('.output');\n",
              "if (outputEl) {{\n",
              "    x.observe(outputEl, {childList: true});\n",
              "}}\n",
              "\n",
              "                        })\n",
              "                };\n",
              "                \n",
              "            </script>\n",
              "        </div>\n",
              "</body>\n",
              "</html>"
            ]
          },
          "metadata": {}
        }
      ]
    },
    {
      "cell_type": "markdown",
      "metadata": {
        "id": "_ratqTf95lhD"
      },
      "source": [
        "**Nas imagens acima, podemos ver os 15 principais países contribuintes da Netflix. O país pela quantidade de conteúdo produzido são os Estados Unidos.**"
      ]
    },
    {
      "cell_type": "markdown",
      "metadata": {
        "id": "53BZEZHJ65i9"
      },
      "source": [
        "**ABAIXO Os Principais Diretores Na Netflix**"
      ]
    },
    {
      "cell_type": "code",
      "metadata": {
        "colab": {
          "base_uri": "https://localhost:8080/",
          "height": 623
        },
        "id": "yRsP2f1t66Rp",
        "outputId": "d5c906dd-f33c-44d1-b185-1b3cca217141"
      },
      "source": [
        "movie_director = netflix_df[netflix_df[\"type\"]==\"Movie\"]\n",
        "directorfilm = movie_director[\"director\"].value_counts()[1:]\n",
        "director_films = pd.DataFrame(directorfilm)\n",
        "\n",
        "director_films[:10].plot(kind=\"bar\",figsize=(10,8),  color='blue')\n",
        "plt.title(\"10 diretores com sua contagem total de filmes\")"
      ],
      "execution_count": 34,
      "outputs": [
        {
          "output_type": "execute_result",
          "data": {
            "text/plain": [
              "Text(0.5, 1.0, '10 diretores com sua contagem total de filmes')"
            ]
          },
          "metadata": {},
          "execution_count": 34
        },
        {
          "output_type": "display_data",
          "data": {
            "image/png": "[encoded data removed]",
            "text/plain": [
              "<Figure size 720x576 with 1 Axes>"
            ]
          },
          "metadata": {
            "needs_background": "light"
          }
        }
      ]
    },
    {
      "cell_type": "code",
      "metadata": {
        "colab": {
          "base_uri": "https://localhost:8080/",
          "height": 594
        },
        "id": "Zd8X3yECXtg0",
        "outputId": "2a58ff9d-7512-4c28-aaf7-e5c8b5516841"
      },
      "source": [
        "tv_director = netflix_df[netflix_df[\"type\"]==\"TV Show\"]\n",
        "directortv = tv_director[\"director\"].value_counts()[1:]\n",
        "director_tv = pd.DataFrame(directortv)\n",
        "director_tv[:10].plot(kind=\"bar\", figsize=(10,8),color='blue')\n",
        "plt.title(\"10 diretores com sua contagem total de Series\")"
      ],
      "execution_count": 35,
      "outputs": [
        {
          "output_type": "execute_result",
          "data": {
            "text/plain": [
              "Text(0.5, 1.0, '10 diretores com sua contagem total de Series')"
            ]
          },
          "metadata": {},
          "execution_count": 35
        },
        {
          "output_type": "display_data",
          "data": {
            "image/png": "[encoded data removed]",
            "text/plain": [
              "<Figure size 720x576 with 1 Axes>"
            ]
          },
          "metadata": {
            "needs_background": "light"
          }
        }
      ]
    },
    {
      "cell_type": "markdown",
      "metadata": {
        "id": "4axYpSjv_4XH"
      },
      "source": [
        "**Principais gêneros na Netflix**"
      ]
    },
    {
      "cell_type": "code",
      "metadata": {
        "colab": {
          "base_uri": "https://localhost:8080/",
          "height": 567
        },
        "id": "FusnIrZn_5Wn",
        "outputId": "5443219a-fa81-4cd1-8c56-b32b91bf95c0"
      },
      "source": [
        "filtered_genres = netflix_df.set_index('title').listed_in.str.split(', ', expand=True).stack().reset_index(level=1, drop=True);\n",
        "\n",
        "plt.figure(figsize=(7,9))\n",
        "g = sns.countplot(y = filtered_genres, order=filtered_genres.value_counts().index[:20])\n",
        "plt.title('Top 20 Gêneros na Netflix')\n",
        "plt.xlabel('Titulos')\n",
        "plt.ylabel('Gêneros')\n",
        "plt.show()"
      ],
      "execution_count": 36,
      "outputs": [
        {
          "output_type": "display_data",
          "data": {
            "image/png": "[encoded data removed]",
            "text/plain": [
              "<Figure size 504x648 with 1 Axes>"
            ]
          },
          "metadata": {
            "needs_background": "light"
          }
        }
      ]
    },
    {
      "cell_type": "markdown",
      "metadata": {
        "id": "0C0LhllvAUxo"
      },
      "source": [
        "**Pelo gráfico, sabemos que o Cinema Internacional ocupa o primeiro lugar, seguido de dramas e comédias.**"
      ]
    },
    {
      "cell_type": "markdown",
      "metadata": {
        "id": "A92lWIpIA1t_"
      },
      "source": [
        "**Fazendo e respondendo perguntas\n",
        "Vamos fazer algumas perguntas específicas e tentar respondê-las usando operações de conjunto de dados e visualizações interessantes.**\n",
        "\n",
        "**P: Qual é a maior contagem de classificação da Netflix?**\n"
      ]
    },
    {
      "cell_type": "code",
      "metadata": {
        "colab": {
          "base_uri": "https://localhost:8080/",
          "height": 611
        },
        "id": "Z7T1KrUaA3Ir",
        "outputId": "6f7a71e5-34c1-45a9-ac9f-49db49b7b2da"
      },
      "source": [
        "plt.figure(figsize=(12,10))\n",
        "sns.set(style=\"darkgrid\")\n",
        "ax = sns.countplot(x=\"rating\", data=netflix_df, palette=('Yellow','Blue'), order=netflix_df['rating'].value_counts().index[0:15])"
      ],
      "execution_count": 37,
      "outputs": [
        {
          "output_type": "display_data",
          "data": {
            "image/png": "[encoded data removed]",
            "text/plain": [
              "<Figure size 864x720 with 1 Axes>"
            ]
          },
          "metadata": {
            "needs_background": "light"
          }
        }
      ]
    },
    {
      "cell_type": "markdown",
      "metadata": {
        "id": "oXZ1OXm4BQyE"
      },
      "source": [
        "**A maior contagem de filmes é feita com a classificação 'TV-MA'. \"TV-MA\" é uma classificação atribuída pelas Diretrizes Parentais de TV a um programa de televisão projetado apenas para o público adulto.**\n",
        "\n",
        "**O segundo maior é a sigla 'TV-14' para conteúdo que pode ser impróprio para crianças menores de 14 anos.**\n",
        "\n",
        "**A terceira maior é a muito popular classificação 'R'. Um filme classificado como R é um filme que foi avaliado como tendo material que pode ser impróprio para crianças com menos de 17 anos pela Motion Picture Association of America.**\n",
        "\n",
        "**O crescimento do número de filmes no netflix é muito maior do que o de programas de TV**\n"
      ]
    },
    {
      "cell_type": "code",
      "metadata": {
        "colab": {
          "base_uri": "https://localhost:8080/",
          "height": 552
        },
        "id": "QpJ_o5tV3Tmb",
        "outputId": "db19238c-f327-4349-bb88-9d252c91fc41"
      },
      "source": [
        "order =  ['G', 'TV-Y', 'TV-G', 'PG', 'TV-Y7', 'TV-Y7-FV', 'TV-PG', 'PG-13', 'TV-14', 'R', 'NC-17', 'TV-MA']\n",
        "plt.figure(figsize=(15,7))\n",
        "g = sns.countplot(netflix_df.rating, hue=netflix_df.type, order=order, palette=('Yellow','Blue'));\n",
        "plt.title(\"Ratings for Movies & TV Shows\")\n",
        "plt.xlabel(\"Rating\")\n",
        "plt.ylabel(\"Total Count\")\n",
        "plt.show()"
      ],
      "execution_count": 38,
      "outputs": [
        {
          "output_type": "stream",
          "name": "stderr",
          "text": [
            "/usr/local/lib/python3.7/dist-packages/seaborn/_decorators.py:43: FutureWarning:\n",
            "\n",
            "Pass the following variable as a keyword arg: x. From version 0.12, the only valid positional argument will be `data`, and passing other arguments without an explicit keyword will result in an error or misinterpretation.\n",
            "\n"
          ]
        },
        {
          "output_type": "display_data",
          "data": {
            "image/png": "[encoded data removed]",
            "text/plain": [
              "<Figure size 1080x504 with 1 Axes>"
            ]
          },
          "metadata": {}
        }
      ]
    },
    {
      "cell_type": "code",
      "metadata": {
        "colab": {
          "base_uri": "https://localhost:8080/",
          "height": 511
        },
        "id": "HWE2udVp3_Ye",
        "outputId": "8a12658f-09d3-44c2-d5ec-ae1554b3bdf5"
      },
      "source": [
        "fig, ax = plt.subplots(1,2, figsize=(19, 5))\n",
        "g1 = sns.countplot(netflix_df.rating, order=order,palette=('Yellow','Blue'), ax=ax[0]);\n",
        "g1.set_title(\"Ratings for Movies\")\n",
        "g1.set_xlabel(\"Rating\")\n",
        "g1.set_ylabel(\"Total Count\")\n",
        "g2 = sns.countplot(netflix_df.rating, order=order,palette=('Yellow','Blue'), ax=ax[1]);\n",
        "g2.set(yticks=np.arange(0,1600,200))\n",
        "g2.set_title(\"Ratings for TV Shows\")\n",
        "g2.set_xlabel(\"Rating\")\n",
        "g2.set_ylabel(\"Total Count\")\n",
        "fig.show()"
      ],
      "execution_count": 39,
      "outputs": [
        {
          "output_type": "stream",
          "name": "stderr",
          "text": [
            "/usr/local/lib/python3.7/dist-packages/seaborn/_decorators.py:43: FutureWarning:\n",
            "\n",
            "Pass the following variable as a keyword arg: x. From version 0.12, the only valid positional argument will be `data`, and passing other arguments without an explicit keyword will result in an error or misinterpretation.\n",
            "\n",
            "/usr/local/lib/python3.7/dist-packages/seaborn/_decorators.py:43: FutureWarning:\n",
            "\n",
            "Pass the following variable as a keyword arg: x. From version 0.12, the only valid positional argument will be `data`, and passing other arguments without an explicit keyword will result in an error or misinterpretation.\n",
            "\n"
          ]
        },
        {
          "output_type": "display_data",
          "data": {
            "image/png": "[encoded data removed]",
            "text/plain": [
              "<Figure size 1368x360 with 2 Axes>"
            ]
          },
          "metadata": {}
        }
      ]
    },
    {
      "cell_type": "markdown",
      "metadata": {
        "id": "eZ__yX_yCBui"
      },
      "source": [
        "**P: Quem são os 10 principais atores da Netflix?**"
      ]
    },
    {
      "cell_type": "code",
      "metadata": {
        "colab": {
          "base_uri": "https://localhost:8080/",
          "height": 714
        },
        "id": "viBJFuzWBTlD",
        "outputId": "e15d8f00-7a16-4275-d15c-435d0b477b90"
      },
      "source": [
        "tv_cast = netflix_df[netflix_df[\"cast\"]==\"Movie\"]\n",
        "casttv = tv_cast[\"cast\"].value_counts()[:5]\n",
        "cast_tv = pd.DataFrame(directortv)\n",
        "cast_tv[:10].plot(kind=\"bar\", figsize=(15,10),color='blue')\n",
        "plt.title(\"10 principais atores da Netflix\")"
      ],
      "execution_count": 40,
      "outputs": [
        {
          "output_type": "execute_result",
          "data": {
            "text/plain": [
              "Text(0.5, 1.0, '10 principais atores da Netflix')"
            ]
          },
          "metadata": {},
          "execution_count": 40
        },
        {
          "output_type": "display_data",
          "data": {
            "image/png": "[encoded data removed]",
            "text/plain": [
              "<Figure size 1080x720 with 1 Axes>"
            ]
          },
          "metadata": {}
        }
      ]
    },
    {
      "cell_type": "markdown",
      "metadata": {
        "id": "zovSRUfoDArG"
      },
      "source": [
        "P: Quem são os 10 principais países contribuintes da Netflix?"
      ]
    },
    {
      "cell_type": "code",
      "metadata": {
        "colab": {
          "base_uri": "https://localhost:8080/",
          "height": 573
        },
        "id": "-TbPVLk7DB8r",
        "outputId": "0ebabba3-e2ea-4afe-9109-76845b1e14ac"
      },
      "source": [
        "filtered_countries = netflix_df.set_index('title').country.str.split(', ', expand=True).stack().reset_index(level=1, drop=True);\n",
        "filtered_countries = filtered_countries[filtered_countries != 'Country Unavailable']\n",
        "plt.figure(figsize=(7,9))\n",
        "g = sns.countplot(y = filtered_countries, order=filtered_countries.value_counts().index[:15])\n",
        "plt.title('Os 15 Paises que mais contribuiram')\n",
        "plt.xlabel('Titulo')\n",
        "plt.ylabel('country')\n",
        "plt.show()"
      ],
      "execution_count": 41,
      "outputs": [
        {
          "output_type": "display_data",
          "data": {
            "image/png": "[encoded data removed]",
            "text/plain": [
              "<Figure size 504x648 with 1 Axes>"
            ]
          },
          "metadata": {}
        }
      ]
    },
    {
      "cell_type": "markdown",
      "metadata": {
        "id": "NK3BjQtA2l8j"
      },
      "source": [
        "# EFETUANDO A TRADUÇÃO DAS COLUNAS"
      ]
    },
    {
      "cell_type": "code",
      "metadata": {
        "id": "fjpoxkCzvdL7"
      },
      "source": [
        "netflix_df = netflix_df.rename({\"show_id\":\"id_programa\",\"type\":\"tipo\",\"title\":\"titulo\",\"director\":\"diretor\",\"cast\":\"elenco\",\"country\":\"pais\",\"date_added\":\"data_adicionada\",\"release_year\":\"ano_lancamento\",\"rating\":\"canal\",\"duration\":\"duracao\",\"listed_in\":\"listado_como\",\"description\":\"descricao\"}, axis='columns')"
      ],
      "execution_count": 74,
      "outputs": []
    },
    {
      "cell_type": "code",
      "metadata": {
        "colab": {
          "base_uri": "https://localhost:8080/",
          "height": 827
        },
        "id": "aTtrguHSvgO0",
        "outputId": "121f1ccc-ed2b-49dc-e7cf-f89e34a77651"
      },
      "source": [
        "netflix_df"
      ],
      "execution_count": 75,
      "outputs": [
        {
          "output_type": "execute_result",
          "data": {
            "text/html": [
              "<div>\n",
              "<style scoped>\n",
              "    .dataframe tbody tr th:only-of-type {\n",
              "        vertical-align: middle;\n",
              "    }\n",
              "\n",
              "    .dataframe tbody tr th {\n",
              "        vertical-align: top;\n",
              "    }\n",
              "\n",
              "    .dataframe thead th {\n",
              "        text-align: right;\n",
              "    }\n",
              "</style>\n",
              "<table border=\"1\" class=\"dataframe\">\n",
              "  <thead>\n",
              "    <tr style=\"text-align: right;\">\n",
              "      <th></th>\n",
              "      <th>id_programa</th>\n",
              "      <th>tipo</th>\n",
              "      <th>titulo</th>\n",
              "      <th>diretor</th>\n",
              "      <th>elenco</th>\n",
              "      <th>pais</th>\n",
              "      <th>data_adicionada</th>\n",
              "      <th>ano_lancamento</th>\n",
              "      <th>canal</th>\n",
              "      <th>duracao</th>\n",
              "      <th>listado_como</th>\n",
              "      <th>descricao</th>\n",
              "    </tr>\n",
              "  </thead>\n",
              "  <tbody>\n",
              "    <tr>\n",
              "      <th>0</th>\n",
              "      <td>s1</td>\n",
              "      <td>Movie</td>\n",
              "      <td>Dick Johnson Is Dead</td>\n",
              "      <td>Kirsten Johnson</td>\n",
              "      <td>NaN</td>\n",
              "      <td>United States</td>\n",
              "      <td>September 25, 2021</td>\n",
              "      <td>2020</td>\n",
              "      <td>PG-13</td>\n",
              "      <td>90 min</td>\n",
              "      <td>Documentaries</td>\n",
              "      <td>As her father nears the end of his life, filmm...</td>\n",
              "    </tr>\n",
              "    <tr>\n",
              "      <th>1</th>\n",
              "      <td>s2</td>\n",
              "      <td>TV Show</td>\n",
              "      <td>Blood &amp; Water</td>\n",
              "      <td>NaN</td>\n",
              "      <td>Ama Qamata, Khosi Ngema, Gail Mabalane, Thaban...</td>\n",
              "      <td>South Africa</td>\n",
              "      <td>September 24, 2021</td>\n",
              "      <td>2021</td>\n",
              "      <td>TV-MA</td>\n",
              "      <td>2 Seasons</td>\n",
              "      <td>International TV Shows, TV Dramas, TV Mysteries</td>\n",
              "      <td>After crossing paths at a party, a Cape Town t...</td>\n",
              "    </tr>\n",
              "    <tr>\n",
              "      <th>2</th>\n",
              "      <td>s3</td>\n",
              "      <td>TV Show</td>\n",
              "      <td>Ganglands</td>\n",
              "      <td>Julien Leclercq</td>\n",
              "      <td>Sami Bouajila, Tracy Gotoas, Samuel Jouy, Nabi...</td>\n",
              "      <td>NaN</td>\n",
              "      <td>September 24, 2021</td>\n",
              "      <td>2021</td>\n",
              "      <td>TV-MA</td>\n",
              "      <td>1 Season</td>\n",
              "      <td>Crime TV Shows, International TV Shows, TV Act...</td>\n",
              "      <td>To protect his family from a powerful drug lor...</td>\n",
              "    </tr>\n",
              "    <tr>\n",
              "      <th>3</th>\n",
              "      <td>s4</td>\n",
              "      <td>TV Show</td>\n",
              "      <td>Jailbirds New Orleans</td>\n",
              "      <td>NaN</td>\n",
              "      <td>NaN</td>\n",
              "      <td>NaN</td>\n",
              "      <td>September 24, 2021</td>\n",
              "      <td>2021</td>\n",
              "      <td>TV-MA</td>\n",
              "      <td>1 Season</td>\n",
              "      <td>Docuseries, Reality TV</td>\n",
              "      <td>Feuds, flirtations and toilet talk go down amo...</td>\n",
              "    </tr>\n",
              "    <tr>\n",
              "      <th>4</th>\n",
              "      <td>s5</td>\n",
              "      <td>TV Show</td>\n",
              "      <td>Kota Factory</td>\n",
              "      <td>NaN</td>\n",
              "      <td>Mayur More, Jitendra Kumar, Ranjan Raj, Alam K...</td>\n",
              "      <td>India</td>\n",
              "      <td>September 24, 2021</td>\n",
              "      <td>2021</td>\n",
              "      <td>TV-MA</td>\n",
              "      <td>2 Seasons</td>\n",
              "      <td>International TV Shows, Romantic TV Shows, TV ...</td>\n",
              "      <td>In a city of coaching centers known to train I...</td>\n",
              "    </tr>\n",
              "    <tr>\n",
              "      <th>...</th>\n",
              "      <td>...</td>\n",
              "      <td>...</td>\n",
              "      <td>...</td>\n",
              "      <td>...</td>\n",
              "      <td>...</td>\n",
              "      <td>...</td>\n",
              "      <td>...</td>\n",
              "      <td>...</td>\n",
              "      <td>...</td>\n",
              "      <td>...</td>\n",
              "      <td>...</td>\n",
              "      <td>...</td>\n",
              "    </tr>\n",
              "    <tr>\n",
              "      <th>8802</th>\n",
              "      <td>s8803</td>\n",
              "      <td>Movie</td>\n",
              "      <td>Zodiac</td>\n",
              "      <td>David Fincher</td>\n",
              "      <td>Mark Ruffalo, Jake Gyllenhaal, Robert Downey J...</td>\n",
              "      <td>United States</td>\n",
              "      <td>November 20, 2019</td>\n",
              "      <td>2007</td>\n",
              "      <td>R</td>\n",
              "      <td>158 min</td>\n",
              "      <td>Cult Movies, Dramas, Thrillers</td>\n",
              "      <td>A political cartoonist, a crime reporter and a...</td>\n",
              "    </tr>\n",
              "    <tr>\n",
              "      <th>8803</th>\n",
              "      <td>s8804</td>\n",
              "      <td>TV Show</td>\n",
              "      <td>Zombie Dumb</td>\n",
              "      <td>NaN</td>\n",
              "      <td>NaN</td>\n",
              "      <td>NaN</td>\n",
              "      <td>July 1, 2019</td>\n",
              "      <td>2018</td>\n",
              "      <td>TV-Y7</td>\n",
              "      <td>2 Seasons</td>\n",
              "      <td>Kids' TV, Korean TV Shows, TV Comedies</td>\n",
              "      <td>While living alone in a spooky town, a young g...</td>\n",
              "    </tr>\n",
              "    <tr>\n",
              "      <th>8804</th>\n",
              "      <td>s8805</td>\n",
              "      <td>Movie</td>\n",
              "      <td>Zombieland</td>\n",
              "      <td>Ruben Fleischer</td>\n",
              "      <td>Jesse Eisenberg, Woody Harrelson, Emma Stone, ...</td>\n",
              "      <td>United States</td>\n",
              "      <td>November 1, 2019</td>\n",
              "      <td>2009</td>\n",
              "      <td>R</td>\n",
              "      <td>88 min</td>\n",
              "      <td>Comedies, Horror Movies</td>\n",
              "      <td>Looking to survive in a world taken over by zo...</td>\n",
              "    </tr>\n",
              "    <tr>\n",
              "      <th>8805</th>\n",
              "      <td>s8806</td>\n",
              "      <td>Movie</td>\n",
              "      <td>Zoom</td>\n",
              "      <td>Peter Hewitt</td>\n",
              "      <td>Tim Allen, Courteney Cox, Chevy Chase, Kate Ma...</td>\n",
              "      <td>United States</td>\n",
              "      <td>January 11, 2020</td>\n",
              "      <td>2006</td>\n",
              "      <td>PG</td>\n",
              "      <td>88 min</td>\n",
              "      <td>Children &amp; Family Movies, Comedies</td>\n",
              "      <td>Dragged from civilian life, a former superhero...</td>\n",
              "    </tr>\n",
              "    <tr>\n",
              "      <th>8806</th>\n",
              "      <td>s8807</td>\n",
              "      <td>Movie</td>\n",
              "      <td>Zubaan</td>\n",
              "      <td>Mozez Singh</td>\n",
              "      <td>Vicky Kaushal, Sarah-Jane Dias, Raaghav Chanan...</td>\n",
              "      <td>India</td>\n",
              "      <td>March 2, 2019</td>\n",
              "      <td>2015</td>\n",
              "      <td>TV-14</td>\n",
              "      <td>111 min</td>\n",
              "      <td>Dramas, International Movies, Music &amp; Musicals</td>\n",
              "      <td>A scrappy but poor boy worms his way into a ty...</td>\n",
              "    </tr>\n",
              "  </tbody>\n",
              "</table>\n",
              "<p>8807 rows × 12 columns</p>\n",
              "</div>"
            ],
            "text/plain": [
              "     id_programa  ...                                          descricao\n",
              "0             s1  ...  As her father nears the end of his life, filmm...\n",
              "1             s2  ...  After crossing paths at a party, a Cape Town t...\n",
              "2             s3  ...  To protect his family from a powerful drug lor...\n",
              "3             s4  ...  Feuds, flirtations and toilet talk go down amo...\n",
              "4             s5  ...  In a city of coaching centers known to train I...\n",
              "...          ...  ...                                                ...\n",
              "8802       s8803  ...  A political cartoonist, a crime reporter and a...\n",
              "8803       s8804  ...  While living alone in a spooky town, a young g...\n",
              "8804       s8805  ...  Looking to survive in a world taken over by zo...\n",
              "8805       s8806  ...  Dragged from civilian life, a former superhero...\n",
              "8806       s8807  ...  A scrappy but poor boy worms his way into a ty...\n",
              "\n",
              "[8807 rows x 12 columns]"
            ]
          },
          "metadata": {},
          "execution_count": 75
        }
      ]
    },
    {
      "cell_type": "code",
      "metadata": {
        "id": "Fazv2VYAuyxH"
      },
      "source": [
        "netflix_df['pais'] = netflix_df['pais'].fillna(netflix_df['pais'].mode()[0])\n",
        "netflix_df['elenco'].replace(np.nan,'No data',inplace=True)\n",
        "netflix_df['diretor'].replace(np.nan,'No data',inplace=True)\n",
        "netflix_df.dropna(inplace=True)\n",
        "netflix_df.drop_duplicates(inplace=True)"
      ],
      "execution_count": 77,
      "outputs": []
    },
    {
      "cell_type": "code",
      "metadata": {
        "colab": {
          "base_uri": "https://localhost:8080/"
        },
        "id": "eOn7vvLBvZjs",
        "outputId": "2bbfcdbd-b84f-4b0b-92f7-6e93acff5d40"
      },
      "source": [
        "netflix_df.isnull().any()"
      ],
      "execution_count": 78,
      "outputs": [
        {
          "output_type": "execute_result",
          "data": {
            "text/plain": [
              "id_programa        False\n",
              "tipo               False\n",
              "titulo             False\n",
              "diretor            False\n",
              "elenco             False\n",
              "pais               False\n",
              "data_adicionada    False\n",
              "ano_lancamento     False\n",
              "canal              False\n",
              "duracao            False\n",
              "listado_como       False\n",
              "descricao          False\n",
              "dtype: bool"
            ]
          },
          "metadata": {},
          "execution_count": 78
        }
      ]
    },
    {
      "cell_type": "code",
      "metadata": {
        "colab": {
          "base_uri": "https://localhost:8080/",
          "height": 835
        },
        "id": "30-iDTC9vbwl",
        "outputId": "9faabeaa-f94f-488b-fb0a-e59335b88004"
      },
      "source": [
        "netflix_df.head(10)"
      ],
      "execution_count": 79,
      "outputs": [
        {
          "output_type": "execute_result",
          "data": {
            "text/html": [
              "<div>\n",
              "<style scoped>\n",
              "    .dataframe tbody tr th:only-of-type {\n",
              "        vertical-align: middle;\n",
              "    }\n",
              "\n",
              "    .dataframe tbody tr th {\n",
              "        vertical-align: top;\n",
              "    }\n",
              "\n",
              "    .dataframe thead th {\n",
              "        text-align: right;\n",
              "    }\n",
              "</style>\n",
              "<table border=\"1\" class=\"dataframe\">\n",
              "  <thead>\n",
              "    <tr style=\"text-align: right;\">\n",
              "      <th></th>\n",
              "      <th>id_programa</th>\n",
              "      <th>tipo</th>\n",
              "      <th>titulo</th>\n",
              "      <th>diretor</th>\n",
              "      <th>elenco</th>\n",
              "      <th>pais</th>\n",
              "      <th>data_adicionada</th>\n",
              "      <th>ano_lancamento</th>\n",
              "      <th>canal</th>\n",
              "      <th>duracao</th>\n",
              "      <th>listado_como</th>\n",
              "      <th>descricao</th>\n",
              "    </tr>\n",
              "  </thead>\n",
              "  <tbody>\n",
              "    <tr>\n",
              "      <th>0</th>\n",
              "      <td>s1</td>\n",
              "      <td>Movie</td>\n",
              "      <td>Dick Johnson Is Dead</td>\n",
              "      <td>Kirsten Johnson</td>\n",
              "      <td>No data</td>\n",
              "      <td>United States</td>\n",
              "      <td>September 25, 2021</td>\n",
              "      <td>2020</td>\n",
              "      <td>PG-13</td>\n",
              "      <td>90 min</td>\n",
              "      <td>Documentaries</td>\n",
              "      <td>As her father nears the end of his life, filmm...</td>\n",
              "    </tr>\n",
              "    <tr>\n",
              "      <th>1</th>\n",
              "      <td>s2</td>\n",
              "      <td>TV Show</td>\n",
              "      <td>Blood &amp; Water</td>\n",
              "      <td>No data</td>\n",
              "      <td>Ama Qamata, Khosi Ngema, Gail Mabalane, Thaban...</td>\n",
              "      <td>South Africa</td>\n",
              "      <td>September 24, 2021</td>\n",
              "      <td>2021</td>\n",
              "      <td>TV-MA</td>\n",
              "      <td>2 Seasons</td>\n",
              "      <td>International TV Shows, TV Dramas, TV Mysteries</td>\n",
              "      <td>After crossing paths at a party, a Cape Town t...</td>\n",
              "    </tr>\n",
              "    <tr>\n",
              "      <th>2</th>\n",
              "      <td>s3</td>\n",
              "      <td>TV Show</td>\n",
              "      <td>Ganglands</td>\n",
              "      <td>Julien Leclercq</td>\n",
              "      <td>Sami Bouajila, Tracy Gotoas, Samuel Jouy, Nabi...</td>\n",
              "      <td>United States</td>\n",
              "      <td>September 24, 2021</td>\n",
              "      <td>2021</td>\n",
              "      <td>TV-MA</td>\n",
              "      <td>1 Season</td>\n",
              "      <td>Crime TV Shows, International TV Shows, TV Act...</td>\n",
              "      <td>To protect his family from a powerful drug lor...</td>\n",
              "    </tr>\n",
              "    <tr>\n",
              "      <th>3</th>\n",
              "      <td>s4</td>\n",
              "      <td>TV Show</td>\n",
              "      <td>Jailbirds New Orleans</td>\n",
              "      <td>No data</td>\n",
              "      <td>No data</td>\n",
              "      <td>United States</td>\n",
              "      <td>September 24, 2021</td>\n",
              "      <td>2021</td>\n",
              "      <td>TV-MA</td>\n",
              "      <td>1 Season</td>\n",
              "      <td>Docuseries, Reality TV</td>\n",
              "      <td>Feuds, flirtations and toilet talk go down amo...</td>\n",
              "    </tr>\n",
              "    <tr>\n",
              "      <th>4</th>\n",
              "      <td>s5</td>\n",
              "      <td>TV Show</td>\n",
              "      <td>Kota Factory</td>\n",
              "      <td>No data</td>\n",
              "      <td>Mayur More, Jitendra Kumar, Ranjan Raj, Alam K...</td>\n",
              "      <td>India</td>\n",
              "      <td>September 24, 2021</td>\n",
              "      <td>2021</td>\n",
              "      <td>TV-MA</td>\n",
              "      <td>2 Seasons</td>\n",
              "      <td>International TV Shows, Romantic TV Shows, TV ...</td>\n",
              "      <td>In a city of coaching centers known to train I...</td>\n",
              "    </tr>\n",
              "    <tr>\n",
              "      <th>5</th>\n",
              "      <td>s6</td>\n",
              "      <td>TV Show</td>\n",
              "      <td>Midnight Mass</td>\n",
              "      <td>Mike Flanagan</td>\n",
              "      <td>Kate Siegel, Zach Gilford, Hamish Linklater, H...</td>\n",
              "      <td>United States</td>\n",
              "      <td>September 24, 2021</td>\n",
              "      <td>2021</td>\n",
              "      <td>TV-MA</td>\n",
              "      <td>1 Season</td>\n",
              "      <td>TV Dramas, TV Horror, TV Mysteries</td>\n",
              "      <td>The arrival of a charismatic young priest brin...</td>\n",
              "    </tr>\n",
              "    <tr>\n",
              "      <th>6</th>\n",
              "      <td>s7</td>\n",
              "      <td>Movie</td>\n",
              "      <td>My Little Pony: A New Generation</td>\n",
              "      <td>Robert Cullen, José Luis Ucha</td>\n",
              "      <td>Vanessa Hudgens, Kimiko Glenn, James Marsden, ...</td>\n",
              "      <td>United States</td>\n",
              "      <td>September 24, 2021</td>\n",
              "      <td>2021</td>\n",
              "      <td>PG</td>\n",
              "      <td>91 min</td>\n",
              "      <td>Children &amp; Family Movies</td>\n",
              "      <td>Equestria's divided. But a bright-eyed hero be...</td>\n",
              "    </tr>\n",
              "    <tr>\n",
              "      <th>7</th>\n",
              "      <td>s8</td>\n",
              "      <td>Movie</td>\n",
              "      <td>Sankofa</td>\n",
              "      <td>Haile Gerima</td>\n",
              "      <td>Kofi Ghanaba, Oyafunmike Ogunlano, Alexandra D...</td>\n",
              "      <td>United States, Ghana, Burkina Faso, United Kin...</td>\n",
              "      <td>September 24, 2021</td>\n",
              "      <td>1993</td>\n",
              "      <td>TV-MA</td>\n",
              "      <td>125 min</td>\n",
              "      <td>Dramas, Independent Movies, International Movies</td>\n",
              "      <td>On a photo shoot in Ghana, an American model s...</td>\n",
              "    </tr>\n",
              "    <tr>\n",
              "      <th>8</th>\n",
              "      <td>s9</td>\n",
              "      <td>TV Show</td>\n",
              "      <td>The Great British Baking Show</td>\n",
              "      <td>Andy Devonshire</td>\n",
              "      <td>Mel Giedroyc, Sue Perkins, Mary Berry, Paul Ho...</td>\n",
              "      <td>United Kingdom</td>\n",
              "      <td>September 24, 2021</td>\n",
              "      <td>2021</td>\n",
              "      <td>TV-14</td>\n",
              "      <td>9 Seasons</td>\n",
              "      <td>British TV Shows, Reality TV</td>\n",
              "      <td>A talented batch of amateur bakers face off in...</td>\n",
              "    </tr>\n",
              "    <tr>\n",
              "      <th>9</th>\n",
              "      <td>s10</td>\n",
              "      <td>Movie</td>\n",
              "      <td>The Starling</td>\n",
              "      <td>Theodore Melfi</td>\n",
              "      <td>Melissa McCarthy, Chris O'Dowd, Kevin Kline, T...</td>\n",
              "      <td>United States</td>\n",
              "      <td>September 24, 2021</td>\n",
              "      <td>2021</td>\n",
              "      <td>PG-13</td>\n",
              "      <td>104 min</td>\n",
              "      <td>Comedies, Dramas</td>\n",
              "      <td>A woman adjusting to life after a loss contend...</td>\n",
              "    </tr>\n",
              "  </tbody>\n",
              "</table>\n",
              "</div>"
            ],
            "text/plain": [
              "  id_programa  ...                                          descricao\n",
              "0          s1  ...  As her father nears the end of his life, filmm...\n",
              "1          s2  ...  After crossing paths at a party, a Cape Town t...\n",
              "2          s3  ...  To protect his family from a powerful drug lor...\n",
              "3          s4  ...  Feuds, flirtations and toilet talk go down amo...\n",
              "4          s5  ...  In a city of coaching centers known to train I...\n",
              "5          s6  ...  The arrival of a charismatic young priest brin...\n",
              "6          s7  ...  Equestria's divided. But a bright-eyed hero be...\n",
              "7          s8  ...  On a photo shoot in Ghana, an American model s...\n",
              "8          s9  ...  A talented batch of amateur bakers face off in...\n",
              "9         s10  ...  A woman adjusting to life after a loss contend...\n",
              "\n",
              "[10 rows x 12 columns]"
            ]
          },
          "metadata": {},
          "execution_count": 79
        }
      ]
    },
    {
      "cell_type": "markdown",
      "metadata": {
        "id": "uOy5cHOS5lXk"
      },
      "source": [
        "Como podemos observar nesta analise; A Netflix é muito popular entre várias classes sociais e, como todos sabemos, sua popularidade aumentou durante a pandemia de Covid-19.\n",
        "\n",
        "Referencia: https://www.kaggle.com/netflix-shows"
      ]
    },
    {
      "cell_type": "markdown",
      "metadata": {
        "id": "VwgapQOWm9B-"
      },
      "source": [
        "# Parte 2 - Operações usando PySpark - OBS: Apenas iniciei a parte de PySpark importando as bibliotecas, efetuando a instalação do pyspark, efetuando a leitura do CSV, criação do DataFrame via Pandas x StrucType e efetuando 1 filtro, ordenando e agrupando o mesmo: title x duration"
      ]
    },
    {
      "cell_type": "markdown",
      "metadata": {
        "id": "alFAWgTpnb95"
      },
      "source": [
        "**Instalação biblioteca necessárioas**"
      ]
    },
    {
      "cell_type": "code",
      "metadata": {
        "colab": {
          "base_uri": "https://localhost:8080/"
        },
        "id": "XErxHKAmnKej",
        "outputId": "289b0c81-55db-4655-8481-24fbc109546c"
      },
      "source": [
        "!pip install pyspark\n",
        "from pyspark.sql import SparkSession\n",
        "from pyspark.sql.functions import *\n",
        "from pyspark.sql.types import *\n",
        "from pyspark.sql.window import Window as W"
      ],
      "execution_count": 121,
      "outputs": [
        {
          "output_type": "stream",
          "name": "stdout",
          "text": [
            "Requirement already satisfied: pyspark in /usr/local/lib/python3.7/dist-packages (3.2.0)\n",
            "Requirement already satisfied: py4j==0.10.9.2 in /usr/local/lib/python3.7/dist-packages (from pyspark) (0.10.9.2)\n"
          ]
        }
      ]
    },
    {
      "cell_type": "code",
      "metadata": {
        "id": "Ft76k481n-PX"
      },
      "source": [
        "spark = SparkSession \\\n",
        "        .builder \\\n",
        "        .config('/content/netflix_titles.csv') \\\n",
        "        .getOrCreate()"
      ],
      "execution_count": 122,
      "outputs": []
    },
    {
      "cell_type": "code",
      "metadata": {
        "id": "NBZLCnqrxbgU"
      },
      "source": [
        "netflix_df = pd.read_csv(\"/content/netflix_titles.csv\")"
      ],
      "execution_count": 123,
      "outputs": []
    },
    {
      "cell_type": "markdown",
      "metadata": {
        "id": "AeIRKlj48Naq"
      },
      "source": [
        "# Criação do DataFrame"
      ]
    },
    {
      "cell_type": "markdown",
      "metadata": {
        "id": "sKvn4qfd8apb"
      },
      "source": [
        "**Atraves do Pandas, utilizando o StrucType.**"
      ]
    },
    {
      "cell_type": "code",
      "metadata": {
        "id": "Efvae-hB8eCQ"
      },
      "source": [
        "netflixspark_df = spark.createDataFrame(netflix_df,\n",
        "                              StructType([\n",
        "                                StructField('id_programa', StringType()),\n",
        "                                StructField('tipo', StringType()),\n",
        "                                StructField('titulo', StringType()),\n",
        "                                StructField('diretor', StringType()),\n",
        "                                StructField('elenco', StringType()),\n",
        "                                StructField('pais', StringType()),\n",
        "                                StructField('data_adicionada', StringType()),\n",
        "                                StructField('ano_lancamento', ShortType()),\n",
        "                                StructField('canal', StringType()),\n",
        "                                StructField('duracao', StringType()),\n",
        "                                StructField('listado_como', StringType()),\n",
        "                                StructField('descricao', StringType())\n",
        "                              ]))   "
      ],
      "execution_count": 124,
      "outputs": []
    },
    {
      "cell_type": "markdown",
      "metadata": {
        "id": "9C2olm9qyStI"
      },
      "source": [
        "# Alteração do nome de 2 colunas"
      ]
    },
    {
      "cell_type": "code",
      "metadata": {
        "id": "yK88l6P8yXsJ"
      },
      "source": [
        "netflixspark_df = netflixspark_df.withColumnRenamed('listado_como', 'listados_como').withColumnRenamed('descricao', 'descricoes')"
      ],
      "execution_count": 125,
      "outputs": []
    },
    {
      "cell_type": "markdown",
      "metadata": {
        "id": "Q7hjIt4H7fdK"
      },
      "source": [
        "**1. Diretor_Elenco: Veirifcação dos diretores x respectivos elencos**"
      ]
    },
    {
      "cell_type": "code",
      "metadata": {
        "id": "pKNNeqr-9CCf"
      },
      "source": [
        "##netflixspark_df = netflixspark_df.withColumn('Diretor_Elenco', col('diretor') + col('elenco'))"
      ],
      "execution_count": 85,
      "outputs": []
    },
    {
      "cell_type": "markdown",
      "metadata": {
        "id": "LeuvxwZ4IRtA"
      },
      "source": [
        "# Remoção de Colunas"
      ]
    },
    {
      "cell_type": "markdown",
      "metadata": {
        "id": "OkHuDFg8IhcL"
      },
      "source": [
        "Como efetuei a substituição das colunas diretor e elenco por uma única, chamada: Diretor_Elenco. Vamos remover as mesmas."
      ]
    },
    {
      "cell_type": "code",
      "metadata": {
        "id": "jf8gS7kTIXYI"
      },
      "source": [
        "##drop_cols = ['diretor', 'elenco']\n",
        "##netflixspark_df = netflixspark_df.drop(*drop_cols)"
      ],
      "execution_count": 86,
      "outputs": []
    },
    {
      "cell_type": "markdown",
      "metadata": {
        "id": "7NcLNmeM8s3J"
      },
      "source": [
        "# Filtrar, Ordenar e Agrupar"
      ]
    },
    {
      "cell_type": "markdown",
      "metadata": {
        "id": "qDT8t-bv8vXi"
      },
      "source": [
        "**Verificação do Titulo(title) x tempo do filme(duration)!**"
      ]
    },
    {
      "cell_type": "code",
      "metadata": {
        "colab": {
          "base_uri": "https://localhost:8080/"
        },
        "id": "wSybWnVkKAWY",
        "outputId": "cda747d9-0a1e-4f76-ce4c-e644568b3f47"
      },
      "source": [
        "netflixspark_df.select('titulo', 'duracao').filter(col('duracao') >= '60 min').orderBy(col('titulo').asc()).show()"
      ],
      "execution_count": 126,
      "outputs": [
        {
          "output_type": "stream",
          "name": "stdout",
          "text": [
            "+--------------------+-------+\n",
            "|              titulo|duracao|\n",
            "+--------------------+-------+\n",
            "|              #Alive| 99 min|\n",
            "|#AnneFrank - Para...| 95 min|\n",
            "|    #cats_the_mewvie| 90 min|\n",
            "|        #realityhigh| 99 min|\n",
            "|                 '89| 87 min|\n",
            "|            (T)ERROR| 84 min|\n",
            "|    1 Chance 2 Dance| 89 min|\n",
            "| 10 Days in Sun City| 87 min|\n",
            "|      10 jours en or| 97 min|\n",
            "|100 Days Of Solitude| 93 min|\n",
            "|100 Years: One Wo...| 75 min|\n",
            "|     1000 Rupee Note| 89 min|\n",
            "|        12 ROUND GUN| 90 min|\n",
            "|                 122| 95 min|\n",
            "|          13 Cameras| 90 min|\n",
            "|             13 Sins| 93 min|\n",
            "|          14 Cameras| 89 min|\n",
            "|14 Minutes from E...| 84 min|\n",
            "|                 1BR| 90 min|\n",
            "|       1st Summoning| 94 min|\n",
            "+--------------------+-------+\n",
            "only showing top 20 rows\n",
            "\n"
          ]
        }
      ]
    },
    {
      "cell_type": "markdown",
      "metadata": {
        "id": "PJZPCI-8XCCY"
      },
      "source": [
        "Verificação do(s) Titulo(title) x Ano de Lançamento(ano_lancamento), durante a pandemia!"
      ]
    },
    {
      "cell_type": "code",
      "metadata": {
        "colab": {
          "base_uri": "https://localhost:8080/"
        },
        "id": "xUwUXUy9XbHj",
        "outputId": "a368d0fa-9695-4e39-db6c-fb36281850e1"
      },
      "source": [
        "netflixspark_df.select('titulo', 'ano_lancamento').filter(col('ano_lancamento') >= '2018').orderBy(col('titulo').asc()).show()"
      ],
      "execution_count": 127,
      "outputs": [
        {
          "output_type": "stream",
          "name": "stdout",
          "text": [
            "+--------------------+--------------+\n",
            "|              titulo|ano_lancamento|\n",
            "+--------------------+--------------+\n",
            "|              #Alive|          2020|\n",
            "|#AnneFrank - Para...|          2019|\n",
            "|   #FriendButMarried|          2018|\n",
            "| #FriendButMarried 2|          2020|\n",
            "|               #Roxy|          2018|\n",
            "|            #blackAF|          2020|\n",
            "|    #cats_the_mewvie|          2020|\n",
            "|            (Un)Well|          2020|\n",
            "|  100 Days My Prince|          2018|\n",
            "|100 Days Of Solitude|          2018|\n",
            "|          100 Humans|          2020|\n",
            "|          100% Halal|          2020|\n",
            "|                 122|          2019|\n",
            "|      13 Reasons Why|          2020|\n",
            "|13 Reasons Why: B...|          2019|\n",
            "|          14 Cameras|          2018|\n",
            "|           15 August|          2019|\n",
            "|              15-Aug|          2019|\n",
            "|         18 Presents|          2020|\n",
            "|                1983|          2018|\n",
            "+--------------------+--------------+\n",
            "only showing top 20 rows\n",
            "\n"
          ]
        }
      ]
    },
    {
      "cell_type": "markdown",
      "metadata": {
        "id": "TP2alETvY7XK"
      },
      "source": [
        "# Window Functions"
      ]
    },
    {
      "cell_type": "markdown",
      "metadata": {
        "id": "Kojjj89pZJ17"
      },
      "source": [
        "Visualização do Titulo x Diretor x Descrição"
      ]
    },
    {
      "cell_type": "code",
      "metadata": {
        "id": "6YYgpi5wbLp7"
      },
      "source": [
        "w0 = W.orderBy(col('ano_lancamento').asc())"
      ],
      "execution_count": 128,
      "outputs": []
    },
    {
      "cell_type": "code",
      "metadata": {
        "colab": {
          "base_uri": "https://localhost:8080/"
        },
        "id": "AOdEeVyIcKRI",
        "outputId": "7b97e570-ee99-422d-b9d5-db6e2c427f81"
      },
      "source": [
        "netflixspark_df.select('ano_lancamento', 'canal').withColumn('Qtd_Lancamento', dense_rank().over(w0)).show()"
      ],
      "execution_count": 129,
      "outputs": [
        {
          "output_type": "stream",
          "name": "stdout",
          "text": [
            "+--------------+-----+--------------+\n",
            "|ano_lancamento|canal|Qtd_Lancamento|\n",
            "+--------------+-----+--------------+\n",
            "|          1925|TV-14|             1|\n",
            "|          1942|TV-14|             2|\n",
            "|          1942|TV-14|             2|\n",
            "|          1943|TV-PG|             3|\n",
            "|          1943|TV-PG|             3|\n",
            "|          1943|TV-PG|             3|\n",
            "|          1944|TV-14|             4|\n",
            "|          1944|TV-PG|             4|\n",
            "|          1944|TV-14|             4|\n",
            "|          1945|TV-MA|             5|\n",
            "|          1945|TV-MA|             5|\n",
            "|          1945|TV-14|             5|\n",
            "|          1945|TV-14|             5|\n",
            "|          1946|TV-14|             6|\n",
            "|          1946|TV-PG|             6|\n",
            "|          1947|TV-PG|             7|\n",
            "|          1954| TV-G|             8|\n",
            "|          1954|TV-14|             8|\n",
            "|          1955|PG-13|             9|\n",
            "|          1955|TV-14|             9|\n",
            "+--------------+-----+--------------+\n",
            "only showing top 20 rows\n",
            "\n"
          ]
        }
      ]
    },
    {
      "cell_type": "code",
      "metadata": {
        "id": "0gq0F2axsJG-"
      },
      "source": [
        "netflixspark_df.coalesce(1).write.format(\"csv\").option('header', True).save('/content/drive/MyDrive/netfli_df_spark1.csv')"
      ],
      "execution_count": 135,
      "outputs": []
    },
    {
      "cell_type": "code",
      "metadata": {
        "colab": {
          "base_uri": "https://localhost:8080/"
        },
        "id": "z4w-Q1BztCK0",
        "outputId": "0a6fbf8b-c3d8-4780-ee6c-72487e6b4eda"
      },
      "source": [
        "from google.colab import drive\n",
        "drive.mount('/content/drive')"
      ],
      "execution_count": 136,
      "outputs": [
        {
          "output_type": "stream",
          "name": "stdout",
          "text": [
            "Drive already mounted at /content/drive; to attempt to forcibly remount, call drive.mount(\"/content/drive\", force_remount=True).\n"
          ]
        }
      ]
    },
    {
      "cell_type": "markdown",
      "metadata": {
        "id": "tUatMtZ1e6UP"
      },
      "source": [
        "# Parte 3 - Nível SparkSQL"
      ]
    },
    {
      "cell_type": "code",
      "metadata": {
        "id": "e9HTU5vvfQ9M"
      },
      "source": [
        "netflidf_sql = (spark\n",
        "                .read.format('csv')\n",
        "                .option('header', True)\n",
        "                .option('inferSchema', True)\n",
        "                .load('/content/drive/MyDrive/netfli_df_spark1.csv')\n",
        "                .createOrReplaceTempView('netflix'))"
      ],
      "execution_count": 138,
      "outputs": []
    },
    {
      "cell_type": "code",
      "metadata": {
        "colab": {
          "base_uri": "https://localhost:8080/"
        },
        "id": "eib9xC5zgJUe",
        "outputId": "44b27060-ee67-4079-effa-126cc01298de"
      },
      "source": [
        "# Print schema\n",
        "spark.sql(\n",
        "    '''\n",
        "    describe netflix\n",
        "    '''\n",
        ").show()"
      ],
      "execution_count": 139,
      "outputs": [
        {
          "output_type": "stream",
          "name": "stdout",
          "text": [
            "+---------------+---------+-------+\n",
            "|       col_name|data_type|comment|\n",
            "+---------------+---------+-------+\n",
            "|    id_programa|   string|   null|\n",
            "|           tipo|   string|   null|\n",
            "|         titulo|   string|   null|\n",
            "|        diretor|   string|   null|\n",
            "|         elenco|   string|   null|\n",
            "|           pais|   string|   null|\n",
            "|data_adicionada|   string|   null|\n",
            "| ano_lancamento|   string|   null|\n",
            "|          canal|   string|   null|\n",
            "|        duracao|   string|   null|\n",
            "|  listados_como|   string|   null|\n",
            "|     descricoes|   string|   null|\n",
            "+---------------+---------+-------+\n",
            "\n"
          ]
        }
      ]
    },
    {
      "cell_type": "code",
      "metadata": {
        "colab": {
          "base_uri": "https://localhost:8080/"
        },
        "id": "wwyO2tCtiY91",
        "outputId": "398229eb-6b39-4348-c8a7-375bfe72aec3"
      },
      "source": [
        "## Consulta 1: - SELECT *\n",
        "## Testando o código selecionando a tabela completa\n",
        "\n",
        "spark.sql(\n",
        "    '''\n",
        "    select *\n",
        "    from netflix\n",
        "    ''').show()"
      ],
      "execution_count": 140,
      "outputs": [
        {
          "output_type": "stream",
          "name": "stdout",
          "text": [
            "+-----------+-------+--------------------+--------------------+--------------------+--------------------+------------------+--------------+-----+---------+--------------------+--------------------+\n",
            "|id_programa|   tipo|              titulo|             diretor|              elenco|                pais|   data_adicionada|ano_lancamento|canal|  duracao|       listados_como|          descricoes|\n",
            "+-----------+-------+--------------------+--------------------+--------------------+--------------------+------------------+--------------+-----+---------+--------------------+--------------------+\n",
            "|         s1|  Movie|Dick Johnson Is Dead|     Kirsten Johnson|                 NaN|       United States|September 25, 2021|          2020|PG-13|   90 min|       Documentaries|As her father nea...|\n",
            "|         s2|TV Show|       Blood & Water|                 NaN|Ama Qamata, Khosi...|        South Africa|September 24, 2021|          2021|TV-MA|2 Seasons|International TV ...|After crossing pa...|\n",
            "|         s3|TV Show|           Ganglands|     Julien Leclercq|Sami Bouajila, Tr...|                 NaN|September 24, 2021|          2021|TV-MA| 1 Season|Crime TV Shows, I...|To protect his fa...|\n",
            "|         s4|TV Show|Jailbirds New Orl...|                 NaN|                 NaN|                 NaN|September 24, 2021|          2021|TV-MA| 1 Season|Docuseries, Reali...|Feuds, flirtation...|\n",
            "|         s5|TV Show|        Kota Factory|                 NaN|Mayur More, Jiten...|               India|September 24, 2021|          2021|TV-MA|2 Seasons|International TV ...|In a city of coac...|\n",
            "|         s6|TV Show|       Midnight Mass|       Mike Flanagan|Kate Siegel, Zach...|                 NaN|September 24, 2021|          2021|TV-MA| 1 Season|TV Dramas, TV Hor...|The arrival of a ...|\n",
            "|         s7|  Movie|My Little Pony: A...|Robert Cullen, Jo...|Vanessa Hudgens, ...|                 NaN|September 24, 2021|          2021|   PG|   91 min|Children & Family...|Equestria's divid...|\n",
            "|         s8|  Movie|             Sankofa|        Haile Gerima|Kofi Ghanaba, Oya...|United States, Gh...|September 24, 2021|          1993|TV-MA|  125 min|Dramas, Independe...|On a photo shoot ...|\n",
            "|         s9|TV Show|The Great British...|     Andy Devonshire|Mel Giedroyc, Sue...|      United Kingdom|September 24, 2021|          2021|TV-14|9 Seasons|British TV Shows,...|A talented batch ...|\n",
            "|        s10|  Movie|        The Starling|      Theodore Melfi|Melissa McCarthy,...|       United States|September 24, 2021|          2021|PG-13|  104 min|    Comedies, Dramas|A woman adjusting...|\n",
            "|        s11|TV Show|Vendetta: Truth, ...|                 NaN|                 NaN|                 NaN|September 24, 2021|          2021|TV-MA| 1 Season|Crime TV Shows, D...|Sicily boasts a b...|\n",
            "|        s12|TV Show|    Bangkok Breaking|   Kongkiat Komesiri|Sukollawat Kanaro...|                 NaN|September 23, 2021|          2021|TV-MA| 1 Season|Crime TV Shows, I...|Struggling to ear...|\n",
            "|        s13|  Movie|        Je Suis Karl| Christian Schwochow|Luna Wedler, Jann...|Germany, Czech Re...|September 23, 2021|          2021|TV-MA|  127 min|Dramas, Internati...|After most of her...|\n",
            "|        s14|  Movie|Confessions of an...|       Bruno Garotti|Klara Castanho, L...|                 NaN|September 22, 2021|          2021|TV-PG|   91 min|Children & Family...|When the clever b...|\n",
            "|        s15|TV Show|Crime Stories: In...|                 NaN|                 NaN|                 NaN|September 22, 2021|          2021|TV-MA| 1 Season|British TV Shows,...|Cameras following...|\n",
            "|        s16|TV Show|   Dear White People|                 NaN|Logan Browning, B...|       United States|September 22, 2021|          2021|TV-MA|4 Seasons|TV Comedies, TV D...|Students of color...|\n",
            "|        s17|  Movie|Europe's Most Dan...|Pedro de Echave G...|                 NaN|                 NaN|September 22, 2021|          2020|TV-MA|   67 min|Documentaries, In...|Declassified docu...|\n",
            "|        s18|TV Show|     Falsa identidad|                 NaN|Luis Ernesto Fran...|              Mexico|September 22, 2021|          2020|TV-MA|2 Seasons|Crime TV Shows, S...|Strangers Diego a...|\n",
            "|        s19|  Movie|           Intrusion|          Adam Salky|Freida Pinto, Log...|                 NaN|September 22, 2021|          2021|TV-14|   94 min|           Thrillers|After a deadly ho...|\n",
            "|        s20|TV Show|              Jaguar|                 NaN|Blanca Suárez, Iv...|                 NaN|September 22, 2021|          2021|TV-MA| 1 Season|International TV ...|In the 1960s, a H...|\n",
            "+-----------+-------+--------------------+--------------------+--------------------+--------------------+------------------+--------------+-----+---------+--------------------+--------------------+\n",
            "only showing top 20 rows\n",
            "\n"
          ]
        }
      ]
    },
    {
      "cell_type": "code",
      "metadata": {
        "colab": {
          "base_uri": "https://localhost:8080/"
        },
        "id": "Z13IArlVkynL",
        "outputId": "ab4a76c3-0de4-4f75-95fc-3740b53338ad"
      },
      "source": [
        "## Consulta 2: - SELECT DISTINCT\n",
        "\n",
        "## Testando o código selecionando a tabela com o distinct\n",
        "\n",
        "spark.sql(\n",
        "    '''\n",
        "    select distinct(id_programa) from netflix\n",
        "    ''').show()"
      ],
      "execution_count": 141,
      "outputs": [
        {
          "output_type": "stream",
          "name": "stdout",
          "text": [
            "+-----------+\n",
            "|id_programa|\n",
            "+-----------+\n",
            "|        s53|\n",
            "|       s137|\n",
            "|       s954|\n",
            "|      s1442|\n",
            "|      s1486|\n",
            "|      s1583|\n",
            "|      s1857|\n",
            "|      s2128|\n",
            "|      s2306|\n",
            "|      s2903|\n",
            "|      s2924|\n",
            "|      s4002|\n",
            "|      s4136|\n",
            "|      s4316|\n",
            "|      s4344|\n",
            "|      s4540|\n",
            "|      s4546|\n",
            "|      s4547|\n",
            "|      s4623|\n",
            "|      s4642|\n",
            "+-----------+\n",
            "only showing top 20 rows\n",
            "\n"
          ]
        }
      ]
    },
    {
      "cell_type": "code",
      "metadata": {
        "colab": {
          "base_uri": "https://localhost:8080/"
        },
        "id": "sGNBX_0RxqE-",
        "outputId": "cb3e7ca5-488f-469b-a0df-3ec2bdf5687f"
      },
      "source": [
        "## Consulta 3: - SELECT WHERE\n",
        "\n",
        "## Testando o código selecionando por titulo 'quando' ano_lancamento for \n",
        "## maior 2019\n",
        "\n",
        "spark.sql(\n",
        "    '''\n",
        "    select distinct(titulo) from netflix\n",
        "    where ano_lancamento > 2019\n",
        "    ''').show()"
      ],
      "execution_count": 142,
      "outputs": [
        {
          "output_type": "stream",
          "name": "stdout",
          "text": [
            "+--------------------+\n",
            "|              titulo|\n",
            "+--------------------+\n",
            "|          Biohackers|\n",
            "|  Legend of Exorcism|\n",
            "|Soy Rada: Serendi...|\n",
            "|Your Name Engrave...|\n",
            "|London Hughes: To...|\n",
            "|          Lenox Hill|\n",
            "|Nisman: The Prose...|\n",
            "|You vs. Wild: Out...|\n",
            "|             Nayattu|\n",
            "|Headspace Guide t...|\n",
            "|     Carmen Sandiego|\n",
            "|           Detention|\n",
            "|          Ainu Mosir|\n",
            "|   Wheels of Fortune|\n",
            "|      13 Reasons Why|\n",
            "|     Feels Like Ishq|\n",
            "|Fear Street Part ...|\n",
            "|       I AM A KILLER|\n",
            "|          Undercover|\n",
            "|The Parisian Agen...|\n",
            "+--------------------+\n",
            "only showing top 20 rows\n",
            "\n"
          ]
        }
      ]
    },
    {
      "cell_type": "code",
      "metadata": {
        "colab": {
          "base_uri": "https://localhost:8080/"
        },
        "id": "4pu3juG51FDq",
        "outputId": "98d0580f-d55e-4e85-d83e-88e33d104d2f"
      },
      "source": [
        "## Query 4:- Select and,or,not/e, ou, não\n",
        "\n",
        "## Testando o código selecionando a tabela completa\n",
        "\n",
        "spark.sql(\n",
        "'''\n",
        "\n",
        "Select \n",
        "distinct(titulo) from netflix\n",
        "where ano_lancamento > 2020 and titulo='Blood & Water' or ano_lancamento < 2021 and titulo='Kota Factory'and not pais= 'India'\n",
        "''').show()"
      ],
      "execution_count": 143,
      "outputs": [
        {
          "output_type": "stream",
          "name": "stdout",
          "text": [
            "+-------------+\n",
            "|       titulo|\n",
            "+-------------+\n",
            "|Blood & Water|\n",
            "+-------------+\n",
            "\n"
          ]
        }
      ]
    },
    {
      "cell_type": "code",
      "metadata": {
        "colab": {
          "base_uri": "https://localhost:8080/"
        },
        "id": "MZFJQCrE3mzF",
        "outputId": "1afe48d8-ef3a-4143-8aaf-3b4654715841"
      },
      "source": [
        "spark.sql(\n",
        "'''\n",
        "\n",
        "Select * from netflix\n",
        "limit 1\n",
        "''').show()"
      ],
      "execution_count": 144,
      "outputs": [
        {
          "output_type": "stream",
          "name": "stdout",
          "text": [
            "+-----------+-----+--------------------+---------------+------+-------------+------------------+--------------+-----+-------+-------------+--------------------+\n",
            "|id_programa| tipo|              titulo|        diretor|elenco|         pais|   data_adicionada|ano_lancamento|canal|duracao|listados_como|          descricoes|\n",
            "+-----------+-----+--------------------+---------------+------+-------------+------------------+--------------+-----+-------+-------------+--------------------+\n",
            "|         s1|Movie|Dick Johnson Is Dead|Kirsten Johnson|   NaN|United States|September 25, 2021|          2020|PG-13| 90 min|Documentaries|As her father nea...|\n",
            "+-----------+-----+--------------------+---------------+------+-------------+------------------+--------------+-----+-------+-------------+--------------------+\n",
            "\n"
          ]
        }
      ]
    },
    {
      "cell_type": "code",
      "metadata": {
        "colab": {
          "base_uri": "https://localhost:8080/"
        },
        "id": "uIjgQoVT7bkV",
        "outputId": "2d718ec5-6eec-471f-d1e7-be09bb19e635"
      },
      "source": [
        "spark.sql(\n",
        "'''\n",
        "\n",
        "Select\n",
        "min(ano_lancamento) as min_ano_lancamento,\n",
        "max(ano_lancamento) as max_ano_lancamento,\n",
        "count(distinct ano_lancamento) as count_of_ano_lancamento,\n",
        "round(avg(ano_lancamento),2) as avg_of_all_ano_lancamento,\n",
        "sum(ano_lancamento) as avg_of_all_ano_lancamento\n",
        "from netflix\n",
        "limit 1\n",
        "''').show()"
      ],
      "execution_count": 148,
      "outputs": [
        {
          "output_type": "stream",
          "name": "stdout",
          "text": [
            "+------------------+------------------+-----------------------+-------------------------+-------------------------+\n",
            "|min_ano_lancamento|max_ano_lancamento|count_of_ano_lancamento|avg_of_all_ano_lancamento|avg_of_all_ano_lancamento|\n",
            "+------------------+------------------+-----------------------+-------------------------+-------------------------+\n",
            "|              1925|            40 min|                     75|                  2014.19|              1.7736941E7|\n",
            "+------------------+------------------+-----------------------+-------------------------+-------------------------+\n",
            "\n"
          ]
        }
      ]
    },
    {
      "cell_type": "code",
      "metadata": {
        "colab": {
          "base_uri": "https://localhost:8080/"
        },
        "id": "d1UzbaOo9O99",
        "outputId": "2facaaa4-f891-42bf-b8cc-98cf7e1dc4cb"
      },
      "source": [
        "spark.sql(\n",
        "'''\n",
        "\n",
        "Select distinct ' pais that End with ia :- '|| pais as Value from netflix\n",
        "where pais like\"%ia\"\n",
        "union all\n",
        "Select distinct 'pais that Starts with ia :- '|| pais as Value from netflix\n",
        "where pais like\"ia%\"\n",
        "union all\n",
        "Select distinct 'pais that has ia :- '|| pais as Value from netflix\n",
        "where pais like \"%ia%\"\n",
        "union all\n",
        "Select distinct 'pais that starts and ends with a :- '|| pais as Value from netflix\n",
        "where pais like \"a%a%\"\n",
        "''').head(10)"
      ],
      "execution_count": 151,
      "outputs": [
        {
          "output_type": "execute_result",
          "data": {
            "text/plain": [
              "[Row(Value=' pais that End with ia :- Colombia'),\n",
              " Row(Value=' pais that End with ia :- United States, Australia'),\n",
              " Row(Value=' pais that End with ia :- Namibia'),\n",
              " Row(Value=' pais that End with ia :- United Arab Emirates, United Kingdom, India'),\n",
              " Row(Value=' pais that End with ia :- India, Australia'),\n",
              " Row(Value=' pais that End with ia :- Switzerland, United Kingdom, Australia'),\n",
              " Row(Value=' pais that End with ia :- New Zealand, United Kingdom, Australia'),\n",
              " Row(Value=' pais that End with ia :- Australia'),\n",
              " Row(Value=' pais that End with ia :- Saudi Arabia'),\n",
              " Row(Value=' pais that End with ia :- Germany, Australia')]"
            ]
          },
          "metadata": {},
          "execution_count": 151
        }
      ]
    }
  ]
}